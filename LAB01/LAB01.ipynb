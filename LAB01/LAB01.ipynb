{
  "metadata": {
    "kernelspec": {
      "name": "python",
      "display_name": "Python (Pyodide)",
      "language": "python"
    },
    "language_info": {
      "codemirror_mode": {
        "name": "python",
        "version": 3
      },
      "file_extension": ".py",
      "mimetype": "text/x-python",
      "name": "python",
      "nbconvert_exporter": "python",
      "pygments_lexer": "ipython3",
      "version": "3.8"
    }
  },
  "nbformat_minor": 5,
  "nbformat": 4,
  "cells": [
    {
      "id": "1e254d9c-b3a8-43fc-a8c2-2eb1a484769a",
      "cell_type": "markdown",
      "source": "# Part 1 Datasets Download",
      "metadata": {}
    },
    {
      "id": "4208e885-24e9-479f-bd3d-1c76ae4be1b9",
      "cell_type": "markdown",
      "source": "# Part 2 Warm-Up with NumPy",
      "metadata": {}
    },
    {
      "id": "b2da98c9-21a3-4cbb-af4b-f49ad9710158",
      "cell_type": "markdown",
      "source": "# es 2.1",
      "metadata": {}
    },
    {
      "id": "e4b81acb-5bfd-4455-837d-f70e331a9dc7",
      "cell_type": "code",
      "source": "import numpy as np\n\n# === 2.1 Array creation and attributes ===\na = np.array([[1,2,3],[4,5,6]], dtype=np.int32)\nzeros = np.zeros((2,3), dtype=float)\nones  = np.ones((3,1), dtype=np.float64)\nfull  = np.full((2,2), fill_value=-7)\nlin   = np.linspace(0, 1, 5)\narr   = np.arange(0, 10, 2)\n\nout = {\n    \"a.ndim\": a.ndim, \"a.shape\": a.shape, \"a.size\": a.size, \"a.dtype\": a.dtype,\n    \"zeros.shape\": zeros.shape, \"ones.dtype\": ones.dtype,\n    \"lin\": lin, \"arr\": arr\n}\nout",
      "metadata": {
        "trusted": true
      },
      "outputs": [
        {
          "execution_count": 26,
          "output_type": "execute_result",
          "data": {
            "text/plain": "{'a.ndim': 2,\n 'a.shape': (2, 3),\n 'a.size': 6,\n 'a.dtype': dtype('int32'),\n 'zeros.shape': (2, 3),\n 'ones.dtype': dtype('float64'),\n 'lin': array([0.  , 0.25, 0.5 , 0.75, 1.  ]),\n 'arr': array([0, 2, 4, 6, 8])}"
          },
          "metadata": {}
        }
      ],
      "execution_count": 26
    },
    {
      "id": "9c6f4a1f-acd2-4574-97bb-eeffcb3aa26a",
      "cell_type": "code",
      "source": "a = np.array([[1,2,3],[4,5,6]], dtype=np.int32)\nb = np.array([[1,2,3],[4,5,6]], dtype=np.int64)\nc = np.array([[1,2,3],[4,5,6]], dtype=np.float64)\nprint(a.nbytes, b.nbytes, c.nbytes)",
      "metadata": {
        "trusted": true
      },
      "outputs": [
        {
          "name": "stdout",
          "output_type": "stream",
          "text": "24 48 48\n"
        }
      ],
      "execution_count": 27
    },
    {
      "id": "533c547f-87e1-40f1-ba5e-3b82bb91c71c",
      "cell_type": "markdown",
      "source": "# es 2.2",
      "metadata": {}
    },
    {
      "id": "18cd0ff9-a09d-4c27-9947-2b58dc695938",
      "cell_type": "code",
      "source": "# === 2.2 Universal functions, aggregations, and sorting ===\nx = np.array([[1.,1.],[2.,2.]])\ny = np.array([[3.,4.],[6.,5.]])\n\nprod = x * y               # element-wise\nexp  = np.exp(x)           # ufunc\nsum0 = x.sum(axis=0)       # along rows (columns result)\nmean = x.mean()              # global mean\nstd = x.std()              # global std\nmean1 = x.mean(axis=1)      # along columns (rows result)\nstd1 = x.std(axis=1)        # along columns (rows result)\n\nprint(f\"array x:{x} , array y: {y}\")\nprint(f\"prodotto: {prod}\")\nprint(f\"exp: {exp}\")\nprint(f\"sum0: {sum0}\")\nprint(f\"mean: {mean}\")\nprint(f\"std: {std}\")\nprint(f\"mean1: {mean1}\")\nprint(f\"std1: {std1}\")",
      "metadata": {
        "trusted": true
      },
      "outputs": [
        {
          "name": "stdout",
          "output_type": "stream",
          "text": "array x:[[1. 1.]\n [2. 2.]] , array y: [[3. 4.]\n [6. 5.]]\nprodotto: [[ 3.  4.]\n [12. 10.]]\nexp: [[2.71828183 2.71828183]\n [7.3890561  7.3890561 ]]\nsum0: [3. 3.]\nmean: 1.5\nstd: 0.5\nmean1: [1. 2.]\nstd1: [0. 0.]\n"
        }
      ],
      "execution_count": 28
    },
    {
      "id": "6cfdf906-fafc-4a99-9c0a-a9e5c41eba47",
      "cell_type": "code",
      "source": "arg = y.argmax()           # index of max in flattened array\narg_row = y.argmax(axis=1)    # index of max in each row\narg_column = y.argmax(axis=0)   # index of max in each column\n\nprint(arg)\nprint(arg_row)\nprint(arg_column)",
      "metadata": {
        "trusted": true
      },
      "outputs": [
        {
          "name": "stdout",
          "output_type": "stream",
          "text": "2\n[1 0]\n[1 1]\n"
        }
      ],
      "execution_count": 29
    },
    {
      "id": "4cb6e741-a6c8-4123-9328-821c35e54f34",
      "cell_type": "code",
      "source": "# Sorting & ranking\nm = np.array([[2,7,3],[7,2,1]])\nsort_row = np.sort(m, axis=1)   # sort each row independently\nargs_row = np.argsort(m, axis=1) # indices that sort each row\nprint(sort_row)\nprint(args_row)",
      "metadata": {
        "trusted": true
      },
      "outputs": [
        {
          "name": "stdout",
          "output_type": "stream",
          "text": "[[2 3 7]\n [1 2 7]]\n[[0 2 1]\n [2 1 0]]\n"
        }
      ],
      "execution_count": 30
    },
    {
      "id": "05e22b34-e541-4cd2-a285-36e276fe2238",
      "cell_type": "markdown",
      "source": "# es 2.3",
      "metadata": {}
    },
    {
      "id": "1c0e7868-2cec-43cd-9cfa-1eb9fa2103a9",
      "cell_type": "code",
      "source": "# === 2.3 Broadcasting (column-wise normalization) ===\nD = np.array([[0,3,6,6],\n              [1,2,5,7],\n              [2,4,4,8]], dtype=np.float64)\n\nprint(D)",
      "metadata": {
        "trusted": true
      },
      "outputs": [
        {
          "name": "stdout",
          "output_type": "stream",
          "text": "[[0. 3. 6. 6.]\n [1. 2. 5. 7.]\n [2. 4. 4. 8.]]\n"
        }
      ],
      "execution_count": 31
    },
    {
      "id": "a22b3640-23d9-4e6a-93d2-e835985342b0",
      "cell_type": "code",
      "source": "mn = D.min(axis=0)        # shape (4,)\nmx = D.max(axis=0)        # shape (4,)\n\nprint(mn)\nprint(mx)",
      "metadata": {
        "trusted": true
      },
      "outputs": [
        {
          "name": "stdout",
          "output_type": "stream",
          "text": "[0. 2. 4. 6.]\n[2. 4. 6. 8.]\n"
        }
      ],
      "execution_count": 32
    },
    {
      "id": "12d28889-b4c6-4575-912b-9ba90f9b2f2e",
      "cell_type": "code",
      "source": "norm = (D - mn) / (mx - mn)  # broadcasting over rows\nprint(norm)",
      "metadata": {
        "trusted": true
      },
      "outputs": [
        {
          "name": "stdout",
          "output_type": "stream",
          "text": "[[0.  0.5 1.  0. ]\n [0.5 0.  0.5 0.5]\n [1.  1.  0.  1. ]]\n"
        }
      ],
      "execution_count": 33
    },
    {
      "id": "60041efa-1345-4d2c-8e45-079fced1c571",
      "cell_type": "code",
      "source": "# un altro esempio\nD = np.array([[2, 5],[0,4]])",
      "metadata": {
        "trusted": true
      },
      "outputs": [],
      "execution_count": 34
    },
    {
      "id": "9cbdc08d-58e3-48ae-b765-66cfbccb3c29",
      "cell_type": "code",
      "source": "m = D.min(axis=0)\nM = D.max(axis=0)\nm,M",
      "metadata": {
        "trusted": true
      },
      "outputs": [
        {
          "execution_count": 37,
          "output_type": "execute_result",
          "data": {
            "text/plain": "(array([0, 4]), array([2, 5]))"
          },
          "metadata": {}
        }
      ],
      "execution_count": 37
    },
    {
      "id": "f3d9feb1-aa92-4be7-aa8f-90e4b6021149",
      "cell_type": "code",
      "source": "(D-m) / (M-m)",
      "metadata": {
        "trusted": true
      },
      "outputs": [
        {
          "execution_count": 38,
          "output_type": "execute_result",
          "data": {
            "text/plain": "array([[1., 1.],\n       [0., 0.]])"
          },
          "metadata": {}
        }
      ],
      "execution_count": 38
    },
    {
      "id": "fbe697a8-5e05-48b9-9484-6f3039cc3802",
      "cell_type": "markdown",
      "source": "# es 2.4",
      "metadata": {}
    },
    {
      "id": "03133408-4409-4a15-8b55-476ca567c80f",
      "cell_type": "code",
      "source": "# === 2.4 Indexing and views vs copies ===\nA = np.arange(1, 13).reshape(3, 4)\nprint(A)",
      "metadata": {
        "trusted": true
      },
      "outputs": [
        {
          "name": "stdout",
          "output_type": "stream",
          "text": "[[ 1  2  3  4]\n [ 5  6  7  8]\n [ 9 10 11 12]]\n"
        }
      ],
      "execution_count": 39
    },
    {
      "id": "a9f8c442-4994-4eb5-8f44-c76e8ec5b28c",
      "cell_type": "code",
      "source": "b = A[:2, :2] # top-left 2x2 subarray # dall'inzio alla seconda riga e alla seconda colonna\nc = A[:, -2:] # last two columns # tutte le righe ma prendendo le ultime due colonne\n\nprint(b)\nprint(c)",
      "metadata": {
        "trusted": true
      },
      "outputs": [
        {
          "name": "stdout",
          "output_type": "stream",
          "text": "[[1 2]\n [5 6]]\n[[ 3  4]\n [ 7  8]\n [11 12]]\n"
        }
      ],
      "execution_count": 41
    },
    {
      "id": "673e56b2-bc53-4b20-9b6a-20fc5ab430e5",
      "cell_type": "code",
      "source": "mask = A > 6 # boolean mask\nA[mask] = -1 # set values > 6 to -1\nprint(A)",
      "metadata": {
        "trusted": true
      },
      "outputs": [
        {
          "name": "stdout",
          "output_type": "stream",
          "text": "[[ 1  2  3  4]\n [ 5  6 -1 -1]\n [-1 -1 -1 -1]]\n"
        }
      ],
      "execution_count": 43
    },
    {
      "id": "dde003fe-434d-4438-9fc0-89839a60ac3f",
      "cell_type": "code",
      "source": "A = np.arange(1, 13).reshape(3, 4)\nrows_view = A[1:3]     # view\nprint(rows_view)",
      "metadata": {
        "trusted": true
      },
      "outputs": [
        {
          "name": "stdout",
          "output_type": "stream",
          "text": "[[ 5  6  7  8]\n [ 9 10 11 12]]\n"
        }
      ],
      "execution_count": 44
    },
    {
      "id": "9fb29003-7a75-4a22-bd4e-ea7396269731",
      "cell_type": "code",
      "source": "rows_view[:] = 999\nprint(A)",
      "metadata": {
        "trusted": true
      },
      "outputs": [
        {
          "name": "stdout",
          "output_type": "stream",
          "text": "[[  1   2   3   4]\n [999 999 999 999]\n [999 999 999 999]]\n"
        }
      ],
      "execution_count": 45
    },
    {
      "id": "be8843ea-c9fe-4a17-8680-f8b57bd5831e",
      "cell_type": "code",
      "source": "rows_copy = A[1:3].copy() \nrows_copy[:] = 555      \nprint(A)",
      "metadata": {
        "trusted": true
      },
      "outputs": [
        {
          "name": "stdout",
          "output_type": "stream",
          "text": "[[  1   2   3   4]\n [999 999 999 999]\n [999 999 999 999]]\n"
        }
      ],
      "execution_count": 46
    },
    {
      "id": "1dbd2770-dbf1-455c-84ad-d3e15c395e30",
      "cell_type": "code",
      "source": "sub = A[[0, 2]][:, [1, 3]]  # rows 0 & 2, cols 1 & 3\nprint(sub)",
      "metadata": {
        "trusted": true
      },
      "outputs": [
        {
          "name": "stdout",
          "output_type": "stream",
          "text": "[[  2   4]\n [999 999]]\n"
        }
      ],
      "execution_count": 47
    },
    {
      "id": "085df5d8-1e94-4fa8-9aca-cff99188d63a",
      "cell_type": "code",
      "source": "A[[0,2],[1,2]] # prendo gli elementi quindi ci deve essere ematch tra le dimensioni",
      "metadata": {
        "trusted": true
      },
      "outputs": [
        {
          "execution_count": 49,
          "output_type": "execute_result",
          "data": {
            "text/plain": "array([  2, 999])"
          },
          "metadata": {}
        }
      ],
      "execution_count": 49
    },
    {
      "id": "6103b1fa-1a26-4d18-9c08-f74f38a4bbb5",
      "cell_type": "markdown",
      "source": "# Part 3 Iris Dataset with NumPy",
      "metadata": {}
    },
    {
      "id": "18332404-7525-4014-b5b8-7772e5e3e191",
      "cell_type": "markdown",
      "source": "# es 3.1",
      "metadata": {}
    },
    {
      "id": "7aafdd55-3a4d-4dc9-962f-ebeedabf69e7",
      "cell_type": "code",
      "source": "# This command reads the CSV file and stores its contents in two structured\n# NumPy arrays, one containing numerical measurements (X) \n# and the other containing text labels (y).\nX = np.genfromtxt(\"iris.csv\", delimiter = \",\", usecols = (0, 1, 2, 3) , dtype = float) # (150*4)\ny = np.genfromtxt (\"iris.csv\", delimiter = \",\", usecols = 4 , dtype = str) # (150,)",
      "metadata": {
        "trusted": true
      },
      "outputs": [],
      "execution_count": 53
    },
    {
      "id": "8d860662-b048-4db2-8b21-8eb4c3f39942",
      "cell_type": "code",
      "source": "X, y",
      "metadata": {
        "trusted": true
      },
      "outputs": [
        {
          "execution_count": 54,
          "output_type": "execute_result",
          "data": {
            "text/plain": "(array([[5.1, 3.5, 1.4, 0.2],\n        [4.9, 3. , 1.4, 0.2],\n        [4.7, 3.2, 1.3, 0.2],\n        [4.6, 3.1, 1.5, 0.2],\n        [5. , 3.6, 1.4, 0.2],\n        [5.4, 3.9, 1.7, 0.4],\n        [4.6, 3.4, 1.4, 0.3],\n        [5. , 3.4, 1.5, 0.2],\n        [4.4, 2.9, 1.4, 0.2],\n        [4.9, 3.1, 1.5, 0.1],\n        [5.4, 3.7, 1.5, 0.2],\n        [4.8, 3.4, 1.6, 0.2],\n        [4.8, 3. , 1.4, 0.1],\n        [4.3, 3. , 1.1, 0.1],\n        [5.8, 4. , 1.2, 0.2],\n        [5.7, 4.4, 1.5, 0.4],\n        [5.4, 3.9, 1.3, 0.4],\n        [5.1, 3.5, 1.4, 0.3],\n        [5.7, 3.8, 1.7, 0.3],\n        [5.1, 3.8, 1.5, 0.3],\n        [5.4, 3.4, 1.7, 0.2],\n        [5.1, 3.7, 1.5, 0.4],\n        [4.6, 3.6, 1. , 0.2],\n        [5.1, 3.3, 1.7, 0.5],\n        [4.8, 3.4, 1.9, 0.2],\n        [5. , 3. , 1.6, 0.2],\n        [5. , 3.4, 1.6, 0.4],\n        [5.2, 3.5, 1.5, 0.2],\n        [5.2, 3.4, 1.4, 0.2],\n        [4.7, 3.2, 1.6, 0.2],\n        [4.8, 3.1, 1.6, 0.2],\n        [5.4, 3.4, 1.5, 0.4],\n        [5.2, 4.1, 1.5, 0.1],\n        [5.5, 4.2, 1.4, 0.2],\n        [4.9, 3.1, 1.5, 0.1],\n        [5. , 3.2, 1.2, 0.2],\n        [5.5, 3.5, 1.3, 0.2],\n        [4.9, 3.1, 1.5, 0.1],\n        [4.4, 3. , 1.3, 0.2],\n        [5.1, 3.4, 1.5, 0.2],\n        [5. , 3.5, 1.3, 0.3],\n        [4.5, 2.3, 1.3, 0.3],\n        [4.4, 3.2, 1.3, 0.2],\n        [5. , 3.5, 1.6, 0.6],\n        [5.1, 3.8, 1.9, 0.4],\n        [4.8, 3. , 1.4, 0.3],\n        [5.1, 3.8, 1.6, 0.2],\n        [4.6, 3.2, 1.4, 0.2],\n        [5.3, 3.7, 1.5, 0.2],\n        [5. , 3.3, 1.4, 0.2],\n        [7. , 3.2, 4.7, 1.4],\n        [6.4, 3.2, 4.5, 1.5],\n        [6.9, 3.1, 4.9, 1.5],\n        [5.5, 2.3, 4. , 1.3],\n        [6.5, 2.8, 4.6, 1.5],\n        [5.7, 2.8, 4.5, 1.3],\n        [6.3, 3.3, 4.7, 1.6],\n        [4.9, 2.4, 3.3, 1. ],\n        [6.6, 2.9, 4.6, 1.3],\n        [5.2, 2.7, 3.9, 1.4],\n        [5. , 2. , 3.5, 1. ],\n        [5.9, 3. , 4.2, 1.5],\n        [6. , 2.2, 4. , 1. ],\n        [6.1, 2.9, 4.7, 1.4],\n        [5.6, 2.9, 3.6, 1.3],\n        [6.7, 3.1, 4.4, 1.4],\n        [5.6, 3. , 4.5, 1.5],\n        [5.8, 2.7, 4.1, 1. ],\n        [6.2, 2.2, 4.5, 1.5],\n        [5.6, 2.5, 3.9, 1.1],\n        [5.9, 3.2, 4.8, 1.8],\n        [6.1, 2.8, 4. , 1.3],\n        [6.3, 2.5, 4.9, 1.5],\n        [6.1, 2.8, 4.7, 1.2],\n        [6.4, 2.9, 4.3, 1.3],\n        [6.6, 3. , 4.4, 1.4],\n        [6.8, 2.8, 4.8, 1.4],\n        [6.7, 3. , 5. , 1.7],\n        [6. , 2.9, 4.5, 1.5],\n        [5.7, 2.6, 3.5, 1. ],\n        [5.5, 2.4, 3.8, 1.1],\n        [5.5, 2.4, 3.7, 1. ],\n        [5.8, 2.7, 3.9, 1.2],\n        [6. , 2.7, 5.1, 1.6],\n        [5.4, 3. , 4.5, 1.5],\n        [6. , 3.4, 4.5, 1.6],\n        [6.7, 3.1, 4.7, 1.5],\n        [6.3, 2.3, 4.4, 1.3],\n        [5.6, 3. , 4.1, 1.3],\n        [5.5, 2.5, 4. , 1.3],\n        [5.5, 2.6, 4.4, 1.2],\n        [6.1, 3. , 4.6, 1.4],\n        [5.8, 2.6, 4. , 1.2],\n        [5. , 2.3, 3.3, 1. ],\n        [5.6, 2.7, 4.2, 1.3],\n        [5.7, 3. , 4.2, 1.2],\n        [5.7, 2.9, 4.2, 1.3],\n        [6.2, 2.9, 4.3, 1.3],\n        [5.1, 2.5, 3. , 1.1],\n        [5.7, 2.8, 4.1, 1.3],\n        [6.3, 3.3, 6. , 2.5],\n        [5.8, 2.7, 5.1, 1.9],\n        [7.1, 3. , 5.9, 2.1],\n        [6.3, 2.9, 5.6, 1.8],\n        [6.5, 3. , 5.8, 2.2],\n        [7.6, 3. , 6.6, 2.1],\n        [4.9, 2.5, 4.5, 1.7],\n        [7.3, 2.9, 6.3, 1.8],\n        [6.7, 2.5, 5.8, 1.8],\n        [7.2, 3.6, 6.1, 2.5],\n        [6.5, 3.2, 5.1, 2. ],\n        [6.4, 2.7, 5.3, 1.9],\n        [6.8, 3. , 5.5, 2.1],\n        [5.7, 2.5, 5. , 2. ],\n        [5.8, 2.8, 5.1, 2.4],\n        [6.4, 3.2, 5.3, 2.3],\n        [6.5, 3. , 5.5, 1.8],\n        [7.7, 3.8, 6.7, 2.2],\n        [7.7, 2.6, 6.9, 2.3],\n        [6. , 2.2, 5. , 1.5],\n        [6.9, 3.2, 5.7, 2.3],\n        [5.6, 2.8, 4.9, 2. ],\n        [7.7, 2.8, 6.7, 2. ],\n        [6.3, 2.7, 4.9, 1.8],\n        [6.7, 3.3, 5.7, 2.1],\n        [7.2, 3.2, 6. , 1.8],\n        [6.2, 2.8, 4.8, 1.8],\n        [6.1, 3. , 4.9, 1.8],\n        [6.4, 2.8, 5.6, 2.1],\n        [7.2, 3. , 5.8, 1.6],\n        [7.4, 2.8, 6.1, 1.9],\n        [7.9, 3.8, 6.4, 2. ],\n        [6.4, 2.8, 5.6, 2.2],\n        [6.3, 2.8, 5.1, 1.5],\n        [6.1, 2.6, 5.6, 1.4],\n        [7.7, 3. , 6.1, 2.3],\n        [6.3, 3.4, 5.6, 2.4],\n        [6.4, 3.1, 5.5, 1.8],\n        [6. , 3. , 4.8, 1.8],\n        [6.9, 3.1, 5.4, 2.1],\n        [6.7, 3.1, 5.6, 2.4],\n        [6.9, 3.1, 5.1, 2.3],\n        [5.8, 2.7, 5.1, 1.9],\n        [6.8, 3.2, 5.9, 2.3],\n        [6.7, 3.3, 5.7, 2.5],\n        [6.7, 3. , 5.2, 2.3],\n        [6.3, 2.5, 5. , 1.9],\n        [6.5, 3. , 5.2, 2. ],\n        [6.2, 3.4, 5.4, 2.3],\n        [5.9, 3. , 5.1, 1.8]]),\n array(['Iris-setosa', 'Iris-setosa', 'Iris-setosa', 'Iris-setosa',\n        'Iris-setosa', 'Iris-setosa', 'Iris-setosa', 'Iris-setosa',\n        'Iris-setosa', 'Iris-setosa', 'Iris-setosa', 'Iris-setosa',\n        'Iris-setosa', 'Iris-setosa', 'Iris-setosa', 'Iris-setosa',\n        'Iris-setosa', 'Iris-setosa', 'Iris-setosa', 'Iris-setosa',\n        'Iris-setosa', 'Iris-setosa', 'Iris-setosa', 'Iris-setosa',\n        'Iris-setosa', 'Iris-setosa', 'Iris-setosa', 'Iris-setosa',\n        'Iris-setosa', 'Iris-setosa', 'Iris-setosa', 'Iris-setosa',\n        'Iris-setosa', 'Iris-setosa', 'Iris-setosa', 'Iris-setosa',\n        'Iris-setosa', 'Iris-setosa', 'Iris-setosa', 'Iris-setosa',\n        'Iris-setosa', 'Iris-setosa', 'Iris-setosa', 'Iris-setosa',\n        'Iris-setosa', 'Iris-setosa', 'Iris-setosa', 'Iris-setosa',\n        'Iris-setosa', 'Iris-setosa', 'Iris-versicolor', 'Iris-versicolor',\n        'Iris-versicolor', 'Iris-versicolor', 'Iris-versicolor',\n        'Iris-versicolor', 'Iris-versicolor', 'Iris-versicolor',\n        'Iris-versicolor', 'Iris-versicolor', 'Iris-versicolor',\n        'Iris-versicolor', 'Iris-versicolor', 'Iris-versicolor',\n        'Iris-versicolor', 'Iris-versicolor', 'Iris-versicolor',\n        'Iris-versicolor', 'Iris-versicolor', 'Iris-versicolor',\n        'Iris-versicolor', 'Iris-versicolor', 'Iris-versicolor',\n        'Iris-versicolor', 'Iris-versicolor', 'Iris-versicolor',\n        'Iris-versicolor', 'Iris-versicolor', 'Iris-versicolor',\n        'Iris-versicolor', 'Iris-versicolor', 'Iris-versicolor',\n        'Iris-versicolor', 'Iris-versicolor', 'Iris-versicolor',\n        'Iris-versicolor', 'Iris-versicolor', 'Iris-versicolor',\n        'Iris-versicolor', 'Iris-versicolor', 'Iris-versicolor',\n        'Iris-versicolor', 'Iris-versicolor', 'Iris-versicolor',\n        'Iris-versicolor', 'Iris-versicolor', 'Iris-versicolor',\n        'Iris-versicolor', 'Iris-versicolor', 'Iris-versicolor',\n        'Iris-virginica', 'Iris-virginica', 'Iris-virginica',\n        'Iris-virginica', 'Iris-virginica', 'Iris-virginica',\n        'Iris-virginica', 'Iris-virginica', 'Iris-virginica',\n        'Iris-virginica', 'Iris-virginica', 'Iris-virginica',\n        'Iris-virginica', 'Iris-virginica', 'Iris-virginica',\n        'Iris-virginica', 'Iris-virginica', 'Iris-virginica',\n        'Iris-virginica', 'Iris-virginica', 'Iris-virginica',\n        'Iris-virginica', 'Iris-virginica', 'Iris-virginica',\n        'Iris-virginica', 'Iris-virginica', 'Iris-virginica',\n        'Iris-virginica', 'Iris-virginica', 'Iris-virginica',\n        'Iris-virginica', 'Iris-virginica', 'Iris-virginica',\n        'Iris-virginica', 'Iris-virginica', 'Iris-virginica',\n        'Iris-virginica', 'Iris-virginica', 'Iris-virginica',\n        'Iris-virginica', 'Iris-virginica', 'Iris-virginica',\n        'Iris-virginica', 'Iris-virginica', 'Iris-virginica',\n        'Iris-virginica', 'Iris-virginica', 'Iris-virginica',\n        'Iris-virginica', 'Iris-virginica'], dtype='<U15'))"
          },
          "metadata": {}
        }
      ],
      "execution_count": 54
    },
    {
      "id": "5581f34b-b9f8-4cc5-ba9b-180b7b871b66",
      "cell_type": "code",
      "source": "print(X.shape), print(y.shape), print(np.unique(y))",
      "metadata": {
        "trusted": true
      },
      "outputs": [
        {
          "name": "stdout",
          "output_type": "stream",
          "text": "(150, 4)\n(150,)\n['Iris-setosa' 'Iris-versicolor' 'Iris-virginica']\n"
        },
        {
          "execution_count": 55,
          "output_type": "execute_result",
          "data": {
            "text/plain": "(None, None, None)"
          },
          "metadata": {}
        }
      ],
      "execution_count": 55
    },
    {
      "id": "8ba8539b-4337-4925-b19f-61af5f6eebb0",
      "cell_type": "code",
      "source": "# Computing global statistics for each feature\nfeature_names = np.array([\"sepal_len\",\"sepal_wid\",\"petal_len\",\"petal_wid\"])\nmu = X.mean(axis=0) # media\nsd = X.std(axis=0) # deviazione standard\nfor name, m, s in zip(feature_names, mu, sd):\n    print(f\"{name}: mean={m:.2f}, std={s:.2f}\")",
      "metadata": {
        "trusted": true
      },
      "outputs": [
        {
          "name": "stdout",
          "output_type": "stream",
          "text": "sepal_len: mean=5.84, std=0.83\nsepal_wid: mean=3.05, std=0.43\npetal_len: mean=3.76, std=1.76\npetal_wid: mean=1.20, std=0.76\n"
        }
      ],
      "execution_count": 56
    },
    {
      "id": "c47937dc-3ee9-478e-8f44-5b2137c41f0a",
      "cell_type": "code",
      "source": "# Analyzing statistics by species:\nclasses = np.unique(y)\nfor c in classes:\n    mask = (y == c)\n    mean = X[mask].mean(axis=0) # faccio la media per ogni classe sulle 4 feature\n    std = X[mask].std(axis=0) # faccio  la std per ogni classe sulle 4 feature\n    print(c, mean, std)",
      "metadata": {
        "trusted": true
      },
      "outputs": [
        {
          "name": "stdout",
          "output_type": "stream",
          "text": "Iris-setosa [5.006 3.418 1.464 0.244] [0.34894699 0.37719491 0.17176728 0.10613199]\nIris-versicolor [5.936 2.77  4.26  1.326] [0.51098337 0.31064449 0.46518813 0.19576517]\nIris-virginica [6.588 2.974 5.552 2.026] [0.62948868 0.31925538 0.54634787 0.27188968]\n"
        }
      ],
      "execution_count": 58
    },
    {
      "id": "4b9b8ec8-48cc-42e0-b72b-025fe7b79e3a",
      "cell_type": "markdown",
      "source": "# es 3.2",
      "metadata": {}
    },
    {
      "id": "05319df1-492a-43e5-9a36-4c30cbf7444b",
      "cell_type": "code",
      "source": "# === 3.2 Feature standardization ===\nX_mean = X.mean(axis=0)\nX_std  = X.std(axis=0)\nZ = (X - X_mean) / X_std\nZ_mean = Z.mean(axis=0)\nZ_std  = Z.std(axis=0)\n\nprint(Z_mean) # media deve essere 0 su tutte le colonne\nprint(Z_std) # std deve essere 1 su tutte le colonne\nprint(Z.shape) # stesse dimensioni di X",
      "metadata": {
        "trusted": true
      },
      "outputs": [
        {
          "name": "stdout",
          "output_type": "stream",
          "text": "[-1.69031455e-15 -1.63702385e-15 -1.48251781e-15 -1.62314606e-15]\n[1. 1. 1. 1.]\n(150, 4)\n"
        }
      ],
      "execution_count": 60
    },
    {
      "id": "b227c33c-c0be-4b1a-a051-90ef58647af5",
      "cell_type": "markdown",
      "source": "# es 3.3",
      "metadata": {}
    },
    {
      "id": "b19412ba-7cc0-481f-b0ae-01d44211970e",
      "cell_type": "code",
      "source": "# === 3.3 (*) Naïve single-feature classifier ===\n# Choose feature with the largest *minimum* pairwise distance among class means\nclasses = np.unique(y)\nmeans = np.vstack([X[y==c].mean(axis=0) for c in classes])  # vertical stack of class means \nprint(means)",
      "metadata": {
        "trusted": true
      },
      "outputs": [
        {
          "name": "stdout",
          "output_type": "stream",
          "text": "[[5.006 3.418 1.464 0.244]\n [5.936 2.77  4.26  1.326]\n [6.588 2.974 5.552 2.026]]\n"
        }
      ],
      "execution_count": 67
    },
    {
      "id": "d6742e5e-5e8b-4b64-982a-df9a1cf27d6d",
      "cell_type": "code",
      "source": "from itertools import combinations\n# Get all unique pairs of class indices\nclass_pairs = np.array(list(combinations(range(len(classes)), 2)))\n# Compute differences for all pairs and features at once\npair_diffs = np.abs(means[class_pairs[:, 0], :] - means[class_pairs[:, 1], :])\n# Find minimum separation for each feature\nmin_sep_by_feat = np.min(pair_diffs, axis=0)\nprint(min_sep_by_feat) # Ti mostra, per ciascuna feature, la distanza minima tra due specie.",
      "metadata": {
        "trusted": true
      },
      "outputs": [
        {
          "name": "stdout",
          "output_type": "stream",
          "text": "[0.652 0.204 1.292 0.7  ]\n"
        }
      ],
      "execution_count": 68
    },
    {
      "id": "8daa71a1-6e0f-4ecb-b1d0-0b5df9aaa21e",
      "cell_type": "code",
      "source": "# Select best feature\nbest_feat = int(np.argmax(min_sep_by_feat)) # restituisce l’indice del valore massimo → cioè la feature con la migliore separazione tra classi.\nbest_feat_name = feature_names[best_feat]\nprint(f\"Best feature: {best_feat} ({best_feat_name})\")\n# Significa che la lunghezza del petalo da sola è sufficiente a separare quasi perfettamente le tre specie",
      "metadata": {
        "trusted": true
      },
      "outputs": [
        {
          "name": "stdout",
          "output_type": "stream",
          "text": "Best feature: 2 (petal_len)\n"
        }
      ],
      "execution_count": 69
    },
    {
      "id": "797c0faa-1638-4458-9643-54759acc65db",
      "cell_type": "code",
      "source": "# Simple thresholding rule on best feature: midpoints between class means (sorted)\nm = means[:, best_feat] # vettore delle medie di quella feature per ciascuna classe\norder = np.argsort(m) # ordina le classi in base al valore medio crescente\nm_sorted = m[order] # medie ordinate\nclasses_sorted = classes[order] # nomi delle specie ordinate nello stesso ordine\nprint(m_sorted)\n\n# two midpoints separating 3 classes\n# Calcoli i punti medi tra le medie delle specie consecutive --> calcolo delle soglie tra una classe e l'altra\nt1 = 0.5*(m_sorted[0] + m_sorted[1])\nt2 = 0.5*(m_sorted[1] + m_sorted[2])\n# Le soglie trovate (t1, t2) dividono bene le specie\nprint(t1, t2)\n\n# extract the feature and apply the thresholds\nfeature_values = X[:, best_feat] # Estrai solo la colonna corrispondente alla feature migliore.\n# Usi np.where annidato per classificare ogni campione in base alle soglie.\npredictions = np.where(feature_values < t1, 0,\n               np.where(feature_values < t2, 1, 2))\n\n# map back to original class names\n# Conversione da indice a nome di classe\npredictions_classes = classes_sorted[predictions]\n\n# Calcolo dell’accuratezza\n# Confronta le predizioni con le etichette vere (y).\n# Calcola la percentuale di classificazioni corrette (accuratezza).\nacc = (predictions_classes == y).mean()\nprint(acc) # Il classificatore, pur usando solo una variabile, riconosce correttamente circa il 95% dei fiori.",
      "metadata": {
        "trusted": true
      },
      "outputs": [
        {
          "name": "stdout",
          "output_type": "stream",
          "text": "[1.464 4.26  5.552]\n2.862 4.906\n0.9466666666666667\n"
        }
      ],
      "execution_count": 70
    },
    {
      "id": "33883187-5ce3-435a-a957-3a3a4d490191",
      "cell_type": "markdown",
      "source": "# Part 4 MNIST Dataset with NumPy",
      "metadata": {}
    },
    {
      "id": "f2d60792-26b9-4c05-9ccb-f2e8a6159962",
      "cell_type": "markdown",
      "source": "# es 4.1",
      "metadata": {}
    },
    {
      "id": "1414cb20-ce40-4dff-8c40-3201ba078ac5",
      "cell_type": "code",
      "source": "y = np.genfromtxt(\"mnist_test.csv\", delimiter = \",\", usecols = (0) , dtype = int)\nX = np.genfromtxt (\"mnist_test.csv\", delimiter = \",\", usecols = range(1,785) , dtype = int)\nX.shape, y.shape",
      "metadata": {
        "trusted": true
      },
      "outputs": [
        {
          "execution_count": 71,
          "output_type": "execute_result",
          "data": {
            "text/plain": "((10000, 784), (10000,))"
          },
          "metadata": {}
        }
      ],
      "execution_count": 71
    },
    {
      "id": "c16bd946-15f2-4172-9099-cf063edc638b",
      "cell_type": "markdown",
      "source": "# es 4.2",
      "metadata": {}
    },
    {
      "id": "4566e6c7-a147-4fd6-9aa7-29332986ec33",
      "cell_type": "code",
      "source": "# prima soluzione\nimg = X[1].reshape((28,28))\nfoto = np.full(img.shape, \" \", dtype=str)\nmask1 = img<64\nfoto[mask1] = \" \"\nmask2 = (img>=64) & (img < 128)\nfoto[mask2] = \".\"\nmask3 = (img>=128) & (img < 192)\nfoto[mask3] = \"*\"\nmask4 = (img>=192) & (img < 256)\nfoto[mask4] = \"#\"\n# stampa in ascii\nfor riga in foto:\n    print(\"\".join(riga))",
      "metadata": {
        "trusted": true
      },
      "outputs": [
        {
          "name": "stdout",
          "output_type": "stream",
          "text": "                            \n                            \n                            \n          ..*##*.           \n         *#######           \n        *####**##.          \n        ###    ##*          \n       .##    .##.          \n              ###.          \n             .###           \n            .###            \n            *##*            \n           *##*             \n           ###              \n          ###*              \n         .##*               \n         ###*               \n        *##*                \n        ###                 \n        ###           ****  \n        ########***#######. \n        *##############*..  \n         ....*###*..        \n                            \n                            \n                            \n                            \n                            \n"
        }
      ],
      "execution_count": 72
    },
    {
      "id": "5b1af657-ecce-4e5e-b6ce-9a7953cfacf9",
      "cell_type": "code",
      "source": "# === 4.2 Visual inspection of samples ===\n# soluzione prof\ndef ascii_render(vec, rows=28, cols=28):\n    img = vec.reshape(rows, cols)\n    \n    chars = np.empty_like(img, dtype=str)\n    \n    chars[img < 64] = \" \"\n    chars[(img >= 64) & (img < 128)] = \".\"\n    chars[(img >= 128) & (img < 192)] = \"*\"\n    chars[img >= 192] = \"#\"\n    \n    return \"\\n\".join(\"\".join(row) for row in chars)\n\nprint(ascii_render(X[18]))",
      "metadata": {
        "trusted": true
      },
      "outputs": [
        {
          "name": "stdout",
          "output_type": "stream",
          "text": "                            \n                            \n                            \n                            \n        **                  \n      *####*                \n     *#######.              \n     .##*..###*             \n     *#*    ###*            \n     ##      ###*           \n     *#       ###.          \n     *#  .*...*##.          \n     .#. #########.         \n      .  ###########.       \n         .**##########      \n                  *###*     \n                    ###*    \n        .##.         ###.   \n        .###          ##*   \n         .##         .##*   \n          *##*     .####*   \n           #############    \n            .*########.     \n                *...        \n                            \n                            \n                            \n                            \n"
        }
      ],
      "execution_count": 74
    },
    {
      "id": "c28c50ee-ea16-4ec5-a176-95755eab2625",
      "cell_type": "markdown",
      "source": "# es 4.3",
      "metadata": {}
    },
    {
      "id": "0b04185c-37f3-4e5f-b10a-3e05d679a410",
      "cell_type": "code",
      "source": "# === 4.3 Pixel frequency comparison by class === \n# Get the samples of digits '0' and '1'\nmask0 = (y == 0)\nmask1 = (y == 1)\n\nX_0 = X[mask0]\nX_1 = X[mask1]\n\nprint(X_0.shape, X_1.shape)",
      "metadata": {
        "trusted": true
      },
      "outputs": [
        {
          "name": "stdout",
          "output_type": "stream",
          "text": "(980, 784) (1135, 784)\n"
        }
      ],
      "execution_count": 84
    },
    {
      "id": "12b33cc9-daaf-436c-a1fb-f3255e6da849",
      "cell_type": "code",
      "source": "# For each pixel, count how many '0' and '1' images have pixel value >= 128\nmap_0 = (X_0 >= 128).sum(axis=0)\nmap_1 = (X_1 >= 128).sum(axis=0)\ndiff = np.abs(map_0 - map_1) # diff misura quanto un pixel distingue tra 0 e 1.\n\n# Find the pixel with the largest difference\np = int(np.argmax(diff)) # Trova l’indice del pixel con la maggiore differenza, cioè il più informativo per distinguere le due cifre.\n# Converte quell’indice lineare p nella posizione (riga, colonna) del pixel nella griglia 28×28.\nr = p // 28\nc = p % 28\nprint(\"best_pixel_index\", p, (r,c))\n# Il pixel (r,c) è quello che, acceso o spento, meglio distingue tra immagini di “0” e di “1”.\n# È quindi il pixel più “discriminante” per separare le due classi.",
      "metadata": {
        "trusted": true
      },
      "outputs": [
        {
          "name": "stdout",
          "output_type": "stream",
          "text": "best_pixel_index 406 (14, 14)\n"
        }
      ],
      "execution_count": 85
    },
    {
      "id": "4572a613-bda4-44aa-8080-25a7df45f578",
      "cell_type": "markdown",
      "source": "# es 4.4",
      "metadata": {}
    },
    {
      "id": "02348608-9c92-4ce0-9615-d0407885197a",
      "cell_type": "code",
      "source": "# === 4.4 (*) Pairwise distance analysis ===\nidxs = [25, 29, 31, 34] # indici delle immagini da analizzare (qui 4 immagini).\nV = X[idxs].astype(float) # matrice 4×784 (ogni immagine 28×28 appiattita in un vettore).\n# Ora V[i] rappresenta il vettore di pixel dell’immagine i.",
      "metadata": {
        "trusted": true
      },
      "outputs": [],
      "execution_count": 87
    },
    {
      "id": "82b783d0-441c-4512-935f-9633b84cc761",
      "cell_type": "code",
      "source": "# The Gram matrix G[i,j] = V[i] · V[j] (dot product between images i and j)\n# This is computed efficiently using matrix multiplication: V @ V.T\nG = V @ V.T # prodotto scalare tra le immagini i e j.\n# Dimensione: 4×4, simmetrica.\n# Serve per calcolare distanze euclidee senza cicli.\nprint(G)",
      "metadata": {
        "trusted": true
      },
      "outputs": [
        {
          "name": "stdout",
          "output_type": "stream",
          "text": "[[12313079.  1280304.   980909.  3891842.]\n [ 1280304.  2773630.  1848654.  1113660.]\n [  980909.  1848654.  2296862.   914244.]\n [ 3891842.  1113660.   914244.  5859668.]]\n"
        }
      ],
      "execution_count": 88
    },
    {
      "id": "cca55e92-aa1b-4f5f-8d5c-3467cc950a40",
      "cell_type": "code",
      "source": "# For each image i, compute ||V[i]||² = sum of squared pixel values\n# axis=1 sums across pixels (columns), keepdims=True maintains shape (4,1) for the next broadcasting\nnrm = np.sum(V*V, axis=1, keepdims=True) # somma lungo le colonne, quindi ||V[i]||² per ogni immagine\nprint(nrm)",
      "metadata": {
        "trusted": true
      },
      "outputs": [
        {
          "name": "stdout",
          "output_type": "stream",
          "text": "[[12313079.]\n [ 2773630.]\n [ 2296862.]\n [ 5859668.]]\n"
        }
      ],
      "execution_count": 89
    },
    {
      "id": "49b670ba-8510-40e8-ba70-998ad8c4f38f",
      "cell_type": "code",
      "source": "# Use the identity: ||a - b||² = ||a||² + ||b||² - 2(a·b)\n# Broadcasting: nrm (4,1) + nrm.T (1,4) - 2*G (4,4) = (4,4)\n# D2[i,j] → quadrato della distanza tra immagini i e j\nD2 = nrm + nrm.T - 2*G\nD = np.sqrt(D2) # np.sqrt(D2) → distanza euclidea reale\nprint(D)",
      "metadata": {
        "trusted": true
      },
      "outputs": [
        {
          "name": "stdout",
          "output_type": "stream",
          "text": "[[   0.         3539.22321986 3556.41996958 3223.2069434 ]\n [3539.22321986    0.         1171.82933911 2531.00335835]\n [3556.41996958 1171.82933911    0.         2515.55997742]\n [3223.2069434  2531.00335835 2515.55997742    0.        ]]\n"
        }
      ],
      "execution_count": 90
    },
    {
      "id": "c8c8e36f-b6bd-4950-809e-2adbdf357f35",
      "cell_type": "raw",
      "source": "D[i,j] = 0 se i=j (stessa immagine)\n\nValori più grandi indicano immagini più diverse\n\nQuesto approccio è molto efficiente, perché calcola tutte le distanze contemporaneamente usando matrici e broadcasting, senza cicli for.",
      "metadata": {}
    },
    {
      "id": "62828457-51e5-4139-a38c-a46f4eeefc72",
      "cell_type": "code",
      "source": "",
      "metadata": {
        "trusted": true
      },
      "outputs": [],
      "execution_count": null
    }
  ]
}