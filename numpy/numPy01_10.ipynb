{
  "metadata": {
    "kernelspec": {
      "name": "python",
      "display_name": "Python (Pyodide)",
      "language": "python"
    },
    "language_info": {
      "codemirror_mode": {
        "name": "python",
        "version": 3
      },
      "file_extension": ".py",
      "mimetype": "text/x-python",
      "name": "python",
      "nbconvert_exporter": "python",
      "pygments_lexer": "ipython3",
      "version": "3.8"
    }
  },
  "nbformat_minor": 5,
  "nbformat": 4,
  "cells": [
    {
      "id": "8ffda084-3db3-404b-834a-fb6b87483d03",
      "cell_type": "code",
      "source": "# 01/10/2025\nimport numpy as np",
      "metadata": {
        "trusted": true
      },
      "outputs": [],
      "execution_count": 1
    },
    {
      "id": "bb157fad-6ccf-4237-87a0-fd5d5e3236ae",
      "cell_type": "code",
      "source": "x = np.array([1, 2, 3])\ny = np.array([0, 2, 1])\nx",
      "metadata": {
        "trusted": true
      },
      "outputs": [
        {
          "execution_count": 2,
          "output_type": "execute_result",
          "data": {
            "text/plain": "array([1, 2, 3])"
          },
          "metadata": {}
        }
      ],
      "execution_count": 2
    },
    {
      "id": "0c5ab9a7-5c7f-4f7d-a1e4-3403b29d7d11",
      "cell_type": "code",
      "source": "y",
      "metadata": {
        "trusted": true
      },
      "outputs": [
        {
          "execution_count": 3,
          "output_type": "execute_result",
          "data": {
            "text/plain": "array([0, 2, 1])"
          },
          "metadata": {}
        }
      ],
      "execution_count": 3
    },
    {
      "id": "a8490eb4-b299-44df-a047-aa991043f121",
      "cell_type": "code",
      "source": "# algebric operations\n# prodotto scalare = inner product, \n# inner product if x and y are two 1D arrays\n# you can also multply matrix by vector or matrix by matrix\nx @ y",
      "metadata": {
        "trusted": true
      },
      "outputs": [
        {
          "execution_count": 4,
          "output_type": "execute_result",
          "data": {
            "text/plain": "np.int32(7)"
          },
          "metadata": {}
        }
      ],
      "execution_count": 4
    },
    {
      "id": "730602df-8fe2-464e-975a-6b316eab4abf",
      "cell_type": "code",
      "source": "# normalization\ndef norm2(x):\n    return ((x ** 2).sum())**0.5\nnorm2(x)",
      "metadata": {
        "trusted": true
      },
      "outputs": [
        {
          "execution_count": 5,
          "output_type": "execute_result",
          "data": {
            "text/plain": "np.float64(3.7416573867739413)"
          },
          "metadata": {}
        }
      ],
      "execution_count": 5
    },
    {
      "id": "39ce3d25-e6c3-47d5-85d4-48baa7bac136",
      "cell_type": "code",
      "source": "norm2(y)",
      "metadata": {
        "trusted": true
      },
      "outputs": [
        {
          "execution_count": 6,
          "output_type": "execute_result",
          "data": {
            "text/plain": "np.float64(2.23606797749979)"
          },
          "metadata": {}
        }
      ],
      "execution_count": 6
    },
    {
      "id": "ec34a138-aec0-4944-b2e4-04f3fe62ff58",
      "cell_type": "code",
      "source": "# BROADCASTING is a way for us to perform operation that tipically \n# are done on matrices with the same shape but also with different shape\n# I can repeat row vetor or column vector a bunch of time in order \n# to have the same shape and make operations between two matrices\n\n# broadcasting has to have sense",
      "metadata": {
        "trusted": true
      },
      "outputs": [],
      "execution_count": 7
    },
    {
      "id": "4b070312-dd56-4610-be90-7494ced768cc",
      "cell_type": "code",
      "source": "# one of the dimension has to match with the other array.\n# RULES of BROADCASTING\n# 1) The shape of the array with fewer dimensions is padded with leading ones\n\n# 2) if the shape along a dimension is 1 for one of the arrays and > 1 for the other,\n# the array with shape = 1 in that dimension is stretched to match the other array\n\n# 3) If there is a dimension where both arrays have shape > 1 and those shapes differ, then broadcasting cannot be performed\n# if there is not match between each dimension (all different from 1), \n# so we cannot compute broadcasting\n\n",
      "metadata": {
        "trusted": true
      },
      "outputs": [],
      "execution_count": 8
    },
    {
      "id": "05943c76-3db3-4445-be11-ab945ca3ae18",
      "cell_type": "code",
      "source": "# Ex broadcasting\nx = np.array([1, 2, 3]) # shape (3, )\ny = np.array([[11], [12], [13]]) # shape (3,1)\nz = x + y\nz # broadcasting is applied into x and y in order to reach the same shape\n# rule 1) x.shape becomes (1, 3): x=[[1,2,3]]\n# rule 2) extend x on the vertical axis, y on the horizontal one",
      "metadata": {
        "trusted": true
      },
      "outputs": [
        {
          "execution_count": 41,
          "output_type": "execute_result",
          "data": {
            "text/plain": "array([[12, 13, 14],\n       [13, 14, 15],\n       [14, 15, 16]])"
          },
          "metadata": {}
        }
      ],
      "execution_count": 41
    },
    {
      "id": "6274610f-b627-4af9-9a72-656ced2d80a6",
      "cell_type": "code",
      "source": "a = np.array([[1, 2], [3, 4], [5, 6]]) # shape (3, 2)\nb = np.array([11, 12, 13]) # shape(3, )\n# c = a + b\n# c \n# numpy will raise an exception beacuse of dimensions, after applying rule 1, are incompatibles",
      "metadata": {
        "trusted": true
      },
      "outputs": [],
      "execution_count": 10
    },
    {
      "id": "94312046-314d-413c-94f4-b699a6661905",
      "cell_type": "code",
      "source": "X = np.random.random((100, 5))\nX.mean(axis=0) # I get the mean on axis 0",
      "metadata": {
        "trusted": true
      },
      "outputs": [
        {
          "execution_count": 11,
          "output_type": "execute_result",
          "data": {
            "text/plain": "array([0.46498056, 0.47761931, 0.44359956, 0.51254604, 0.49955483])"
          },
          "metadata": {}
        }
      ],
      "execution_count": 11
    },
    {
      "id": "65532d9f-a397-4019-ac31-7b7c5848f9d3",
      "cell_type": "code",
      "source": "(X - X.mean(axis=0)).mean(axis=0)",
      "metadata": {
        "trusted": true
      },
      "outputs": [
        {
          "execution_count": 12,
          "output_type": "execute_result",
          "data": {
            "text/plain": "array([ 4.88498131e-17,  3.10862447e-17,  1.72084569e-17, -1.68753900e-16,\n        3.66373598e-17])"
          },
          "metadata": {}
        }
      ],
      "execution_count": 12
    },
    {
      "id": "3aebdfa3-1c4e-4178-922f-9dbda3208cae",
      "cell_type": "code",
      "source": "X.shape # the shape of X is (100, 5)",
      "metadata": {
        "trusted": true
      },
      "outputs": [
        {
          "execution_count": 13,
          "output_type": "execute_result",
          "data": {
            "text/plain": "(100, 5)"
          },
          "metadata": {}
        }
      ],
      "execution_count": 13
    },
    {
      "id": "fe58dfb6-378b-4cdc-bad5-80f81319e557",
      "cell_type": "code",
      "source": "X.mean(axis=0).shape  # the shaoe of this array is (5,)\n# it is possible to broadcasting arrays with (5,1), after applying rule 1), and (100,5) shape",
      "metadata": {
        "trusted": true
      },
      "outputs": [
        {
          "execution_count": 14,
          "output_type": "execute_result",
          "data": {
            "text/plain": "(5,)"
          },
          "metadata": {}
        }
      ],
      "execution_count": 14
    },
    {
      "id": "f668c940-2f92-4a62-a945-d936b712eb37",
      "cell_type": "code",
      "source": "#(X - X.mean(axis=0)) / X.std(axis=0)",
      "metadata": {
        "trusted": true
      },
      "outputs": [],
      "execution_count": 15
    },
    {
      "id": "8998dc01-815e-4246-b341-caeaf9c5783d",
      "cell_type": "code",
      "source": "# ACCESSING NUMPY ARRAYS\nx = np.random.randint(1, 10, (3, 2))",
      "metadata": {
        "trusted": true
      },
      "outputs": [],
      "execution_count": 16
    },
    {
      "id": "fa421036-b7f0-4713-ba69-9526e33f991e",
      "cell_type": "code",
      "source": "x",
      "metadata": {
        "trusted": true
      },
      "outputs": [
        {
          "execution_count": 17,
          "output_type": "execute_result",
          "data": {
            "text/plain": "array([[6, 1],\n       [2, 9],\n       [6, 4]])"
          },
          "metadata": {}
        }
      ],
      "execution_count": 17
    },
    {
      "id": "dd94622e-b91a-4899-95c3-e33b54dfb96d",
      "cell_type": "code",
      "source": "# SIMPLE-INDEXING \n# we can also use negative indices \nx[0, 1] # I want row 0, element in column 1 => 8",
      "metadata": {
        "trusted": true
      },
      "outputs": [
        {
          "execution_count": 18,
          "output_type": "execute_result",
          "data": {
            "text/plain": "np.int32(1)"
          },
          "metadata": {}
        }
      ],
      "execution_count": 18
    },
    {
      "id": "e6b3840b-4c69-4ea3-a953-c5466d8a66c7",
      "cell_type": "code",
      "source": "x[0] # I want row 1\n# with simple indexing we can also assign value to a specific element",
      "metadata": {
        "trusted": true
      },
      "outputs": [
        {
          "execution_count": 19,
          "output_type": "execute_result",
          "data": {
            "text/plain": "array([6, 1])"
          },
          "metadata": {}
        }
      ],
      "execution_count": 19
    },
    {
      "id": "cdafa6af-93b8-4314-93a5-25f80caa2e58",
      "cell_type": "code",
      "source": "# SLICING\n# x[start:stop:step] stop is excluded\n# creates a view of the elements from start to stop with step\nx = np.array([[1,2,3],[4,5,6],[7,8,9]])\nx[:, 1:] # all elements in dimension 1 (prendo tutte le righe), \n# from the second element to the last element of dimension 2 (prendo tutte le colonne a partire dalla seconda)",
      "metadata": {
        "trusted": true
      },
      "outputs": [
        {
          "execution_count": 20,
          "output_type": "execute_result",
          "data": {
            "text/plain": "array([[2, 3],\n       [5, 6],\n       [8, 9]])"
          },
          "metadata": {}
        }
      ],
      "execution_count": 20
    },
    {
      "id": "dc783888-880d-4ba1-892b-31b9126ef341",
      "cell_type": "code",
      "source": "x[:2, ::2]  # or x[0:2, 0:3:2]\n# select the first two rows (per le righe prende dall'inizio alla terza riga esclusa, quindi prende la prima e la seconda)\n# select the first and third column (per le colonne prende dall'inizio alla fine con step 2, quindi prende la prima colonna e la terza)",
      "metadata": {
        "trusted": true
      },
      "outputs": [
        {
          "execution_count": 21,
          "output_type": "execute_result",
          "data": {
            "text/plain": "array([[1, 3],\n       [4, 6]])"
          },
          "metadata": {}
        }
      ],
      "execution_count": 21
    },
    {
      "id": "679645d3-3d35-4c7d-afec-8d97a2a92efe",
      "cell_type": "code",
      "source": "# we can update a sliced array\nx = np.array([[1,2,3],[4,5,6],[7,8,9]])\nx[:, 1:] = 0\nx # replaces in all rows and from the second column onwards with 0s \n# (sostituisce in tutte le righe e dalla seconda colonna in avanti con degli 0)",
      "metadata": {
        "trusted": true
      },
      "outputs": [
        {
          "execution_count": 22,
          "output_type": "execute_result",
          "data": {
            "text/plain": "array([[1, 0, 0],\n       [4, 0, 0],\n       [7, 0, 0]])"
          },
          "metadata": {}
        }
      ],
      "execution_count": 22
    },
    {
      "id": "34d68ff2-3c77-4898-9a8b-c298894276e1",
      "cell_type": "code",
      "source": "# To avoid updating the original array use .copy()",
      "metadata": {
        "trusted": true
      },
      "outputs": [],
      "execution_count": 23
    },
    {
      "id": "64f7dba2-0711-4c03-a281-a0d62dcca9ec",
      "cell_type": "code",
      "source": "# MASKING\n# use boolena masks to select elements\n# masking and fancy indexing provide copies of the array\n# if I pass a mask, I select some elements of the array\n# the mask is boolean and with the same shape of the array\nx = np.random.random(5)\nx",
      "metadata": {
        "trusted": true
      },
      "outputs": [
        {
          "execution_count": 24,
          "output_type": "execute_result",
          "data": {
            "text/plain": "array([0.36899291, 0.47346893, 0.54657338, 0.46755512, 0.34890613])"
          },
          "metadata": {}
        }
      ],
      "execution_count": 24
    },
    {
      "id": "282c3fe7-a02a-442c-9596-c34645cb84f6",
      "cell_type": "code",
      "source": "mask = [False, True, True, False, False]\nx[mask] # I select only the elements that match with True value of the mask\n# The result is a one-dimensional vector that is a copy of the original array elements selected by the mask",
      "metadata": {
        "trusted": true
      },
      "outputs": [
        {
          "execution_count": 25,
          "output_type": "execute_result",
          "data": {
            "text/plain": "array([0.47346893, 0.54657338])"
          },
          "metadata": {}
        }
      ],
      "execution_count": 25
    },
    {
      "id": "432f1c43-1e13-490c-8c19-2073f0bb494d",
      "cell_type": "code",
      "source": "x = np.array([1.2, 4.1, 1.5, 4.5])\nx > 4 # if you want to filter ",
      "metadata": {
        "trusted": true
      },
      "outputs": [
        {
          "execution_count": 47,
          "output_type": "execute_result",
          "data": {
            "text/plain": "array([False,  True, False,  True])"
          },
          "metadata": {}
        }
      ],
      "execution_count": 47
    },
    {
      "id": "c1e68f30-24ff-4538-8e39-5f8540dfa1db",
      "cell_type": "code",
      "source": "mask1 = (x > 0.2)\nmask1",
      "metadata": {
        "trusted": true
      },
      "outputs": [
        {
          "execution_count": 27,
          "output_type": "execute_result",
          "data": {
            "text/plain": "array([ True,  True,  True,  True,  True])"
          },
          "metadata": {}
        }
      ],
      "execution_count": 27
    },
    {
      "id": "10a2b83c-9e55-4363-b8fc-c64ab043ed59",
      "cell_type": "code",
      "source": "mask2 = (x < 0.3)\nmask2\n# Even if the shape of x2 is (2, 2), the result is a one-dimensional array containing the elements that satisfy the condition",
      "metadata": {
        "trusted": true
      },
      "outputs": [
        {
          "execution_count": 28,
          "output_type": "execute_result",
          "data": {
            "text/plain": "array([False, False, False, False, False])"
          },
          "metadata": {}
        }
      ],
      "execution_count": 28
    },
    {
      "id": "6d80ad44-1a30-4422-a9e1-4c6937c7de9d",
      "cell_type": "code",
      "source": "# you can also apply boolean algebra \n# & (and), | (or), ^ (xor), ~ (negation)\nmask3 = ~((x < 0.2) | (x > 0.5)) # ((x >= 0.1) & (x <= 0.5))\nmask3",
      "metadata": {
        "trusted": true
      },
      "outputs": [
        {
          "execution_count": 29,
          "output_type": "execute_result",
          "data": {
            "text/plain": "array([ True,  True, False,  True,  True])"
          },
          "metadata": {}
        }
      ],
      "execution_count": 29
    },
    {
      "id": "a048aa9c-c3fe-49ad-bbfb-7300bfca5619",
      "cell_type": "code",
      "source": "# in masking you can update array\n# Masking does not create views, but copies",
      "metadata": {
        "trusted": true
      },
      "outputs": [],
      "execution_count": 30
    },
    {
      "id": "1348b706-6bc7-47eb-9505-71de906c7590",
      "cell_type": "code",
      "source": "# FANCY INDEXING\n# specify the index of elements to be selected\nx = np.array([7.0, 9.0, 6.0, 5.0])\n# I can specify a list of indeces I want to get in the first dimension\nx[[1, 3]]",
      "metadata": {
        "trusted": true
      },
      "outputs": [
        {
          "execution_count": 31,
          "output_type": "execute_result",
          "data": {
            "text/plain": "array([9., 5.])"
          },
          "metadata": {}
        }
      ],
      "execution_count": 31
    },
    {
      "id": "258b481d-8dc7-4a99-8e92-a99a156e8c18",
      "cell_type": "code",
      "source": "# I can specicy coordinate of array of multiple dimensions\nx = np.array([[0.0, 1.0, 2.0], [3.0, 4.0, 5.0], [6.0, 7.0, 8.0]])\nx[[0, 2], [0, 1]] # first the indices of the first dimension and then the indices of the second dimension",
      "metadata": {
        "trusted": true
      },
      "outputs": [
        {
          "execution_count": 32,
          "output_type": "execute_result",
          "data": {
            "text/plain": "array([0., 7.])"
          },
          "metadata": {}
        }
      ],
      "execution_count": 32
    },
    {
      "id": "0cff04bd-5c86-4370-8433-097940e28145",
      "cell_type": "code",
      "source": "#Similarly to masking, fancy indexing provides copies (not views) of the original array",
      "metadata": {
        "trusted": true
      },
      "outputs": [],
      "execution_count": 33
    },
    {
      "id": "efae6881-3883-4834-9fd2-0831b75f15cf",
      "cell_type": "code",
      "source": "# COMBINED INDEXING\n# we can mix methods of indexing\n# The number of dimensions of selected data is: \n# - The same as the input if you mix: masking+slicing, fancy+slicing\n# - Reduced by one for each axis where simple indexing is used because simple indexing takes only 1 single element from an axis\nx = np.array([[0.0, 1.0, 2.0], [3.0, 4.0, 5.0], [6.0, 7.0, 8.0]])\nx",
      "metadata": {
        "trusted": true
      },
      "outputs": [
        {
          "execution_count": 34,
          "output_type": "execute_result",
          "data": {
            "text/plain": "array([[0., 1., 2.],\n       [3., 4., 5.],\n       [6., 7., 8.]])"
          },
          "metadata": {}
        }
      ],
      "execution_count": 34
    },
    {
      "id": "af066f27-4691-40a6-a2bd-cea85c5a591c",
      "cell_type": "code",
      "source": "x[[True,False,True], 1:] # The result is the first and the third row, and the second and third column\n# Masking + Slicing: [[1.0,2.0],[7.0,8.0]]\n# Output has the same numer of dimensions as input",
      "metadata": {
        "trusted": true
      },
      "outputs": [
        {
          "execution_count": 35,
          "output_type": "execute_result",
          "data": {
            "text/plain": "array([[1., 2.],\n       [7., 8.]])"
          },
          "metadata": {}
        }
      ],
      "execution_count": 35
    },
    {
      "id": "d67d8302-088f-40dd-aa0c-cda41b3bda7c",
      "cell_type": "code",
      "source": "x[[0,2], :2] # The output is the rows with indices 0 and 2 (the first and the third) and the first and second column\n# Fancy + Slicing: [[0.0,1.0],[6.0,7.0]]\n# Output has the same numer of dimensions as input",
      "metadata": {
        "trusted": true
      },
      "outputs": [
        {
          "execution_count": 36,
          "output_type": "execute_result",
          "data": {
            "text/plain": "array([[0., 1.],\n       [6., 7.]])"
          },
          "metadata": {}
        }
      ],
      "execution_count": 36
    },
    {
      "id": "5d2f15fd-c39e-49f5-8c5f-a69da7a260d2",
      "cell_type": "code",
      "source": "# Simple indexing reduces the number of dimensions\n# simple indexing + slicing\n# The dimension selected with simple indexing is removed from the output\nx = np.array([[0.0, 1.0, 2.0], [3.0, 4.0, 5.0], [6.0, 7.0, 8.0]])",
      "metadata": {
        "trusted": true
      },
      "outputs": [],
      "execution_count": 38
    },
    {
      "id": "a9caea6c-09c6-49cc-acbc-87140b19fcff",
      "cell_type": "code",
      "source": "x[0, 1:] # the result the row with indix 0 with second and third column\n# Simple + Slicing: [1.0, 2.0]",
      "metadata": {
        "trusted": true
      },
      "outputs": [
        {
          "execution_count": 39,
          "output_type": "execute_result",
          "data": {
            "text/plain": "array([1., 2.])"
          },
          "metadata": {}
        }
      ],
      "execution_count": 39
    },
    {
      "id": "4341f757-6475-425e-8d2e-9f32863ee362",
      "cell_type": "code",
      "source": "x[[True, False, True], 0] # the output is the first and third row and the column with index 0, the first column\n# Simple + Masking: [0.0, 6.0]",
      "metadata": {
        "trusted": true
      },
      "outputs": [
        {
          "execution_count": 40,
          "output_type": "execute_result",
          "data": {
            "text/plain": "array([0., 6.])"
          },
          "metadata": {}
        }
      ],
      "execution_count": 40
    },
    {
      "id": "7020d69e-c54c-407f-81a5-28555e28f3c4",
      "cell_type": "code",
      "source": "",
      "metadata": {
        "trusted": true
      },
      "outputs": [],
      "execution_count": null
    }
  ]
}