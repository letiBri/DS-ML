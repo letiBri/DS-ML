{
  "metadata": {
    "kernelspec": {
      "name": "xpython",
      "display_name": "Python 3.13 (XPython)",
      "language": "python"
    },
    "language_info": {
      "file_extension": ".py",
      "mimetype": "text/x-python",
      "name": "python",
      "version": "3.13.1"
    }
  },
  "nbformat_minor": 5,
  "nbformat": 4,
  "cells": [
    {
      "id": "95ff2cd9-5d2e-497f-9a45-3ab034b5e737",
      "cell_type": "code",
      "source": "import numpy as np",
      "metadata": {
        "trusted": true
      },
      "outputs": [],
      "execution_count": 1
    },
    {
      "id": "d0b9d194-a6dc-495e-ae81-379a523be709",
      "cell_type": "code",
      "source": "n=5",
      "metadata": {
        "trusted": true
      },
      "outputs": [],
      "execution_count": 2
    },
    {
      "id": "ca9cde19-0a98-4e5b-be87-caf905d5ae84",
      "cell_type": "code",
      "source": "# array random shape n*n con valori uniformamente distribuiti tra 0 e 1\nA = np.random.random((n, n))\nB = np.random.random((n, n))",
      "metadata": {
        "trusted": true
      },
      "outputs": [],
      "execution_count": 3
    },
    {
      "id": "6a5bba5f-b773-4c70-97a5-8d4a3437c2ee",
      "cell_type": "code",
      "source": "A",
      "metadata": {
        "trusted": true
      },
      "outputs": [
        {
          "execution_count": 4,
          "output_type": "execute_result",
          "data": {
            "text/plain": "array([[0.13356269, 0.18513803, 0.09201615, 0.36815217, 0.33039975],\n       [0.85807263, 0.82887215, 0.28635455, 0.27140228, 0.36885528],\n       [0.8273608 , 0.08147999, 0.59210342, 0.83050004, 0.08801617],\n       [0.96651132, 0.237507  , 0.39231143, 0.45512362, 0.2657317 ],\n       [0.3827034 , 0.41224672, 0.0526505 , 0.94776917, 0.75078384]])"
          },
          "metadata": {}
        }
      ],
      "execution_count": 4
    },
    {
      "id": "7910fa1c-ce7b-4f51-922b-f3dd61e5887c",
      "cell_type": "code",
      "source": "B",
      "metadata": {
        "trusted": true
      },
      "outputs": [
        {
          "execution_count": 5,
          "output_type": "execute_result",
          "data": {
            "text/plain": "array([[0.86876408, 0.4260249 , 0.86704387, 0.91455665, 0.79123103],\n       [0.83475498, 0.51879811, 0.00823925, 0.80906374, 0.37059589],\n       [0.80705928, 0.46320571, 0.7307102 , 0.33882214, 0.54712338],\n       [0.67789896, 0.81205075, 0.64913871, 0.00131011, 0.67099092],\n       [0.85520693, 0.21641376, 0.79213432, 0.3763589 , 0.26737531]])"
          },
          "metadata": {}
        }
      ],
      "execution_count": 5
    },
    {
      "id": "7a431030-dec8-4bb2-8b82-8f46b9a403bb",
      "cell_type": "code",
      "source": "A+B",
      "metadata": {
        "trusted": true
      },
      "outputs": [
        {
          "execution_count": 6,
          "output_type": "execute_result",
          "data": {
            "text/plain": "array([[1.00232677, 0.61116293, 0.95906002, 1.28270883, 1.12163078],\n       [1.69282761, 1.34767025, 0.2945938 , 1.08046603, 0.73945117],\n       [1.63442008, 0.5446857 , 1.32281362, 1.16932219, 0.63513956],\n       [1.64441028, 1.04955776, 1.04145014, 0.45643373, 0.93672261],\n       [1.23791033, 0.62866047, 0.84478482, 1.32412807, 1.01815915]])"
          },
          "metadata": {}
        }
      ],
      "execution_count": 6
    },
    {
      "id": "fb0cdaea-2503-4612-b324-ccac35401d6f",
      "cell_type": "code",
      "source": "# creazione semplice array indicando i valori \narr1 = np.array([1, 2, 3])\narr1",
      "metadata": {
        "trusted": true
      },
      "outputs": [
        {
          "execution_count": 7,
          "output_type": "execute_result",
          "data": {
            "text/plain": "array([1, 2, 3])"
          },
          "metadata": {}
        }
      ],
      "execution_count": 7
    },
    {
      "id": "753a04e2-cb9a-4873-b9fa-ce08771bf8e3",
      "cell_type": "code",
      "source": "# array di zero con shape 3*2\narr2 = np.zeros((3,2))\narr2",
      "metadata": {
        "trusted": true
      },
      "outputs": [
        {
          "execution_count": 8,
          "output_type": "execute_result",
          "data": {
            "text/plain": "array([[0., 0.],\n       [0., 0.],\n       [0., 0.]])"
          },
          "metadata": {}
        }
      ],
      "execution_count": 8
    },
    {
      "id": "fb7151d2-f112-4e7f-9797-5a864bb42ca5",
      "cell_type": "code",
      "source": "# array di uno con shape 2*3\narr3 = np.ones((2,3))\narr3",
      "metadata": {
        "trusted": true
      },
      "outputs": [
        {
          "execution_count": 9,
          "output_type": "execute_result",
          "data": {
            "text/plain": "array([[1., 1., 1.],\n       [1., 1., 1.]])"
          },
          "metadata": {}
        }
      ],
      "execution_count": 9
    },
    {
      "id": "b44c1e24-1151-41a6-a2c3-ca73622b139b",
      "cell_type": "code",
      "source": "# array con  tutti i gli elementi a value 1.8, con la shape 3*2\narr4 = np.full((3,2), 1.8)\narr4",
      "metadata": {
        "trusted": true
      },
      "outputs": [
        {
          "execution_count": 10,
          "output_type": "execute_result",
          "data": {
            "text/plain": "array([[1.8, 1.8],\n       [1.8, 1.8],\n       [1.8, 1.8]])"
          },
          "metadata": {}
        }
      ],
      "execution_count": 10
    },
    {
      "id": "fe014741-9e09-4b66-9e43-40c30e3ebbeb",
      "cell_type": "code",
      "source": "# array with num =11 samples from start=0 to stop=1 (included) c\narr5 =np.linspace(0,1,11)\narr5",
      "metadata": {
        "trusted": true
      },
      "outputs": [
        {
          "execution_count": 11,
          "output_type": "execute_result",
          "data": {
            "text/plain": "array([0. , 0.1, 0.2, 0.3, 0.4, 0.5, 0.6, 0.7, 0.8, 0.9, 1. ])"
          },
          "metadata": {}
        }
      ],
      "execution_count": 11
    },
    {
      "id": "33b1c194-b7c0-4793-9077-e3ea7599bcaf",
      "cell_type": "code",
      "source": "# array with numbers from start=1 to stop=7 (excluded) with step=2\narr6 = np.arange(1,7,2)\narr6",
      "metadata": {
        "trusted": true
      },
      "outputs": [
        {
          "execution_count": 12,
          "output_type": "execute_result",
          "data": {
            "text/plain": "array([1, 3, 5])"
          },
          "metadata": {}
        }
      ],
      "execution_count": 12
    },
    {
      "id": "8f5a5a8c-8203-4564-9006-acf7d9725803",
      "cell_type": "code",
      "source": "# array with random data with normal distribution (mean, std, shape)\narr7 = np.random.normal(2,3.4,(3,2))\narr7",
      "metadata": {
        "trusted": true
      },
      "outputs": [
        {
          "execution_count": 13,
          "output_type": "execute_result",
          "data": {
            "text/plain": "array([[ 1.06393012,  2.05800219],\n       [ 1.99710742, -0.84880049],\n       [-0.34819838, -2.30629867]])"
          },
          "metadata": {}
        }
      ],
      "execution_count": 13
    },
    {
      "id": "9725e368-117c-4ef8-ba7b-391437e73209",
      "cell_type": "code",
      "source": "# array with random data uniformly distribuited in [0,1] with shape 3*2\narr8 = np.random.random((3, 2))\narr8",
      "metadata": {
        "trusted": true
      },
      "outputs": [
        {
          "execution_count": 14,
          "output_type": "execute_result",
          "data": {
            "text/plain": "array([[0.21262724, 0.93806573],\n       [0.01493201, 0.94460314],\n       [0.56127664, 0.17434819]])"
          },
          "metadata": {}
        }
      ],
      "execution_count": 14
    },
    {
      "id": "e42a1f74-4fd4-424b-8cc4-d94c8366a7be",
      "cell_type": "code",
      "source": "x = np.array([[2, 3, 4], [5, 6, 7]])\n# number of dimensions of the array\nx.ndim",
      "metadata": {
        "trusted": true
      },
      "outputs": [
        {
          "execution_count": 16,
          "output_type": "execute_result",
          "data": {
            "text/plain": "2"
          },
          "metadata": {}
        }
      ],
      "execution_count": 16
    },
    {
      "id": "23de9a4f-b334-4a61-82d1-6678ff00004c",
      "cell_type": "code",
      "source": "# tuple with the array shape\nx.shape",
      "metadata": {
        "trusted": true
      },
      "outputs": [
        {
          "execution_count": 17,
          "output_type": "execute_result",
          "data": {
            "text/plain": "(2, 3)"
          },
          "metadata": {}
        }
      ],
      "execution_count": 17
    },
    {
      "id": "99ff0b71-eb76-4717-aa41-a751e8bf9488",
      "cell_type": "code",
      "source": "# array size (product of the shape values)\nx.size",
      "metadata": {
        "trusted": true
      },
      "outputs": [
        {
          "execution_count": 18,
          "output_type": "execute_result",
          "data": {
            "text/plain": "6"
          },
          "metadata": {}
        }
      ],
      "execution_count": 18
    },
    {
      "id": "4278134b-dbd7-45a4-939b-30a8a90564df",
      "cell_type": "code",
      "source": "# binary operations with array of the same shape (+, -, *, /, %, //, **)\na = np.array([[1,1], [2, 2]])\nb = np.array([[3,4], [6, 5]])\na*b",
      "metadata": {
        "trusted": true
      },
      "outputs": [
        {
          "execution_count": 19,
          "output_type": "execute_result",
          "data": {
            "text/plain": "array([[ 3,  4],\n       [12, 10]])"
          },
          "metadata": {}
        }
      ],
      "execution_count": 19
    },
    {
      "id": "5eaeebbc-4fe5-472d-b410-068f17836dc5",
      "cell_type": "code",
      "source": "# unary operations (abs, exp, log, log2, sin, cos, tab, arctan) apply the operation separately to each eleemnt of the array\n# original array is not modiefied\nnp.log(a)",
      "metadata": {
        "trusted": true
      },
      "outputs": [
        {
          "execution_count": 21,
          "output_type": "execute_result",
          "data": {
            "text/plain": "array([[0.        , 0.        ],\n       [0.69314718, 0.69314718]])"
          },
          "metadata": {}
        }
      ],
      "execution_count": 21
    },
    {
      "id": "ac5d5cef-7925-48d5-8521-e34c1fd5c0b0",
      "cell_type": "code",
      "source": "# aggregate functions --> return a single value from an array (min, max mean, std, sum, argmin, argmax)\n\n# argmin, argmax\n# for 1 dimensional array return the position of the smallest/ largest element of the array\nc = np.array([5, 3, 9, 1, 7])\nc.argmin()\n",
      "metadata": {
        "trusted": true
      },
      "outputs": [
        {
          "execution_count": 22,
          "output_type": "execute_result",
          "data": {
            "text/plain": "np.int32(3)"
          },
          "metadata": {}
        }
      ],
      "execution_count": 22
    },
    {
      "id": "933ec336-561a-4345-9c26-85a30c9eeaf9",
      "cell_type": "code",
      "source": "c.argmax()",
      "metadata": {
        "trusted": true
      },
      "outputs": [
        {
          "execution_count": 23,
          "output_type": "execute_result",
          "data": {
            "text/plain": "np.int32(2)"
          },
          "metadata": {}
        }
      ],
      "execution_count": 23
    },
    {
      "id": "16ab17f0-3aa1-4a4e-94f3-b3fe0699937d",
      "cell_type": "code",
      "source": "# for N-dimensional array\n# return the position of the smallest/largest element of the flattend(= collapsed into one dimension) version of the array\nd = np.array([[8, 3, 9], [4, 2, 9]])\nd.argmin()",
      "metadata": {
        "trusted": true
      },
      "outputs": [
        {
          "execution_count": 24,
          "output_type": "execute_result",
          "data": {
            "text/plain": "np.int32(4)"
          },
          "metadata": {}
        }
      ],
      "execution_count": 24
    },
    {
      "id": "9e9d7b49-d088-41bf-9b79-99d9957eaabc",
      "cell_type": "code",
      "source": "# aggregate functions along axis\n# allow specifying the axis along with performing the operation\ne = np.random.random((3, 2, 1))\ne",
      "metadata": {
        "trusted": true
      },
      "outputs": [
        {
          "execution_count": 25,
          "output_type": "execute_result",
          "data": {
            "text/plain": "array([[[0.09213678],\n        [0.41601742]],\n\n       [[0.15997486],\n        [0.54605513]],\n\n       [[0.21613635],\n        [0.36638069]]])"
          },
          "metadata": {}
        }
      ],
      "execution_count": 25
    },
    {
      "id": "137061ed-9efc-4d25-852a-03c620ed657f",
      "cell_type": "code",
      "source": "e.argmax(axis=0)",
      "metadata": {
        "trusted": true
      },
      "outputs": [
        {
          "execution_count": 43,
          "output_type": "execute_result",
          "data": {
            "text/plain": "array([[2],\n       [1]])"
          },
          "metadata": {}
        }
      ],
      "execution_count": 43
    },
    {
      "id": "3274cef4-7b27-42ff-8c6e-43b91c9b5028",
      "cell_type": "code",
      "source": "e.sum(axis=1)",
      "metadata": {
        "trusted": true
      },
      "outputs": [
        {
          "execution_count": 44,
          "output_type": "execute_result",
          "data": {
            "text/plain": "array([[0.5081542 ],\n       [0.70602999],\n       [0.58251704]])"
          },
          "metadata": {}
        }
      ],
      "execution_count": 44
    },
    {
      "id": "b848ab59-7442-4978-b32a-15b510d661fd",
      "cell_type": "code",
      "source": "# the aggregation dimension is removed from the output\ne.min(axis=-1) #remove axis -1",
      "metadata": {
        "trusted": true
      },
      "outputs": [
        {
          "execution_count": 26,
          "output_type": "execute_result",
          "data": {
            "text/plain": "array([[0.09213678, 0.41601742],\n       [0.15997486, 0.54605513],\n       [0.21613635, 0.36638069]])"
          },
          "metadata": {}
        }
      ],
      "execution_count": 26
    },
    {
      "id": "6c9375f6-99fb-4fb8-b806-04bf7c0926d1",
      "cell_type": "code",
      "source": "e.min(axis=1) #remove axis 1",
      "metadata": {
        "trusted": true
      },
      "outputs": [
        {
          "execution_count": 27,
          "output_type": "execute_result",
          "data": {
            "text/plain": "array([[0.09213678],\n       [0.15997486],\n       [0.21613635]])"
          },
          "metadata": {}
        }
      ],
      "execution_count": 27
    },
    {
      "id": "44f8c97f-300f-4422-84f7-fba8f3ce2b43",
      "cell_type": "code",
      "source": "# sorting --> array is sorted along the last axis -1 by default (sort along rows)\nf = np.random.random((3, 2))\nf",
      "metadata": {
        "trusted": true
      },
      "outputs": [
        {
          "execution_count": 28,
          "output_type": "execute_result",
          "data": {
            "text/plain": "array([[0.20443444, 0.61116206],\n       [0.37687355, 0.03015014],\n       [0.83857846, 0.17002779]])"
          },
          "metadata": {}
        }
      ],
      "execution_count": 28
    },
    {
      "id": "fde4b813-aab3-42cb-97b6-bb29bce35e22",
      "cell_type": "code",
      "source": "np.sort(f) # creates a sorted copy, f is not modified ",
      "metadata": {
        "trusted": true
      },
      "outputs": [
        {
          "execution_count": 29,
          "output_type": "execute_result",
          "data": {
            "text/plain": "array([[0.20443444, 0.61116206],\n       [0.03015014, 0.37687355],\n       [0.17002779, 0.83857846]])"
          },
          "metadata": {}
        }
      ],
      "execution_count": 29
    },
    {
      "id": "f63735c4-43c0-4456-96d1-0b4af4a2b3d1",
      "cell_type": "code",
      "source": "g = np.random.random((3, 2))\ng",
      "metadata": {
        "trusted": true
      },
      "outputs": [
        {
          "execution_count": 32,
          "output_type": "execute_result",
          "data": {
            "text/plain": "array([[0.57431515, 0.39379319],\n       [0.51880376, 0.20692542],\n       [0.69098491, 0.69143204]])"
          },
          "metadata": {}
        }
      ],
      "execution_count": 32
    },
    {
      "id": "7d504dbe-478f-4859-84aa-cff4c7255451",
      "cell_type": "code",
      "source": "g.sort() # sorts g inplace (g is modified)\ng",
      "metadata": {
        "trusted": true
      },
      "outputs": [
        {
          "execution_count": 34,
          "output_type": "execute_result",
          "data": {
            "text/plain": "array([[0.39379319, 0.57431515],\n       [0.20692542, 0.51880376],\n       [0.69098491, 0.69143204]])"
          },
          "metadata": {}
        }
      ],
      "execution_count": 34
    },
    {
      "id": "679ead30-6f3d-469a-8c70-bafc401e92a8",
      "cell_type": "code",
      "source": "h = np.random.random((3, 2))\nh",
      "metadata": {
        "trusted": true
      },
      "outputs": [
        {
          "execution_count": 35,
          "output_type": "execute_result",
          "data": {
            "text/plain": "array([[0.90796286, 0.91214146],\n       [0.9650757 , 0.22336062],\n       [0.04243741, 0.86252276]])"
          },
          "metadata": {}
        }
      ],
      "execution_count": 35
    },
    {
      "id": "06fc84cb-ba36-4cca-acd1-c73b794f2ccc",
      "cell_type": "code",
      "source": "np.sort(h, axis=0) #sort along columns",
      "metadata": {
        "trusted": true
      },
      "outputs": [
        {
          "execution_count": 36,
          "output_type": "execute_result",
          "data": {
            "text/plain": "array([[0.04243741, 0.22336062],\n       [0.90796286, 0.86252276],\n       [0.9650757 , 0.91214146]])"
          },
          "metadata": {}
        }
      ],
      "execution_count": 36
    },
    {
      "id": "b1b932e6-cded-431f-8e86-cc1cfd47dd45",
      "cell_type": "code",
      "source": "# argsort return the posision of the indices of the sorted array (sorted by default on axis -1)\ni = np.random.random((2, 3))\ni",
      "metadata": {
        "trusted": true
      },
      "outputs": [
        {
          "execution_count": 39,
          "output_type": "execute_result",
          "data": {
            "text/plain": "array([[0.82246441, 0.5865219 , 0.3007934 ],\n       [0.26975369, 0.05220457, 0.30784705]])"
          },
          "metadata": {}
        }
      ],
      "execution_count": 39
    },
    {
      "id": "f358ca5d-f9f4-4666-bff5-eef2719b26bc",
      "cell_type": "code",
      "source": "np.argsort(i)",
      "metadata": {
        "trusted": true
      },
      "outputs": [
        {
          "execution_count": 40,
          "output_type": "execute_result",
          "data": {
            "text/plain": "array([[2, 1, 0],\n       [1, 0, 2]])"
          },
          "metadata": {}
        }
      ],
      "execution_count": 40
    },
    {
      "id": "eb33e5c9-358c-4eac-9028-75a2ead9fe69",
      "cell_type": "code",
      "source": "",
      "metadata": {
        "trusted": true
      },
      "outputs": [],
      "execution_count": null
    }
  ]
}