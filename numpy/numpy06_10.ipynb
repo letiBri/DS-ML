{
  "metadata": {
    "kernelspec": {
      "name": "xpython",
      "display_name": "Python 3.13 (XPython)",
      "language": "python"
    },
    "language_info": {
      "file_extension": ".py",
      "mimetype": "text/x-python",
      "name": "python",
      "version": "3.13.1"
    }
  },
  "nbformat_minor": 5,
  "nbformat": 4,
  "cells": [
    {
      "id": "cbe8de9f-2ac9-4693-8562-6b2f1d055a88",
      "cell_type": "markdown",
      "source": "# 6 oct 2025",
      "metadata": {}
    },
    {
      "id": "933fb85e-bcc9-40e7-83de-3d36dc4efbab",
      "cell_type": "markdown",
      "source": "# Working with arrays",
      "metadata": {}
    },
    {
      "id": "122c6922-aa27-401a-b910-e215daad57d3",
      "cell_type": "code",
      "source": "import numpy as np\n# ARRAY CONCATENATION\n# creo un array concatenando x e y (sopra x e sotto y)\n# il risultati ha lo stessi numero di dimensioni degli array di input\nx = np.array([[1,2,3],[4,5,6]])\ny = np.array([[11,12,13],[14,15,16]])\nnp.concatenate((x, y)) # Default axis: 0",
      "metadata": {
        "trusted": true
      },
      "outputs": [
        {
          "execution_count": 1,
          "output_type": "execute_result",
          "data": {
            "text/plain": "array([[ 1,  2,  3],\n       [ 4,  5,  6],\n       [11, 12, 13],\n       [14, 15, 16]])"
          },
          "metadata": {}
        }
      ],
      "execution_count": 1
    },
    {
      "id": "eb4c607f-88b7-40a9-a029-5a321effc95c",
      "cell_type": "code",
      "source": "x = np.array([[1,2,3],[4,5,6]])\ny = np.array([[11,12,13],[14,15,16]])\nnp.concatenate((x, y), axis=1) # concatetanation along rows",
      "metadata": {
        "trusted": true
      },
      "outputs": [
        {
          "execution_count": 2,
          "output_type": "execute_result",
          "data": {
            "text/plain": "array([[ 1,  2,  3, 11, 12, 13],\n       [ 4,  5,  6, 14, 15, 16]])"
          },
          "metadata": {}
        }
      ],
      "execution_count": 2
    },
    {
      "id": "e8e9c6a4-87b1-4d42-aad0-4ad7c255da7e",
      "cell_type": "code",
      "source": "# hstack, vstack\n# instaead of using concatenate\nx = np.array([[1,2,3],[4,5,6]])\ny = np.array([[11,12,13],[14,15,16]])\nh = np.hstack((x, y)) # along rows (horizontal)\nv = np.vstack((x, y)) # along columns (vertical)",
      "metadata": {
        "trusted": true
      },
      "outputs": [],
      "execution_count": 3
    },
    {
      "id": "31fef3f1-e949-4c90-b5e3-af330d530883",
      "cell_type": "code",
      "source": "v",
      "metadata": {
        "trusted": true
      },
      "outputs": [
        {
          "execution_count": 4,
          "output_type": "execute_result",
          "data": {
            "text/plain": "array([[ 1,  2,  3],\n       [ 4,  5,  6],\n       [11, 12, 13],\n       [14, 15, 16]])"
          },
          "metadata": {}
        }
      ],
      "execution_count": 4
    },
    {
      "id": "fbb669e4-df63-48c3-999e-a2eb96654a06",
      "cell_type": "code",
      "source": "h",
      "metadata": {
        "trusted": true
      },
      "outputs": [
        {
          "execution_count": 5,
          "output_type": "execute_result",
          "data": {
            "text/plain": "array([[ 1,  2,  3, 11, 12, 13],\n       [ 4,  5,  6, 14, 15, 16]])"
          },
          "metadata": {}
        }
      ],
      "execution_count": 5
    },
    {
      "id": "66e402a9-09ce-4bc2-a4c6-d1c4639acb47",
      "cell_type": "code",
      "source": "# vstack allows concatenating 1-D vectors along new\n# axis (not possible with np.concatenate)\n# ho due array 1D come input e l'output diventa 2D (usando concatenate non potrei)\nx = np.array([1,2,3])\ny = np.array([11,12,13])\nv = np.vstack((x, y)) # vertically\nv",
      "metadata": {
        "trusted": true
      },
      "outputs": [
        {
          "execution_count": 6,
          "output_type": "execute_result",
          "data": {
            "text/plain": "array([[ 1,  2,  3],\n       [11, 12, 13]])"
          },
          "metadata": {}
        }
      ],
      "execution_count": 6
    },
    {
      "id": "381094b7-6277-45ed-b228-9763473f15d5",
      "cell_type": "code",
      "source": "# SPLITTING ARRAYS",
      "metadata": {
        "trusted": true
      },
      "outputs": [],
      "execution_count": 7
    },
    {
      "id": "cfe5ab11-684a-4156-abb9-89dcd937f9d1",
      "cell_type": "code",
      "source": "# outputs a list of Numpy arrays\n# If N is integer: divide arr into N equal arrays (along axis), if possible!\n# if N is a 1d array: specify the entries where the array is split (along axis)\nx = np.array([7, 7, 9, 9, 8, 8])\n# taglio prima dell'elemento 2 e poi taglio prima dell'elemento 4\nnp.split(x,[2,4]) # split before element 2 and 4 # same as passing N = 3",
      "metadata": {
        "trusted": true
      },
      "outputs": [
        {
          "execution_count": 11,
          "output_type": "execute_result",
          "data": {
            "text/plain": "[array([7, 7]), array([9, 9]), array([8, 8])]"
          },
          "metadata": {}
        }
      ],
      "execution_count": 11
    },
    {
      "id": "93dc0820-f022-4d6e-94ae-de35e28e550a",
      "cell_type": "code",
      "source": "# hsplit, vsplit with 2D arrays\n# return a list with the arrays after the split\nx = np.array([[1, 2, 3, 11, 12, 13], [4, 5, 6, 14, 15, 16]])\nnp.hsplit(x, [3]) # splitto prima dell'indice 3\n#np.vsplit(x, 2) # 2 arrays of equal size (along axis 0)",
      "metadata": {
        "trusted": true
      },
      "outputs": [
        {
          "execution_count": 17,
          "output_type": "execute_result",
          "data": {
            "text/plain": "[array([[1, 2, 3],\n        [4, 5, 6]]),\n array([[11, 12, 13],\n        [14, 15, 16]])]"
          },
          "metadata": {}
        }
      ],
      "execution_count": 17
    },
    {
      "id": "7550469a-4e74-444a-bcdf-53e3c0979505",
      "cell_type": "code",
      "source": "# RESHAPING ARRAYS\nx = np.arange(6)\n# voglio ridimensionare x seguendo la shape (2,3) --> posiziona in 2 righe e 3 colonne\ny = x.reshape((2,3))\nx, y",
      "metadata": {
        "trusted": true
      },
      "outputs": [
        {
          "execution_count": 18,
          "output_type": "execute_result",
          "data": {
            "text/plain": "(array([0, 1, 2, 3, 4, 5]),\n array([[0, 1, 2],\n        [3, 4, 5]]))"
          },
          "metadata": {}
        }
      ],
      "execution_count": 18
    },
    {
      "id": "02754b50-7ef0-4ccf-b7a6-0d8802104726",
      "cell_type": "code",
      "source": "# At most one dimension can be -1 (“unknown”)\n# If present, the size is inferred (dedotta) from\n# - The source array\n# - The other dimensions\nx = np.array([1,2,3])\ny = x.reshape(-1,1) # The first dimension (rows) is inferred to be 3, considering that the second dimension (columns) is 1 and x.size = 3\nx, y # trasformo x in 3 righe e 1 colonna, ho dedotto le righe guardando la size",
      "metadata": {
        "trusted": true
      },
      "outputs": [
        {
          "execution_count": 20,
          "output_type": "execute_result",
          "data": {
            "text/plain": "(array([1, 2, 3]),\n array([[1],\n        [2],\n        [3]]))"
          },
          "metadata": {}
        }
      ],
      "execution_count": 20
    },
    {
      "id": "ba1aaae3-2e62-4cdd-b236-50964cc3afb5",
      "cell_type": "code",
      "source": "# c-like, fortran-like\nx = np.array([1, 2, 3, 4, 5, 6, 7, 8, 9, 10, 11, 12])\n# C-like # ridimensiona mettendo gli elementi in 3 righe e 4 colonne. \n# Riempie una riga alla volta con gli elementi dell'array orgininale\ny = x.reshape(3,4, order=\"C\")\n# F-like # ridimensiona mettendo gli elementi in 3 righe e 4 colonne\n# Riempe una colonna alla volta con gli elementi dell'array originale\nz = x.reshape(3,4, order=\"F\") # F-like\ny,z\n",
      "metadata": {
        "trusted": true
      },
      "outputs": [
        {
          "execution_count": 22,
          "output_type": "execute_result",
          "data": {
            "text/plain": "(array([[ 1,  2,  3,  4],\n        [ 5,  6,  7,  8],\n        [ 9, 10, 11, 12]]),\n array([[ 1,  4,  7, 10],\n        [ 2,  5,  8, 11],\n        [ 3,  6,  9, 12]]))"
          },
          "metadata": {}
        }
      ],
      "execution_count": 22
    },
    {
      "id": "10582872-0cd6-4fc5-adff-3d9c6b248ad7",
      "cell_type": "code",
      "source": "# ADDING NEW DIMENSIONS\n# np.newaxis adds a new dimension with shape=1 at the specified position\narr = np.array([[1,2,3],[4,5,6]])\n# we can use also reshape and obtain the same solution (it is better using reshape)\nres = arr[np.newaxis, :, :] # output shape = (1,2,3) # ho aggiunto una dimensione\nres",
      "metadata": {
        "trusted": true
      },
      "outputs": [
        {
          "execution_count": 23,
          "output_type": "execute_result",
          "data": {
            "text/plain": "array([[[1, 2, 3],\n        [4, 5, 6]]])"
          },
          "metadata": {}
        }
      ],
      "execution_count": 23
    },
    {
      "id": "97a80378-a9ab-4340-bbae-a38338794ae1",
      "cell_type": "code",
      "source": "#row vector to column vector\n# Alternative approach to .reshape(-1,1) where a dimension can be unknown\narr = np.array([1,2,3])\nres = arr[:, np.newaxis] # output shape = (3,1)\nres",
      "metadata": {
        "trusted": true
      },
      "outputs": [
        {
          "execution_count": 24,
          "output_type": "execute_result",
          "data": {
            "text/plain": "array([[1],\n       [2],\n       [3]])"
          },
          "metadata": {}
        }
      ],
      "execution_count": 24
    },
    {
      "id": "7e34f263-4dfd-4f96-8292-b4b9f8dc3073",
      "cell_type": "code",
      "source": "",
      "metadata": {
        "trusted": true
      },
      "outputs": [],
      "execution_count": null
    }
  ]
}