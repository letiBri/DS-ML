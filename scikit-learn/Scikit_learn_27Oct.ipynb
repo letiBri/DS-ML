{
 "cells": [
  {
   "cell_type": "markdown",
   "id": "58e4854a-78b0-4486-8b77-d9095e54d5ac",
   "metadata": {},
   "source": [
    "# SCIKIT-LEARN 29/10 REGRESSION"
   ]
  },
  {
   "cell_type": "code",
   "execution_count": 1,
   "id": "2d6d10ba-2a69-4893-9cab-fb17c6ee2f6e",
   "metadata": {},
   "outputs": [],
   "source": [
    "import numpy as np"
   ]
  },
  {
   "cell_type": "code",
   "execution_count": 2,
   "id": "d61df3fe-3d80-4ef5-92c5-ee711e786559",
   "metadata": {},
   "outputs": [],
   "source": [
    "import pandas as pd"
   ]
  },
  {
   "cell_type": "code",
   "execution_count": 3,
   "id": "2070bb27-25e2-453c-a4cf-bf9857d278ed",
   "metadata": {},
   "outputs": [],
   "source": [
    "import matplotlib as plt"
   ]
  },
  {
   "cell_type": "markdown",
   "id": "6ac89803-a3b2-4d9a-ac8a-b050a4ce318d",
   "metadata": {},
   "source": [
    "**REGRESSION**"
   ]
  },
  {
   "cell_type": "code",
   "execution_count": 6,
   "id": "614b67f4-f7d4-4432-9ae1-55e77587665d",
   "metadata": {},
   "outputs": [],
   "source": [
    "from sklearn.datasets import load_iris # carico il dataset iris\n",
    "from sklearn.model_selection import train_test_split\n",
    "X, y = load_iris(return_X_y=True)\n",
    "X_train, X_test, y_train, y_test = train_test_split(X, y, train_size=0.8, random_state=42, stratify=y, shuffle=True)"
   ]
  },
  {
   "cell_type": "code",
   "execution_count": 7,
   "id": "ca6166a5-f8bf-4178-b406-eff44459f825",
   "metadata": {},
   "outputs": [],
   "source": [
    "from sklearn.linear_model import LinearRegression\n",
    "reg = LinearRegression() # instance of the regressor\n",
    "reg.fit(X_train, y_train)\n",
    "y_test_pred = reg.predict(X_test)"
   ]
  },
  {
   "cell_type": "code",
   "execution_count": 8,
   "id": "68032d4f-31a8-4a84-9c5f-6c710e2b604e",
   "metadata": {},
   "outputs": [
    {
     "data": {
      "text/plain": [
       "array([-0.02180204,  1.59467891,  0.8918912 ,  0.88638718, -0.03070495,\n",
       "        1.39307286, -0.13427151, -0.05136299,  1.74514762,  1.38990627,\n",
       "        1.78696349,  1.86558563,  2.00128801,  1.28144856, -0.05544091,\n",
       "       -0.07293937, -0.22764325,  1.01167134,  1.30634878,  1.58268446,\n",
       "       -0.1086172 ,  2.05746663,  1.17240103,  1.51725244,  1.97624657,\n",
       "        1.49467551,  1.18627016, -0.03681482,  1.68655651, -0.09730179])"
      ]
     },
     "execution_count": 8,
     "metadata": {},
     "output_type": "execute_result"
    }
   ],
   "source": [
    "y_test_pred"
   ]
  },
  {
   "cell_type": "markdown",
   "id": "db2e3bac-27e7-4c0a-97be-e1a07edbefa2",
   "metadata": {},
   "source": [
    "**evaluation metrics for regression**"
   ]
  },
  {
   "cell_type": "code",
   "execution_count": 10,
   "id": "7eff5e12-5b35-43f0-a3c8-57a50a67455c",
   "metadata": {},
   "outputs": [],
   "source": [
    "from sklearn.metrics import r2_score\n",
    "from sklearn.metrics import mean_absolute_error\n",
    "from sklearn.metrics import mean_squared_error\n",
    "# Compute R2, MAE and MSE:\n",
    "r2 = r2_score(y_test, y_test_pred)\n",
    "mae = mean_absolute_error(y_test, y_test_pred)\n",
    "mse = mean_squared_error(y_test, y_test_pred)"
   ]
  },
  {
   "cell_type": "markdown",
   "id": "e36b2111-ab5f-42c8-aec6-a1e6c3372f20",
   "metadata": {},
   "source": [
    "**evaluation with cross_val_score()**"
   ]
  },
  {
   "cell_type": "code",
   "execution_count": 11,
   "id": "f14e941b-1663-4fc5-afe4-0fca17390acc",
   "metadata": {},
   "outputs": [],
   "source": [
    "from sklearn.model_selection import cross_val_score\n",
    "reg = LinearRegression()\n",
    "r2 = cross_val_score(reg, X, y, cv=5, scoring='r2')"
   ]
  },
  {
   "cell_type": "markdown",
   "id": "8268624a-a776-4cea-9bf1-ded805bc1073",
   "metadata": {},
   "source": [
    "**POlYNOMIAL REGRESSION**"
   ]
  },
  {
   "cell_type": "code",
   "execution_count": 12,
   "id": "ec09ea6a-d6c9-48f9-a2d2-dac231a3a688",
   "metadata": {},
   "outputs": [],
   "source": [
    "from sklearn.preprocessing import PolynomialFeatures\n",
    "poly = PolynomialFeatures(5) # costruisco polinomio con grado massimo a 5\n",
    "X_poly = poly.fit_transform(X) # trasformiamo i dati ma devo prima aver fatto il fit del modello"
   ]
  },
  {
   "cell_type": "raw",
   "id": "439dc6fa-e6e0-4d1f-97a8-99de527232b2",
   "metadata": {},
   "source": [
    "degree = se il grado viene specificato come tupla allora sto passando il grado massimo e minimo. Posso specificarlo anche come intero e indica solo il massimo\n",
    "interaction_only = se vale True allora include le interazioni tra le feature ma esclude quelle con interazioni di grado maggiore di 2\n",
    "include_bias = se è true allora aggiunge una colonna bias \n",
    "\n",
    "otuput del fit_trasform è un array 2d numpy"
   ]
  },
  {
   "cell_type": "markdown",
   "id": "524ba5f8-60fb-406b-8fb2-afdce36f8450",
   "metadata": {},
   "source": [
    "**PIPELINE**"
   ]
  },
  {
   "cell_type": "code",
   "execution_count": 15,
   "id": "af73a779-c663-4b84-af82-33c6d53cc689",
   "metadata": {},
   "outputs": [],
   "source": [
    "from sklearn.pipeline import make_pipeline\n",
    "reg = make_pipeline(PolynomialFeatures(5), LinearRegression())\n",
    "reg.fit(X_train, y_train)\n",
    "y_test_pred = reg.predict(X_test)"
   ]
  },
  {
   "cell_type": "raw",
   "id": "8959ad8b-b83d-456f-a05f-4bef83f8b4d6",
   "metadata": {},
   "source": [
    "pipeline sono sequenze di operazioni dove tutti gli elementi della sequenza tranne l'ultimo sono le trasformazioni, l'ultimo è il predictor"
   ]
  },
  {
   "cell_type": "markdown",
   "id": "8f3c48c8-9256-4509-acd9-21c66458818f",
   "metadata": {},
   "source": [
    "**RIDGE AND LASSO**"
   ]
  },
  {
   "cell_type": "code",
   "execution_count": 16,
   "id": "6718af29-b70f-45c2-a31d-1ad3c869be93",
   "metadata": {},
   "outputs": [],
   "source": [
    "from sklearn.linear_model import Ridge\n",
    "reg = Ridge(alpha=0.5) \n",
    "# alpha corrisponde al coefficiente che usiamo per la penalità"
   ]
  },
  {
   "cell_type": "code",
   "execution_count": 17,
   "id": "58bd1633-6ebe-446b-bc9f-3c5e41b0b752",
   "metadata": {},
   "outputs": [],
   "source": [
    "from sklearn.linear_model import Lasso\n",
    "reg = Lasso(alpha=0.5)"
   ]
  },
  {
   "cell_type": "markdown",
   "id": "57348fd2-3f33-4a61-a128-5d40aa31d51d",
   "metadata": {},
   "source": [
    "**HYPERPARAMETERS SELECTION**"
   ]
  },
  {
   "cell_type": "raw",
   "id": "f37e0510-3d60-4fef-95a1-07d42393a0c2",
   "metadata": {},
   "source": [
    "i superparametri sono scelti dall'utente\n",
    "tipicamente facciamo un validation set che non è ne il test set ne il training set. è un terzo set che usiamo per trovare i best hyperparameters\n",
    "proviamo i modelli diverse volte sul validation set e valutiamo le performance. scegliamo la configurazione che ci dà le best performance"
   ]
  },
  {
   "cell_type": "code",
   "execution_count": 22,
   "id": "99ddd7ae-62d6-44a3-8dbb-cc8a80ff1cf5",
   "metadata": {},
   "outputs": [],
   "source": [
    "from sklearn.model_selection import ParameterGrid"
   ]
  },
  {
   "cell_type": "code",
   "execution_count": 23,
   "id": "f0003fb9-9223-4266-b4ae-364c4188f879",
   "metadata": {},
   "outputs": [],
   "source": [
    "params = {\"criterion\": ['gini', 'entropy', 'log_loss'],\n",
    "         \"max_depth\":list(range(1,100,20)), \n",
    "         \"min_impurity_decrease\": np.linspace(0.1, 1, 10)}"
   ]
  },
  {
   "cell_type": "code",
   "execution_count": 24,
   "id": "bf96b2ac-467a-4b8b-8fe2-968d3503cab0",
   "metadata": {},
   "outputs": [
    {
     "data": {
      "text/plain": [
       "[{'criterion': 'gini',\n",
       "  'max_depth': 1,\n",
       "  'min_impurity_decrease': np.float64(0.1)},\n",
       " {'criterion': 'gini',\n",
       "  'max_depth': 1,\n",
       "  'min_impurity_decrease': np.float64(0.2)},\n",
       " {'criterion': 'gini',\n",
       "  'max_depth': 1,\n",
       "  'min_impurity_decrease': np.float64(0.30000000000000004)},\n",
       " {'criterion': 'gini',\n",
       "  'max_depth': 1,\n",
       "  'min_impurity_decrease': np.float64(0.4)},\n",
       " {'criterion': 'gini',\n",
       "  'max_depth': 1,\n",
       "  'min_impurity_decrease': np.float64(0.5)},\n",
       " {'criterion': 'gini',\n",
       "  'max_depth': 1,\n",
       "  'min_impurity_decrease': np.float64(0.6)},\n",
       " {'criterion': 'gini',\n",
       "  'max_depth': 1,\n",
       "  'min_impurity_decrease': np.float64(0.7000000000000001)},\n",
       " {'criterion': 'gini',\n",
       "  'max_depth': 1,\n",
       "  'min_impurity_decrease': np.float64(0.8)},\n",
       " {'criterion': 'gini',\n",
       "  'max_depth': 1,\n",
       "  'min_impurity_decrease': np.float64(0.9)},\n",
       " {'criterion': 'gini',\n",
       "  'max_depth': 1,\n",
       "  'min_impurity_decrease': np.float64(1.0)},\n",
       " {'criterion': 'gini',\n",
       "  'max_depth': 21,\n",
       "  'min_impurity_decrease': np.float64(0.1)},\n",
       " {'criterion': 'gini',\n",
       "  'max_depth': 21,\n",
       "  'min_impurity_decrease': np.float64(0.2)},\n",
       " {'criterion': 'gini',\n",
       "  'max_depth': 21,\n",
       "  'min_impurity_decrease': np.float64(0.30000000000000004)},\n",
       " {'criterion': 'gini',\n",
       "  'max_depth': 21,\n",
       "  'min_impurity_decrease': np.float64(0.4)},\n",
       " {'criterion': 'gini',\n",
       "  'max_depth': 21,\n",
       "  'min_impurity_decrease': np.float64(0.5)},\n",
       " {'criterion': 'gini',\n",
       "  'max_depth': 21,\n",
       "  'min_impurity_decrease': np.float64(0.6)},\n",
       " {'criterion': 'gini',\n",
       "  'max_depth': 21,\n",
       "  'min_impurity_decrease': np.float64(0.7000000000000001)},\n",
       " {'criterion': 'gini',\n",
       "  'max_depth': 21,\n",
       "  'min_impurity_decrease': np.float64(0.8)},\n",
       " {'criterion': 'gini',\n",
       "  'max_depth': 21,\n",
       "  'min_impurity_decrease': np.float64(0.9)},\n",
       " {'criterion': 'gini',\n",
       "  'max_depth': 21,\n",
       "  'min_impurity_decrease': np.float64(1.0)},\n",
       " {'criterion': 'gini',\n",
       "  'max_depth': 41,\n",
       "  'min_impurity_decrease': np.float64(0.1)},\n",
       " {'criterion': 'gini',\n",
       "  'max_depth': 41,\n",
       "  'min_impurity_decrease': np.float64(0.2)},\n",
       " {'criterion': 'gini',\n",
       "  'max_depth': 41,\n",
       "  'min_impurity_decrease': np.float64(0.30000000000000004)},\n",
       " {'criterion': 'gini',\n",
       "  'max_depth': 41,\n",
       "  'min_impurity_decrease': np.float64(0.4)},\n",
       " {'criterion': 'gini',\n",
       "  'max_depth': 41,\n",
       "  'min_impurity_decrease': np.float64(0.5)},\n",
       " {'criterion': 'gini',\n",
       "  'max_depth': 41,\n",
       "  'min_impurity_decrease': np.float64(0.6)},\n",
       " {'criterion': 'gini',\n",
       "  'max_depth': 41,\n",
       "  'min_impurity_decrease': np.float64(0.7000000000000001)},\n",
       " {'criterion': 'gini',\n",
       "  'max_depth': 41,\n",
       "  'min_impurity_decrease': np.float64(0.8)},\n",
       " {'criterion': 'gini',\n",
       "  'max_depth': 41,\n",
       "  'min_impurity_decrease': np.float64(0.9)},\n",
       " {'criterion': 'gini',\n",
       "  'max_depth': 41,\n",
       "  'min_impurity_decrease': np.float64(1.0)},\n",
       " {'criterion': 'gini',\n",
       "  'max_depth': 61,\n",
       "  'min_impurity_decrease': np.float64(0.1)},\n",
       " {'criterion': 'gini',\n",
       "  'max_depth': 61,\n",
       "  'min_impurity_decrease': np.float64(0.2)},\n",
       " {'criterion': 'gini',\n",
       "  'max_depth': 61,\n",
       "  'min_impurity_decrease': np.float64(0.30000000000000004)},\n",
       " {'criterion': 'gini',\n",
       "  'max_depth': 61,\n",
       "  'min_impurity_decrease': np.float64(0.4)},\n",
       " {'criterion': 'gini',\n",
       "  'max_depth': 61,\n",
       "  'min_impurity_decrease': np.float64(0.5)},\n",
       " {'criterion': 'gini',\n",
       "  'max_depth': 61,\n",
       "  'min_impurity_decrease': np.float64(0.6)},\n",
       " {'criterion': 'gini',\n",
       "  'max_depth': 61,\n",
       "  'min_impurity_decrease': np.float64(0.7000000000000001)},\n",
       " {'criterion': 'gini',\n",
       "  'max_depth': 61,\n",
       "  'min_impurity_decrease': np.float64(0.8)},\n",
       " {'criterion': 'gini',\n",
       "  'max_depth': 61,\n",
       "  'min_impurity_decrease': np.float64(0.9)},\n",
       " {'criterion': 'gini',\n",
       "  'max_depth': 61,\n",
       "  'min_impurity_decrease': np.float64(1.0)},\n",
       " {'criterion': 'gini',\n",
       "  'max_depth': 81,\n",
       "  'min_impurity_decrease': np.float64(0.1)},\n",
       " {'criterion': 'gini',\n",
       "  'max_depth': 81,\n",
       "  'min_impurity_decrease': np.float64(0.2)},\n",
       " {'criterion': 'gini',\n",
       "  'max_depth': 81,\n",
       "  'min_impurity_decrease': np.float64(0.30000000000000004)},\n",
       " {'criterion': 'gini',\n",
       "  'max_depth': 81,\n",
       "  'min_impurity_decrease': np.float64(0.4)},\n",
       " {'criterion': 'gini',\n",
       "  'max_depth': 81,\n",
       "  'min_impurity_decrease': np.float64(0.5)},\n",
       " {'criterion': 'gini',\n",
       "  'max_depth': 81,\n",
       "  'min_impurity_decrease': np.float64(0.6)},\n",
       " {'criterion': 'gini',\n",
       "  'max_depth': 81,\n",
       "  'min_impurity_decrease': np.float64(0.7000000000000001)},\n",
       " {'criterion': 'gini',\n",
       "  'max_depth': 81,\n",
       "  'min_impurity_decrease': np.float64(0.8)},\n",
       " {'criterion': 'gini',\n",
       "  'max_depth': 81,\n",
       "  'min_impurity_decrease': np.float64(0.9)},\n",
       " {'criterion': 'gini',\n",
       "  'max_depth': 81,\n",
       "  'min_impurity_decrease': np.float64(1.0)},\n",
       " {'criterion': 'entropy',\n",
       "  'max_depth': 1,\n",
       "  'min_impurity_decrease': np.float64(0.1)},\n",
       " {'criterion': 'entropy',\n",
       "  'max_depth': 1,\n",
       "  'min_impurity_decrease': np.float64(0.2)},\n",
       " {'criterion': 'entropy',\n",
       "  'max_depth': 1,\n",
       "  'min_impurity_decrease': np.float64(0.30000000000000004)},\n",
       " {'criterion': 'entropy',\n",
       "  'max_depth': 1,\n",
       "  'min_impurity_decrease': np.float64(0.4)},\n",
       " {'criterion': 'entropy',\n",
       "  'max_depth': 1,\n",
       "  'min_impurity_decrease': np.float64(0.5)},\n",
       " {'criterion': 'entropy',\n",
       "  'max_depth': 1,\n",
       "  'min_impurity_decrease': np.float64(0.6)},\n",
       " {'criterion': 'entropy',\n",
       "  'max_depth': 1,\n",
       "  'min_impurity_decrease': np.float64(0.7000000000000001)},\n",
       " {'criterion': 'entropy',\n",
       "  'max_depth': 1,\n",
       "  'min_impurity_decrease': np.float64(0.8)},\n",
       " {'criterion': 'entropy',\n",
       "  'max_depth': 1,\n",
       "  'min_impurity_decrease': np.float64(0.9)},\n",
       " {'criterion': 'entropy',\n",
       "  'max_depth': 1,\n",
       "  'min_impurity_decrease': np.float64(1.0)},\n",
       " {'criterion': 'entropy',\n",
       "  'max_depth': 21,\n",
       "  'min_impurity_decrease': np.float64(0.1)},\n",
       " {'criterion': 'entropy',\n",
       "  'max_depth': 21,\n",
       "  'min_impurity_decrease': np.float64(0.2)},\n",
       " {'criterion': 'entropy',\n",
       "  'max_depth': 21,\n",
       "  'min_impurity_decrease': np.float64(0.30000000000000004)},\n",
       " {'criterion': 'entropy',\n",
       "  'max_depth': 21,\n",
       "  'min_impurity_decrease': np.float64(0.4)},\n",
       " {'criterion': 'entropy',\n",
       "  'max_depth': 21,\n",
       "  'min_impurity_decrease': np.float64(0.5)},\n",
       " {'criterion': 'entropy',\n",
       "  'max_depth': 21,\n",
       "  'min_impurity_decrease': np.float64(0.6)},\n",
       " {'criterion': 'entropy',\n",
       "  'max_depth': 21,\n",
       "  'min_impurity_decrease': np.float64(0.7000000000000001)},\n",
       " {'criterion': 'entropy',\n",
       "  'max_depth': 21,\n",
       "  'min_impurity_decrease': np.float64(0.8)},\n",
       " {'criterion': 'entropy',\n",
       "  'max_depth': 21,\n",
       "  'min_impurity_decrease': np.float64(0.9)},\n",
       " {'criterion': 'entropy',\n",
       "  'max_depth': 21,\n",
       "  'min_impurity_decrease': np.float64(1.0)},\n",
       " {'criterion': 'entropy',\n",
       "  'max_depth': 41,\n",
       "  'min_impurity_decrease': np.float64(0.1)},\n",
       " {'criterion': 'entropy',\n",
       "  'max_depth': 41,\n",
       "  'min_impurity_decrease': np.float64(0.2)},\n",
       " {'criterion': 'entropy',\n",
       "  'max_depth': 41,\n",
       "  'min_impurity_decrease': np.float64(0.30000000000000004)},\n",
       " {'criterion': 'entropy',\n",
       "  'max_depth': 41,\n",
       "  'min_impurity_decrease': np.float64(0.4)},\n",
       " {'criterion': 'entropy',\n",
       "  'max_depth': 41,\n",
       "  'min_impurity_decrease': np.float64(0.5)},\n",
       " {'criterion': 'entropy',\n",
       "  'max_depth': 41,\n",
       "  'min_impurity_decrease': np.float64(0.6)},\n",
       " {'criterion': 'entropy',\n",
       "  'max_depth': 41,\n",
       "  'min_impurity_decrease': np.float64(0.7000000000000001)},\n",
       " {'criterion': 'entropy',\n",
       "  'max_depth': 41,\n",
       "  'min_impurity_decrease': np.float64(0.8)},\n",
       " {'criterion': 'entropy',\n",
       "  'max_depth': 41,\n",
       "  'min_impurity_decrease': np.float64(0.9)},\n",
       " {'criterion': 'entropy',\n",
       "  'max_depth': 41,\n",
       "  'min_impurity_decrease': np.float64(1.0)},\n",
       " {'criterion': 'entropy',\n",
       "  'max_depth': 61,\n",
       "  'min_impurity_decrease': np.float64(0.1)},\n",
       " {'criterion': 'entropy',\n",
       "  'max_depth': 61,\n",
       "  'min_impurity_decrease': np.float64(0.2)},\n",
       " {'criterion': 'entropy',\n",
       "  'max_depth': 61,\n",
       "  'min_impurity_decrease': np.float64(0.30000000000000004)},\n",
       " {'criterion': 'entropy',\n",
       "  'max_depth': 61,\n",
       "  'min_impurity_decrease': np.float64(0.4)},\n",
       " {'criterion': 'entropy',\n",
       "  'max_depth': 61,\n",
       "  'min_impurity_decrease': np.float64(0.5)},\n",
       " {'criterion': 'entropy',\n",
       "  'max_depth': 61,\n",
       "  'min_impurity_decrease': np.float64(0.6)},\n",
       " {'criterion': 'entropy',\n",
       "  'max_depth': 61,\n",
       "  'min_impurity_decrease': np.float64(0.7000000000000001)},\n",
       " {'criterion': 'entropy',\n",
       "  'max_depth': 61,\n",
       "  'min_impurity_decrease': np.float64(0.8)},\n",
       " {'criterion': 'entropy',\n",
       "  'max_depth': 61,\n",
       "  'min_impurity_decrease': np.float64(0.9)},\n",
       " {'criterion': 'entropy',\n",
       "  'max_depth': 61,\n",
       "  'min_impurity_decrease': np.float64(1.0)},\n",
       " {'criterion': 'entropy',\n",
       "  'max_depth': 81,\n",
       "  'min_impurity_decrease': np.float64(0.1)},\n",
       " {'criterion': 'entropy',\n",
       "  'max_depth': 81,\n",
       "  'min_impurity_decrease': np.float64(0.2)},\n",
       " {'criterion': 'entropy',\n",
       "  'max_depth': 81,\n",
       "  'min_impurity_decrease': np.float64(0.30000000000000004)},\n",
       " {'criterion': 'entropy',\n",
       "  'max_depth': 81,\n",
       "  'min_impurity_decrease': np.float64(0.4)},\n",
       " {'criterion': 'entropy',\n",
       "  'max_depth': 81,\n",
       "  'min_impurity_decrease': np.float64(0.5)},\n",
       " {'criterion': 'entropy',\n",
       "  'max_depth': 81,\n",
       "  'min_impurity_decrease': np.float64(0.6)},\n",
       " {'criterion': 'entropy',\n",
       "  'max_depth': 81,\n",
       "  'min_impurity_decrease': np.float64(0.7000000000000001)},\n",
       " {'criterion': 'entropy',\n",
       "  'max_depth': 81,\n",
       "  'min_impurity_decrease': np.float64(0.8)},\n",
       " {'criterion': 'entropy',\n",
       "  'max_depth': 81,\n",
       "  'min_impurity_decrease': np.float64(0.9)},\n",
       " {'criterion': 'entropy',\n",
       "  'max_depth': 81,\n",
       "  'min_impurity_decrease': np.float64(1.0)},\n",
       " {'criterion': 'log_loss',\n",
       "  'max_depth': 1,\n",
       "  'min_impurity_decrease': np.float64(0.1)},\n",
       " {'criterion': 'log_loss',\n",
       "  'max_depth': 1,\n",
       "  'min_impurity_decrease': np.float64(0.2)},\n",
       " {'criterion': 'log_loss',\n",
       "  'max_depth': 1,\n",
       "  'min_impurity_decrease': np.float64(0.30000000000000004)},\n",
       " {'criterion': 'log_loss',\n",
       "  'max_depth': 1,\n",
       "  'min_impurity_decrease': np.float64(0.4)},\n",
       " {'criterion': 'log_loss',\n",
       "  'max_depth': 1,\n",
       "  'min_impurity_decrease': np.float64(0.5)},\n",
       " {'criterion': 'log_loss',\n",
       "  'max_depth': 1,\n",
       "  'min_impurity_decrease': np.float64(0.6)},\n",
       " {'criterion': 'log_loss',\n",
       "  'max_depth': 1,\n",
       "  'min_impurity_decrease': np.float64(0.7000000000000001)},\n",
       " {'criterion': 'log_loss',\n",
       "  'max_depth': 1,\n",
       "  'min_impurity_decrease': np.float64(0.8)},\n",
       " {'criterion': 'log_loss',\n",
       "  'max_depth': 1,\n",
       "  'min_impurity_decrease': np.float64(0.9)},\n",
       " {'criterion': 'log_loss',\n",
       "  'max_depth': 1,\n",
       "  'min_impurity_decrease': np.float64(1.0)},\n",
       " {'criterion': 'log_loss',\n",
       "  'max_depth': 21,\n",
       "  'min_impurity_decrease': np.float64(0.1)},\n",
       " {'criterion': 'log_loss',\n",
       "  'max_depth': 21,\n",
       "  'min_impurity_decrease': np.float64(0.2)},\n",
       " {'criterion': 'log_loss',\n",
       "  'max_depth': 21,\n",
       "  'min_impurity_decrease': np.float64(0.30000000000000004)},\n",
       " {'criterion': 'log_loss',\n",
       "  'max_depth': 21,\n",
       "  'min_impurity_decrease': np.float64(0.4)},\n",
       " {'criterion': 'log_loss',\n",
       "  'max_depth': 21,\n",
       "  'min_impurity_decrease': np.float64(0.5)},\n",
       " {'criterion': 'log_loss',\n",
       "  'max_depth': 21,\n",
       "  'min_impurity_decrease': np.float64(0.6)},\n",
       " {'criterion': 'log_loss',\n",
       "  'max_depth': 21,\n",
       "  'min_impurity_decrease': np.float64(0.7000000000000001)},\n",
       " {'criterion': 'log_loss',\n",
       "  'max_depth': 21,\n",
       "  'min_impurity_decrease': np.float64(0.8)},\n",
       " {'criterion': 'log_loss',\n",
       "  'max_depth': 21,\n",
       "  'min_impurity_decrease': np.float64(0.9)},\n",
       " {'criterion': 'log_loss',\n",
       "  'max_depth': 21,\n",
       "  'min_impurity_decrease': np.float64(1.0)},\n",
       " {'criterion': 'log_loss',\n",
       "  'max_depth': 41,\n",
       "  'min_impurity_decrease': np.float64(0.1)},\n",
       " {'criterion': 'log_loss',\n",
       "  'max_depth': 41,\n",
       "  'min_impurity_decrease': np.float64(0.2)},\n",
       " {'criterion': 'log_loss',\n",
       "  'max_depth': 41,\n",
       "  'min_impurity_decrease': np.float64(0.30000000000000004)},\n",
       " {'criterion': 'log_loss',\n",
       "  'max_depth': 41,\n",
       "  'min_impurity_decrease': np.float64(0.4)},\n",
       " {'criterion': 'log_loss',\n",
       "  'max_depth': 41,\n",
       "  'min_impurity_decrease': np.float64(0.5)},\n",
       " {'criterion': 'log_loss',\n",
       "  'max_depth': 41,\n",
       "  'min_impurity_decrease': np.float64(0.6)},\n",
       " {'criterion': 'log_loss',\n",
       "  'max_depth': 41,\n",
       "  'min_impurity_decrease': np.float64(0.7000000000000001)},\n",
       " {'criterion': 'log_loss',\n",
       "  'max_depth': 41,\n",
       "  'min_impurity_decrease': np.float64(0.8)},\n",
       " {'criterion': 'log_loss',\n",
       "  'max_depth': 41,\n",
       "  'min_impurity_decrease': np.float64(0.9)},\n",
       " {'criterion': 'log_loss',\n",
       "  'max_depth': 41,\n",
       "  'min_impurity_decrease': np.float64(1.0)},\n",
       " {'criterion': 'log_loss',\n",
       "  'max_depth': 61,\n",
       "  'min_impurity_decrease': np.float64(0.1)},\n",
       " {'criterion': 'log_loss',\n",
       "  'max_depth': 61,\n",
       "  'min_impurity_decrease': np.float64(0.2)},\n",
       " {'criterion': 'log_loss',\n",
       "  'max_depth': 61,\n",
       "  'min_impurity_decrease': np.float64(0.30000000000000004)},\n",
       " {'criterion': 'log_loss',\n",
       "  'max_depth': 61,\n",
       "  'min_impurity_decrease': np.float64(0.4)},\n",
       " {'criterion': 'log_loss',\n",
       "  'max_depth': 61,\n",
       "  'min_impurity_decrease': np.float64(0.5)},\n",
       " {'criterion': 'log_loss',\n",
       "  'max_depth': 61,\n",
       "  'min_impurity_decrease': np.float64(0.6)},\n",
       " {'criterion': 'log_loss',\n",
       "  'max_depth': 61,\n",
       "  'min_impurity_decrease': np.float64(0.7000000000000001)},\n",
       " {'criterion': 'log_loss',\n",
       "  'max_depth': 61,\n",
       "  'min_impurity_decrease': np.float64(0.8)},\n",
       " {'criterion': 'log_loss',\n",
       "  'max_depth': 61,\n",
       "  'min_impurity_decrease': np.float64(0.9)},\n",
       " {'criterion': 'log_loss',\n",
       "  'max_depth': 61,\n",
       "  'min_impurity_decrease': np.float64(1.0)},\n",
       " {'criterion': 'log_loss',\n",
       "  'max_depth': 81,\n",
       "  'min_impurity_decrease': np.float64(0.1)},\n",
       " {'criterion': 'log_loss',\n",
       "  'max_depth': 81,\n",
       "  'min_impurity_decrease': np.float64(0.2)},\n",
       " {'criterion': 'log_loss',\n",
       "  'max_depth': 81,\n",
       "  'min_impurity_decrease': np.float64(0.30000000000000004)},\n",
       " {'criterion': 'log_loss',\n",
       "  'max_depth': 81,\n",
       "  'min_impurity_decrease': np.float64(0.4)},\n",
       " {'criterion': 'log_loss',\n",
       "  'max_depth': 81,\n",
       "  'min_impurity_decrease': np.float64(0.5)},\n",
       " {'criterion': 'log_loss',\n",
       "  'max_depth': 81,\n",
       "  'min_impurity_decrease': np.float64(0.6)},\n",
       " {'criterion': 'log_loss',\n",
       "  'max_depth': 81,\n",
       "  'min_impurity_decrease': np.float64(0.7000000000000001)},\n",
       " {'criterion': 'log_loss',\n",
       "  'max_depth': 81,\n",
       "  'min_impurity_decrease': np.float64(0.8)},\n",
       " {'criterion': 'log_loss',\n",
       "  'max_depth': 81,\n",
       "  'min_impurity_decrease': np.float64(0.9)},\n",
       " {'criterion': 'log_loss',\n",
       "  'max_depth': 81,\n",
       "  'min_impurity_decrease': np.float64(1.0)}]"
      ]
     },
     "execution_count": 24,
     "metadata": {},
     "output_type": "execute_result"
    }
   ],
   "source": [
    "list(ParameterGrid(params))"
   ]
  },
  {
   "cell_type": "code",
   "execution_count": 25,
   "id": "87662360-baf7-4443-8692-28ac48755778",
   "metadata": {},
   "outputs": [
    {
     "data": {
      "text/plain": [
       "{'criterion': ['gini', 'entropy', 'log_loss'],\n",
       " 'max_depth': [1, 21, 41, 61, 81],\n",
       " 'min_impurity_decrease': array([0.1, 0.2, 0.3, 0.4, 0.5, 0.6, 0.7, 0.8, 0.9, 1. ])}"
      ]
     },
     "execution_count": 25,
     "metadata": {},
     "output_type": "execute_result"
    }
   ],
   "source": [
    "params"
   ]
  },
  {
   "cell_type": "code",
   "execution_count": 30,
   "id": "7464f690-a39c-4095-8e53-a2fc9a9e63f8",
   "metadata": {},
   "outputs": [
    {
     "data": {
      "text/plain": [
       "150"
      ]
     },
     "execution_count": 30,
     "metadata": {},
     "output_type": "execute_result"
    }
   ],
   "source": [
    "# con paramgrid facciamo tutte le combinazioni --> 150\n",
    "len(list(ParameterGrid(params))) # 5*3*10"
   ]
  },
  {
   "cell_type": "code",
   "execution_count": 37,
   "id": "b3b550d5-43a1-4c3a-9efb-75c9b6613a0d",
   "metadata": {},
   "outputs": [],
   "source": [
    "X = np.random.random((1000, 10))\n",
    "y = np.random.randint(0,10, 1000)"
   ]
  },
  {
   "cell_type": "code",
   "execution_count": 56,
   "id": "06cd03fb-2fcf-4458-b49f-82de95d8000a",
   "metadata": {},
   "outputs": [],
   "source": [
    "X_train_valid, X_test, y_train_valid, y_test = train_test_split(X, y, train_size=0.8)"
   ]
  },
  {
   "cell_type": "code",
   "execution_count": 57,
   "id": "81e8ce9b-3cd4-4954-9564-46923652df21",
   "metadata": {},
   "outputs": [
    {
     "data": {
      "text/plain": [
       "(800, 10)"
      ]
     },
     "execution_count": 57,
     "metadata": {},
     "output_type": "execute_result"
    }
   ],
   "source": [
    "X_train_valid.shape"
   ]
  },
  {
   "cell_type": "code",
   "execution_count": 58,
   "id": "17f494f1-688a-4c97-80fd-3bf778321505",
   "metadata": {},
   "outputs": [
    {
     "data": {
      "text/plain": [
       "(200, 10)"
      ]
     },
     "execution_count": 58,
     "metadata": {},
     "output_type": "execute_result"
    }
   ],
   "source": [
    "X_test.shape"
   ]
  },
  {
   "cell_type": "code",
   "execution_count": 59,
   "id": "dccf2c4f-f80e-43da-bb88-1c1470f0fba9",
   "metadata": {},
   "outputs": [],
   "source": [
    "X_train, X_valid, y_train, y_valid = train_test_split(X_train_valid, y_train_valid, train_size=0.75)"
   ]
  },
  {
   "cell_type": "code",
   "execution_count": 60,
   "id": "6732019d-a523-4507-9b68-aeebf02e12a3",
   "metadata": {},
   "outputs": [
    {
     "data": {
      "text/plain": [
       "(600, 10)"
      ]
     },
     "execution_count": 60,
     "metadata": {},
     "output_type": "execute_result"
    }
   ],
   "source": [
    "X_train.shape"
   ]
  },
  {
   "cell_type": "code",
   "execution_count": 61,
   "id": "74a43f8d-dee2-46e0-a696-b3ce22c14a15",
   "metadata": {},
   "outputs": [
    {
     "data": {
      "text/plain": [
       "(200, 10)"
      ]
     },
     "execution_count": 61,
     "metadata": {},
     "output_type": "execute_result"
    }
   ],
   "source": [
    "X_test.shape"
   ]
  },
  {
   "cell_type": "code",
   "execution_count": 62,
   "id": "51f923c3-9f31-42cc-a504-749703f1e850",
   "metadata": {},
   "outputs": [],
   "source": [
    "from sklearn.tree import DecisionTreeClassifier\n",
    "from sklearn.metrics import accuracy_score\n",
    "accuracies = []\n",
    "for config in ParameterGrid(params):\n",
    "    #clf = DecisionTreeClassifier(criterion=config[\"criterion\"],\n",
    "                                # max_depth=config[\"max_depth\"],\n",
    "                                #min_impurity=config[\"min_impurity_decrease\"])\n",
    "    clf = DecisionTreeClassifier(**config) # same as previous lines\n",
    "    clf.fit(X_train, y_train)\n",
    "    acc = accuracy_score(y_valid, clf.predict(X_valid))\n",
    "    accuracies.append(acc)"
   ]
  },
  {
   "cell_type": "code",
   "execution_count": 63,
   "id": "79904834-820b-4431-9d8b-eeba6224fc69",
   "metadata": {},
   "outputs": [
    {
     "data": {
      "text/plain": [
       "np.int64(0)"
      ]
     },
     "execution_count": 63,
     "metadata": {},
     "output_type": "execute_result"
    }
   ],
   "source": [
    "np.argmax(accuracies)"
   ]
  },
  {
   "cell_type": "code",
   "execution_count": null,
   "id": "612f5e3d-8271-4f31-ad1b-f2b59156b00b",
   "metadata": {},
   "outputs": [],
   "source": []
  }
 ],
 "metadata": {
  "kernelspec": {
   "display_name": "Python 3 (ipykernel)",
   "language": "python",
   "name": "python3"
  },
  "language_info": {
   "codemirror_mode": {
    "name": "ipython",
    "version": 3
   },
   "file_extension": ".py",
   "mimetype": "text/x-python",
   "name": "python",
   "nbconvert_exporter": "python",
   "pygments_lexer": "ipython3",
   "version": "3.12.2"
  }
 },
 "nbformat": 4,
 "nbformat_minor": 5
}
