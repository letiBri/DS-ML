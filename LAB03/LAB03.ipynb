{
 "cells": [
  {
   "cell_type": "markdown",
   "id": "99b9c870-abf6-4a34-9cfd-5c456f0316d5",
   "metadata": {},
   "source": [
    "# LAB 03"
   ]
  },
  {
   "cell_type": "markdown",
   "id": "cd6aeff4-83b4-4ca8-97f7-179b247d0d93",
   "metadata": {},
   "source": [
    "# KNN design and implementation"
   ]
  },
  {
   "cell_type": "markdown",
   "id": "2f2fce01-fd85-47eb-92ee-d25c4500b58c",
   "metadata": {},
   "source": [
    "**es1**"
   ]
  },
  {
   "cell_type": "code",
   "execution_count": 1,
   "id": "87ab0c79-e107-4720-ae06-12fcb4e4af7f",
   "metadata": {},
   "outputs": [],
   "source": [
    "import pandas as pd\n",
    "import numpy as np\n",
    "df = pd.read_csv (\"iris.csv\", header = None)\n",
    "# header=None parameter -- meaning that Pandas will expect to find a valid data point in the first row."
   ]
  },
  {
   "cell_type": "code",
   "execution_count": 2,
   "id": "c617cf7e-d98f-441c-9203-cce98626d15a",
   "metadata": {},
   "outputs": [
    {
     "data": {
      "text/html": [
       "<div>\n",
       "<style scoped>\n",
       "    .dataframe tbody tr th:only-of-type {\n",
       "        vertical-align: middle;\n",
       "    }\n",
       "\n",
       "    .dataframe tbody tr th {\n",
       "        vertical-align: top;\n",
       "    }\n",
       "\n",
       "    .dataframe thead th {\n",
       "        text-align: right;\n",
       "    }\n",
       "</style>\n",
       "<table border=\"1\" class=\"dataframe\">\n",
       "  <thead>\n",
       "    <tr style=\"text-align: right;\">\n",
       "      <th></th>\n",
       "      <th>0</th>\n",
       "      <th>1</th>\n",
       "      <th>2</th>\n",
       "      <th>3</th>\n",
       "      <th>4</th>\n",
       "    </tr>\n",
       "  </thead>\n",
       "  <tbody>\n",
       "    <tr>\n",
       "      <th>0</th>\n",
       "      <td>5.1</td>\n",
       "      <td>3.5</td>\n",
       "      <td>1.4</td>\n",
       "      <td>0.2</td>\n",
       "      <td>Iris-setosa</td>\n",
       "    </tr>\n",
       "    <tr>\n",
       "      <th>1</th>\n",
       "      <td>4.9</td>\n",
       "      <td>3.0</td>\n",
       "      <td>1.4</td>\n",
       "      <td>0.2</td>\n",
       "      <td>Iris-setosa</td>\n",
       "    </tr>\n",
       "    <tr>\n",
       "      <th>2</th>\n",
       "      <td>4.7</td>\n",
       "      <td>3.2</td>\n",
       "      <td>1.3</td>\n",
       "      <td>0.2</td>\n",
       "      <td>Iris-setosa</td>\n",
       "    </tr>\n",
       "    <tr>\n",
       "      <th>3</th>\n",
       "      <td>4.6</td>\n",
       "      <td>3.1</td>\n",
       "      <td>1.5</td>\n",
       "      <td>0.2</td>\n",
       "      <td>Iris-setosa</td>\n",
       "    </tr>\n",
       "    <tr>\n",
       "      <th>4</th>\n",
       "      <td>5.0</td>\n",
       "      <td>3.6</td>\n",
       "      <td>1.4</td>\n",
       "      <td>0.2</td>\n",
       "      <td>Iris-setosa</td>\n",
       "    </tr>\n",
       "    <tr>\n",
       "      <th>...</th>\n",
       "      <td>...</td>\n",
       "      <td>...</td>\n",
       "      <td>...</td>\n",
       "      <td>...</td>\n",
       "      <td>...</td>\n",
       "    </tr>\n",
       "    <tr>\n",
       "      <th>145</th>\n",
       "      <td>6.7</td>\n",
       "      <td>3.0</td>\n",
       "      <td>5.2</td>\n",
       "      <td>2.3</td>\n",
       "      <td>Iris-virginica</td>\n",
       "    </tr>\n",
       "    <tr>\n",
       "      <th>146</th>\n",
       "      <td>6.3</td>\n",
       "      <td>2.5</td>\n",
       "      <td>5.0</td>\n",
       "      <td>1.9</td>\n",
       "      <td>Iris-virginica</td>\n",
       "    </tr>\n",
       "    <tr>\n",
       "      <th>147</th>\n",
       "      <td>6.5</td>\n",
       "      <td>3.0</td>\n",
       "      <td>5.2</td>\n",
       "      <td>2.0</td>\n",
       "      <td>Iris-virginica</td>\n",
       "    </tr>\n",
       "    <tr>\n",
       "      <th>148</th>\n",
       "      <td>6.2</td>\n",
       "      <td>3.4</td>\n",
       "      <td>5.4</td>\n",
       "      <td>2.3</td>\n",
       "      <td>Iris-virginica</td>\n",
       "    </tr>\n",
       "    <tr>\n",
       "      <th>149</th>\n",
       "      <td>5.9</td>\n",
       "      <td>3.0</td>\n",
       "      <td>5.1</td>\n",
       "      <td>1.8</td>\n",
       "      <td>Iris-virginica</td>\n",
       "    </tr>\n",
       "  </tbody>\n",
       "</table>\n",
       "<p>150 rows × 5 columns</p>\n",
       "</div>"
      ],
      "text/plain": [
       "       0    1    2    3               4\n",
       "0    5.1  3.5  1.4  0.2     Iris-setosa\n",
       "1    4.9  3.0  1.4  0.2     Iris-setosa\n",
       "2    4.7  3.2  1.3  0.2     Iris-setosa\n",
       "3    4.6  3.1  1.5  0.2     Iris-setosa\n",
       "4    5.0  3.6  1.4  0.2     Iris-setosa\n",
       "..   ...  ...  ...  ...             ...\n",
       "145  6.7  3.0  5.2  2.3  Iris-virginica\n",
       "146  6.3  2.5  5.0  1.9  Iris-virginica\n",
       "147  6.5  3.0  5.2  2.0  Iris-virginica\n",
       "148  6.2  3.4  5.4  2.3  Iris-virginica\n",
       "149  5.9  3.0  5.1  1.8  Iris-virginica\n",
       "\n",
       "[150 rows x 5 columns]"
      ]
     },
     "execution_count": 2,
     "metadata": {},
     "output_type": "execute_result"
    }
   ],
   "source": [
    "df"
   ]
  },
  {
   "cell_type": "markdown",
   "id": "c98d0e69-992c-4828-8c6c-519e5d384775",
   "metadata": {},
   "source": [
    "**es2,es3**"
   ]
  },
  {
   "cell_type": "raw",
   "id": "5d0bb558-3643-47b7-bf20-eea8afc89575",
   "metadata": {},
   "source": [
    "Before building our matrices X_train, X_test and vectors y_train, y_test, we will first build the design matrix X and the labels to be predicted y.\n",
    "\n",
    "A design matrix is a canonical way of representing a dataset: each row of the design matrix contains a data point, each column represents one of the features of our data points.\n",
    "\n",
    "For the iris dataset, the design matrix will have 150 rows (one for each iris measured) and 4 columns (one for each measurement -- petal width and length, sepal width and length). The labels vector will instead be a row of values: the i-th value will be the target label for the i-th element of our design matrix.\n",
    "\n",
    "We can access the matrix representation underneath the DataFrame df using the values attribute:"
   ]
  },
  {
   "cell_type": "code",
   "execution_count": 3,
   "id": "b6cad8f4-c99b-4dcb-86dc-c053b3f1b901",
   "metadata": {},
   "outputs": [
    {
     "data": {
      "text/plain": [
       "array([[5.1, 3.5, 1.4, 0.2, 'Iris-setosa'],\n",
       "       [4.9, 3.0, 1.4, 0.2, 'Iris-setosa'],\n",
       "       [4.7, 3.2, 1.3, 0.2, 'Iris-setosa'],\n",
       "       [4.6, 3.1, 1.5, 0.2, 'Iris-setosa'],\n",
       "       [5.0, 3.6, 1.4, 0.2, 'Iris-setosa'],\n",
       "       [5.4, 3.9, 1.7, 0.4, 'Iris-setosa'],\n",
       "       [4.6, 3.4, 1.4, 0.3, 'Iris-setosa'],\n",
       "       [5.0, 3.4, 1.5, 0.2, 'Iris-setosa'],\n",
       "       [4.4, 2.9, 1.4, 0.2, 'Iris-setosa'],\n",
       "       [4.9, 3.1, 1.5, 0.1, 'Iris-setosa'],\n",
       "       [5.4, 3.7, 1.5, 0.2, 'Iris-setosa'],\n",
       "       [4.8, 3.4, 1.6, 0.2, 'Iris-setosa'],\n",
       "       [4.8, 3.0, 1.4, 0.1, 'Iris-setosa'],\n",
       "       [4.3, 3.0, 1.1, 0.1, 'Iris-setosa'],\n",
       "       [5.8, 4.0, 1.2, 0.2, 'Iris-setosa'],\n",
       "       [5.7, 4.4, 1.5, 0.4, 'Iris-setosa'],\n",
       "       [5.4, 3.9, 1.3, 0.4, 'Iris-setosa'],\n",
       "       [5.1, 3.5, 1.4, 0.3, 'Iris-setosa'],\n",
       "       [5.7, 3.8, 1.7, 0.3, 'Iris-setosa'],\n",
       "       [5.1, 3.8, 1.5, 0.3, 'Iris-setosa'],\n",
       "       [5.4, 3.4, 1.7, 0.2, 'Iris-setosa'],\n",
       "       [5.1, 3.7, 1.5, 0.4, 'Iris-setosa'],\n",
       "       [4.6, 3.6, 1.0, 0.2, 'Iris-setosa'],\n",
       "       [5.1, 3.3, 1.7, 0.5, 'Iris-setosa'],\n",
       "       [4.8, 3.4, 1.9, 0.2, 'Iris-setosa'],\n",
       "       [5.0, 3.0, 1.6, 0.2, 'Iris-setosa'],\n",
       "       [5.0, 3.4, 1.6, 0.4, 'Iris-setosa'],\n",
       "       [5.2, 3.5, 1.5, 0.2, 'Iris-setosa'],\n",
       "       [5.2, 3.4, 1.4, 0.2, 'Iris-setosa'],\n",
       "       [4.7, 3.2, 1.6, 0.2, 'Iris-setosa'],\n",
       "       [4.8, 3.1, 1.6, 0.2, 'Iris-setosa'],\n",
       "       [5.4, 3.4, 1.5, 0.4, 'Iris-setosa'],\n",
       "       [5.2, 4.1, 1.5, 0.1, 'Iris-setosa'],\n",
       "       [5.5, 4.2, 1.4, 0.2, 'Iris-setosa'],\n",
       "       [4.9, 3.1, 1.5, 0.1, 'Iris-setosa'],\n",
       "       [5.0, 3.2, 1.2, 0.2, 'Iris-setosa'],\n",
       "       [5.5, 3.5, 1.3, 0.2, 'Iris-setosa'],\n",
       "       [4.9, 3.1, 1.5, 0.1, 'Iris-setosa'],\n",
       "       [4.4, 3.0, 1.3, 0.2, 'Iris-setosa'],\n",
       "       [5.1, 3.4, 1.5, 0.2, 'Iris-setosa'],\n",
       "       [5.0, 3.5, 1.3, 0.3, 'Iris-setosa'],\n",
       "       [4.5, 2.3, 1.3, 0.3, 'Iris-setosa'],\n",
       "       [4.4, 3.2, 1.3, 0.2, 'Iris-setosa'],\n",
       "       [5.0, 3.5, 1.6, 0.6, 'Iris-setosa'],\n",
       "       [5.1, 3.8, 1.9, 0.4, 'Iris-setosa'],\n",
       "       [4.8, 3.0, 1.4, 0.3, 'Iris-setosa'],\n",
       "       [5.1, 3.8, 1.6, 0.2, 'Iris-setosa'],\n",
       "       [4.6, 3.2, 1.4, 0.2, 'Iris-setosa'],\n",
       "       [5.3, 3.7, 1.5, 0.2, 'Iris-setosa'],\n",
       "       [5.0, 3.3, 1.4, 0.2, 'Iris-setosa'],\n",
       "       [7.0, 3.2, 4.7, 1.4, 'Iris-versicolor'],\n",
       "       [6.4, 3.2, 4.5, 1.5, 'Iris-versicolor'],\n",
       "       [6.9, 3.1, 4.9, 1.5, 'Iris-versicolor'],\n",
       "       [5.5, 2.3, 4.0, 1.3, 'Iris-versicolor'],\n",
       "       [6.5, 2.8, 4.6, 1.5, 'Iris-versicolor'],\n",
       "       [5.7, 2.8, 4.5, 1.3, 'Iris-versicolor'],\n",
       "       [6.3, 3.3, 4.7, 1.6, 'Iris-versicolor'],\n",
       "       [4.9, 2.4, 3.3, 1.0, 'Iris-versicolor'],\n",
       "       [6.6, 2.9, 4.6, 1.3, 'Iris-versicolor'],\n",
       "       [5.2, 2.7, 3.9, 1.4, 'Iris-versicolor'],\n",
       "       [5.0, 2.0, 3.5, 1.0, 'Iris-versicolor'],\n",
       "       [5.9, 3.0, 4.2, 1.5, 'Iris-versicolor'],\n",
       "       [6.0, 2.2, 4.0, 1.0, 'Iris-versicolor'],\n",
       "       [6.1, 2.9, 4.7, 1.4, 'Iris-versicolor'],\n",
       "       [5.6, 2.9, 3.6, 1.3, 'Iris-versicolor'],\n",
       "       [6.7, 3.1, 4.4, 1.4, 'Iris-versicolor'],\n",
       "       [5.6, 3.0, 4.5, 1.5, 'Iris-versicolor'],\n",
       "       [5.8, 2.7, 4.1, 1.0, 'Iris-versicolor'],\n",
       "       [6.2, 2.2, 4.5, 1.5, 'Iris-versicolor'],\n",
       "       [5.6, 2.5, 3.9, 1.1, 'Iris-versicolor'],\n",
       "       [5.9, 3.2, 4.8, 1.8, 'Iris-versicolor'],\n",
       "       [6.1, 2.8, 4.0, 1.3, 'Iris-versicolor'],\n",
       "       [6.3, 2.5, 4.9, 1.5, 'Iris-versicolor'],\n",
       "       [6.1, 2.8, 4.7, 1.2, 'Iris-versicolor'],\n",
       "       [6.4, 2.9, 4.3, 1.3, 'Iris-versicolor'],\n",
       "       [6.6, 3.0, 4.4, 1.4, 'Iris-versicolor'],\n",
       "       [6.8, 2.8, 4.8, 1.4, 'Iris-versicolor'],\n",
       "       [6.7, 3.0, 5.0, 1.7, 'Iris-versicolor'],\n",
       "       [6.0, 2.9, 4.5, 1.5, 'Iris-versicolor'],\n",
       "       [5.7, 2.6, 3.5, 1.0, 'Iris-versicolor'],\n",
       "       [5.5, 2.4, 3.8, 1.1, 'Iris-versicolor'],\n",
       "       [5.5, 2.4, 3.7, 1.0, 'Iris-versicolor'],\n",
       "       [5.8, 2.7, 3.9, 1.2, 'Iris-versicolor'],\n",
       "       [6.0, 2.7, 5.1, 1.6, 'Iris-versicolor'],\n",
       "       [5.4, 3.0, 4.5, 1.5, 'Iris-versicolor'],\n",
       "       [6.0, 3.4, 4.5, 1.6, 'Iris-versicolor'],\n",
       "       [6.7, 3.1, 4.7, 1.5, 'Iris-versicolor'],\n",
       "       [6.3, 2.3, 4.4, 1.3, 'Iris-versicolor'],\n",
       "       [5.6, 3.0, 4.1, 1.3, 'Iris-versicolor'],\n",
       "       [5.5, 2.5, 4.0, 1.3, 'Iris-versicolor'],\n",
       "       [5.5, 2.6, 4.4, 1.2, 'Iris-versicolor'],\n",
       "       [6.1, 3.0, 4.6, 1.4, 'Iris-versicolor'],\n",
       "       [5.8, 2.6, 4.0, 1.2, 'Iris-versicolor'],\n",
       "       [5.0, 2.3, 3.3, 1.0, 'Iris-versicolor'],\n",
       "       [5.6, 2.7, 4.2, 1.3, 'Iris-versicolor'],\n",
       "       [5.7, 3.0, 4.2, 1.2, 'Iris-versicolor'],\n",
       "       [5.7, 2.9, 4.2, 1.3, 'Iris-versicolor'],\n",
       "       [6.2, 2.9, 4.3, 1.3, 'Iris-versicolor'],\n",
       "       [5.1, 2.5, 3.0, 1.1, 'Iris-versicolor'],\n",
       "       [5.7, 2.8, 4.1, 1.3, 'Iris-versicolor'],\n",
       "       [6.3, 3.3, 6.0, 2.5, 'Iris-virginica'],\n",
       "       [5.8, 2.7, 5.1, 1.9, 'Iris-virginica'],\n",
       "       [7.1, 3.0, 5.9, 2.1, 'Iris-virginica'],\n",
       "       [6.3, 2.9, 5.6, 1.8, 'Iris-virginica'],\n",
       "       [6.5, 3.0, 5.8, 2.2, 'Iris-virginica'],\n",
       "       [7.6, 3.0, 6.6, 2.1, 'Iris-virginica'],\n",
       "       [4.9, 2.5, 4.5, 1.7, 'Iris-virginica'],\n",
       "       [7.3, 2.9, 6.3, 1.8, 'Iris-virginica'],\n",
       "       [6.7, 2.5, 5.8, 1.8, 'Iris-virginica'],\n",
       "       [7.2, 3.6, 6.1, 2.5, 'Iris-virginica'],\n",
       "       [6.5, 3.2, 5.1, 2.0, 'Iris-virginica'],\n",
       "       [6.4, 2.7, 5.3, 1.9, 'Iris-virginica'],\n",
       "       [6.8, 3.0, 5.5, 2.1, 'Iris-virginica'],\n",
       "       [5.7, 2.5, 5.0, 2.0, 'Iris-virginica'],\n",
       "       [5.8, 2.8, 5.1, 2.4, 'Iris-virginica'],\n",
       "       [6.4, 3.2, 5.3, 2.3, 'Iris-virginica'],\n",
       "       [6.5, 3.0, 5.5, 1.8, 'Iris-virginica'],\n",
       "       [7.7, 3.8, 6.7, 2.2, 'Iris-virginica'],\n",
       "       [7.7, 2.6, 6.9, 2.3, 'Iris-virginica'],\n",
       "       [6.0, 2.2, 5.0, 1.5, 'Iris-virginica'],\n",
       "       [6.9, 3.2, 5.7, 2.3, 'Iris-virginica'],\n",
       "       [5.6, 2.8, 4.9, 2.0, 'Iris-virginica'],\n",
       "       [7.7, 2.8, 6.7, 2.0, 'Iris-virginica'],\n",
       "       [6.3, 2.7, 4.9, 1.8, 'Iris-virginica'],\n",
       "       [6.7, 3.3, 5.7, 2.1, 'Iris-virginica'],\n",
       "       [7.2, 3.2, 6.0, 1.8, 'Iris-virginica'],\n",
       "       [6.2, 2.8, 4.8, 1.8, 'Iris-virginica'],\n",
       "       [6.1, 3.0, 4.9, 1.8, 'Iris-virginica'],\n",
       "       [6.4, 2.8, 5.6, 2.1, 'Iris-virginica'],\n",
       "       [7.2, 3.0, 5.8, 1.6, 'Iris-virginica'],\n",
       "       [7.4, 2.8, 6.1, 1.9, 'Iris-virginica'],\n",
       "       [7.9, 3.8, 6.4, 2.0, 'Iris-virginica'],\n",
       "       [6.4, 2.8, 5.6, 2.2, 'Iris-virginica'],\n",
       "       [6.3, 2.8, 5.1, 1.5, 'Iris-virginica'],\n",
       "       [6.1, 2.6, 5.6, 1.4, 'Iris-virginica'],\n",
       "       [7.7, 3.0, 6.1, 2.3, 'Iris-virginica'],\n",
       "       [6.3, 3.4, 5.6, 2.4, 'Iris-virginica'],\n",
       "       [6.4, 3.1, 5.5, 1.8, 'Iris-virginica'],\n",
       "       [6.0, 3.0, 4.8, 1.8, 'Iris-virginica'],\n",
       "       [6.9, 3.1, 5.4, 2.1, 'Iris-virginica'],\n",
       "       [6.7, 3.1, 5.6, 2.4, 'Iris-virginica'],\n",
       "       [6.9, 3.1, 5.1, 2.3, 'Iris-virginica'],\n",
       "       [5.8, 2.7, 5.1, 1.9, 'Iris-virginica'],\n",
       "       [6.8, 3.2, 5.9, 2.3, 'Iris-virginica'],\n",
       "       [6.7, 3.3, 5.7, 2.5, 'Iris-virginica'],\n",
       "       [6.7, 3.0, 5.2, 2.3, 'Iris-virginica'],\n",
       "       [6.3, 2.5, 5.0, 1.9, 'Iris-virginica'],\n",
       "       [6.5, 3.0, 5.2, 2.0, 'Iris-virginica'],\n",
       "       [6.2, 3.4, 5.4, 2.3, 'Iris-virginica'],\n",
       "       [5.9, 3.0, 5.1, 1.8, 'Iris-virginica']], dtype=object)"
      ]
     },
     "execution_count": 3,
     "metadata": {},
     "output_type": "execute_result"
    }
   ],
   "source": [
    "df.values"
   ]
  },
  {
   "cell_type": "raw",
   "id": "66116fdf-7ea2-43fb-9452-ac0350a63da9",
   "metadata": {},
   "source": [
    "From this matrix it is clear that our X is contained in the first 4 columns of df, whereas our y is the 5th column. We can slice this numpy matrix as follows:"
   ]
  },
  {
   "cell_type": "code",
   "execution_count": 4,
   "id": "11205efc-4f6b-4301-8840-93dbb6580280",
   "metadata": {},
   "outputs": [
    {
     "data": {
      "text/plain": [
       "((150, 4), (150,))"
      ]
     },
     "execution_count": 4,
     "metadata": {},
     "output_type": "execute_result"
    }
   ],
   "source": [
    "X = df.values[:, :4].astype(float) # all rows (:), columns 0 -> 3 (:4)\n",
    "y = df.values[:, 4] # all rows (:), 4th column (4)\n",
    "X.shape, y.shape"
   ]
  },
  {
   "cell_type": "raw",
   "id": "a0b3c8d9-e54e-423f-a61f-32d3d552871a",
   "metadata": {},
   "source": [
    "Indeed, the shapes of the extracted arrays are in accordance with the expectations.\n",
    "\n",
    "Notice how we are changing the type of X to float. This is because the original matrix (df.values) uses a single type, \"object\", for all values. Numpy arrays support single types only (for efficiency reasons) and, since the \"label\" column is a string (object), the \"object\" type is used to represent the entire df.values."
   ]
  },
  {
   "cell_type": "raw",
   "id": "0e37d3c4-632f-4010-92a7-d3e9b1be4c3a",
   "metadata": {},
   "source": [
    "We now need to extract a training set (X_train, y_train) and a test set (X_test, y_test). An important property is that there cannot be any point shared between the two (i.e. the two sets cannot overlap). This is because we need to evaluate the performance of our classification model on data that has never seen before by our model (i.e. data that is not in the training set). If this is not the case, the model would have an unfair advantage and we would over-estimate the model's capability to generalize to new data.\n",
    "\n",
    "To guarantee this property, we can use a boolean mask to select only a portion of the dataset. Then, using the negation operator, we can \"flip\" the mask so as to select all remaining values. The following code snippet shows how this works on a toy example."
   ]
  },
  {
   "cell_type": "raw",
   "id": "a3ee9670-f13c-4e51-b2f3-cc6b7dbc6b10",
   "metadata": {},
   "source": [
    "We can apply approach of masks to our dataset, by first selecting X_train with a mask and then flipping the mask to select all remaining values (to put in X_test).\n",
    "Our mask will need to contain 150 values: 120 of which (80% of 150) will be true (i.e. will be placed in X_test), whereas the remaining 20% will be set to false (X_test). The 80/20 ratio is a common one for train/test splits. You typically want a larger proportion of data for your training set and a smaller one for the testing (other common splits could be 60/40, 75/25 -- depending on the availability of data)."
   ]
  },
  {
   "cell_type": "raw",
   "id": "c744ff97-6b17-45bb-bc36-823adc661949",
   "metadata": {},
   "source": [
    "Clearly, we will not write a mask of 150 values. We can use the \"repetition\" operator (\"\") in python (e.g. `[1] 3 = [1,1,1]). We can repeat the True value 120 times, and the False value 30 times -- then concatenate the two (\"+\" operator) (e.g.[1,2,3] + [4,5,6] = [1,2,3,4,5,6]`)."
   ]
  },
  {
   "cell_type": "code",
   "execution_count": 5,
   "id": "00d775b8-0b28-43fa-ba99-9fbea7bc707c",
   "metadata": {},
   "outputs": [
    {
     "data": {
      "text/plain": [
       "array([ True,  True,  True,  True,  True,  True,  True,  True,  True,\n",
       "        True,  True,  True,  True,  True,  True,  True,  True,  True,\n",
       "        True,  True,  True,  True,  True,  True,  True,  True,  True,\n",
       "        True,  True,  True,  True,  True,  True,  True,  True,  True,\n",
       "        True,  True,  True,  True,  True,  True,  True,  True,  True,\n",
       "        True,  True,  True,  True,  True,  True,  True,  True,  True,\n",
       "        True,  True,  True,  True,  True,  True,  True,  True,  True,\n",
       "        True,  True,  True,  True,  True,  True,  True,  True,  True,\n",
       "        True,  True,  True,  True,  True,  True,  True,  True,  True,\n",
       "        True,  True,  True,  True,  True,  True,  True,  True,  True,\n",
       "        True,  True,  True,  True,  True,  True,  True,  True,  True,\n",
       "        True,  True,  True,  True,  True,  True,  True,  True,  True,\n",
       "        True,  True,  True,  True,  True,  True,  True,  True,  True,\n",
       "        True,  True,  True, False, False, False, False, False, False,\n",
       "       False, False, False, False, False, False, False, False, False,\n",
       "       False, False, False, False, False, False, False, False, False,\n",
       "       False, False, False, False, False, False])"
      ]
     },
     "execution_count": 5,
     "metadata": {},
     "output_type": "execute_result"
    }
   ],
   "source": [
    "mask_True = [True] * 120 # 80%\n",
    "mask_False = [False] * 30 # 20%\n",
    "mask = np.array(mask_True + mask_False)\n",
    "mask"
   ]
  },
  {
   "cell_type": "raw",
   "id": "48fc2586-fb86-4c42-81fc-e850261d0807",
   "metadata": {},
   "source": [
    "If we use this mask, though, we will select the frist 120 values of X as our training set, and the last 30 values as test. Since, however, our data is ordered by label, we would get all setosa and all versicolor points (+ 20 virginica points) in our training set and 30 for our test set. This is obviously not desirable. Instead, we can shuffle mask so that the selected points will be randomly distributed.\n",
    "\n",
    "np.random.shuffle() shuffles an array in-place. By calling it we can get the shuffled version of mask we are interested in."
   ]
  },
  {
   "cell_type": "code",
   "execution_count": 6,
   "id": "d8ffbd53-e968-4a2c-8072-dffc4393476f",
   "metadata": {},
   "outputs": [
    {
     "data": {
      "text/plain": [
       "array([ True,  True, False,  True,  True,  True,  True, False,  True,\n",
       "       False,  True,  True, False, False,  True,  True,  True, False,\n",
       "        True, False,  True, False,  True,  True,  True,  True,  True,\n",
       "        True, False,  True, False,  True,  True,  True,  True,  True,\n",
       "        True,  True,  True,  True, False,  True,  True, False,  True,\n",
       "        True,  True,  True,  True,  True, False,  True,  True,  True,\n",
       "        True, False,  True,  True,  True, False,  True,  True,  True,\n",
       "        True,  True,  True, False,  True,  True,  True,  True,  True,\n",
       "        True,  True,  True,  True,  True,  True,  True,  True,  True,\n",
       "       False,  True,  True,  True,  True, False,  True, False, False,\n",
       "        True,  True,  True, False,  True,  True,  True,  True,  True,\n",
       "        True,  True,  True,  True, False,  True,  True,  True, False,\n",
       "        True,  True, False,  True,  True,  True, False,  True,  True,\n",
       "        True,  True,  True,  True,  True, False, False,  True,  True,\n",
       "        True,  True, False,  True,  True,  True, False,  True,  True,\n",
       "        True,  True,  True,  True,  True, False,  True,  True,  True,\n",
       "        True,  True,  True,  True,  True,  True])"
      ]
     },
     "execution_count": 6,
     "metadata": {},
     "output_type": "execute_result"
    }
   ],
   "source": [
    "np.random.shuffle(mask) # ora li mischio tutti\n",
    "mask"
   ]
  },
  {
   "cell_type": "raw",
   "id": "233fddc7-a4be-4522-a05d-aa39031133c3",
   "metadata": {},
   "source": [
    "Now, we can extract our X_train and X_test, as well as y_train and y_test (notice how we can leverage the same mask for both X and y)."
   ]
  },
  {
   "cell_type": "code",
   "execution_count": 7,
   "id": "cd5d33b5-c152-46c1-a2b2-b39a62f78437",
   "metadata": {},
   "outputs": [
    {
     "data": {
      "text/plain": [
       "((120, 4), (30, 4), (120,), (30,))"
      ]
     },
     "execution_count": 7,
     "metadata": {},
     "output_type": "execute_result"
    }
   ],
   "source": [
    "X_train = X[mask] # prendo l'80%\n",
    "X_test = X[~mask] # prendo il restante 20%\n",
    "\n",
    "y_train = y[mask] # prendo l'80%\n",
    "y_test = y[~mask] # prenso il restante 20%\n",
    "(X_train.shape, X_test.shape, y_train.shape, y_test.shape)"
   ]
  },
  {
   "cell_type": "raw",
   "id": "f6cea8ea-99f9-4c7a-89c1-1b4c25f560d9",
   "metadata": {},
   "source": [
    "To make sure that we are approximately retaining the same proportion of labels in the training and test set, we can count how many points of each class we are using for training and for testing. To this end, we can use Counter (which takes an iterable as input and returns a dictionary where keys are elements of the input list and values are the number of occurences for each element)."
   ]
  },
  {
   "cell_type": "code",
   "execution_count": 8,
   "id": "51b5e26f-9e85-4d5f-848c-f519336b866e",
   "metadata": {},
   "outputs": [
    {
     "data": {
      "text/plain": [
       "(Counter({'Iris-versicolor': 41, 'Iris-virginica': 41, 'Iris-setosa': 38}),\n",
       " Counter({'Iris-setosa': 12, 'Iris-versicolor': 9, 'Iris-virginica': 9}))"
      ]
     },
     "execution_count": 8,
     "metadata": {},
     "output_type": "execute_result"
    }
   ],
   "source": [
    "from collections import Counter\n",
    "Counter(y_train), Counter(y_test)"
   ]
  },
  {
   "cell_type": "markdown",
   "id": "68e650b5-af52-4168-a780-708086141d38",
   "metadata": {},
   "source": [
    "**es4**"
   ]
  },
  {
   "cell_type": "code",
   "execution_count": 9,
   "id": "46833da0-2afd-4533-b6d5-8998a5e49c37",
   "metadata": {},
   "outputs": [],
   "source": [
    "class KNearestNeighbors1:\n",
    "    def __init__(self, k, distance_metric=\"euclidean\"):\n",
    "        self.k = k\n",
    "        self.distance_metric = distance_metric\n",
    "    \n",
    "    def fit(self, X_train, y_train):\n",
    "        \"\"\"\n",
    "        Store the 'prior knowledge ' of you model that will be used to predict new labels .\n",
    "        : param X : input data points , ndarray , shape = (R,C).\n",
    "        : param y : input labels , ndarray , shape = (R ,).\n",
    "        \"\"\"\n",
    "        self.X_train = X_train\n",
    "        self.y_train = y_train\n",
    "    \n",
    "    def predict(self, X):\n",
    "        \"\"\"\n",
    "        Run the KNN classification on X.\n",
    "        : param X: input data points , ndarray , shape = (N,C).\n",
    "        : return : labels : ndarray , shape = (N ,).\n",
    "        \"\"\"\n",
    "        pass"
   ]
  },
  {
   "cell_type": "raw",
   "id": "670e7501-bf15-4bf8-a0f5-0dc0974f9699",
   "metadata": {},
   "source": [
    "For the KNN algorithm, the \"fit\" part is particularly straightforward: since all KNN does is computing the distance between training points and test points, the \"fit\" step will only need to store the training set for later use.\n",
    "\n",
    "Notice how the syntax used for this class (which is also the syntax used for all sklearn models) does not distinguish between train and test arrays (i.e. it always uses X and y). The context in which does arrays are used should be enough to understand whether we are referring to a training or a test set. For this solution, though, we will disambiguate between training and test."
   ]
  },
  {
   "cell_type": "markdown",
   "id": "90c86d89-36fc-4c71-ad94-811b8b2bcc8e",
   "metadata": {},
   "source": [
    "**es5**"
   ]
  },
  {
   "cell_type": "raw",
   "id": "25b7441a-2d32-46c5-8212-042e57b6bcdd",
   "metadata": {},
   "source": [
    "We now need to implement three different distances: euclidean, cosine and Manhattan. We will then need to compute these distances between all points in the training set and all points in the test set. Since distances are scalar values, the output should be a distance matrix of M rows and N columns, where M is the number of points in our training set, and N is the number of points in our test set (for the Iris case, therefore, this will be a 120x30 matrix)."
   ]
  },
  {
   "cell_type": "code",
   "execution_count": 10,
   "id": "5a634ea9-0afc-4e0a-a810-c7bd48a96c3a",
   "metadata": {},
   "outputs": [],
   "source": [
    "# EUCLIDEAN DISTANCE"
   ]
  },
  {
   "cell_type": "code",
   "execution_count": 11,
   "id": "d0e66230-d0dd-4d5f-8257-627d84c8fed9",
   "metadata": {},
   "outputs": [],
   "source": [
    "def euclidean_non_numpy(p, q):\n",
    "    cumul = 0\n",
    "    for i in range(len(p)):\n",
    "        cumul += (p[i] - q[i])**2\n",
    "    return cumul ** 0.5\n",
    "    \n",
    "def euclidean_numpy(p, q): # tratto com\n",
    "    return ((p-q)**2).sum()**.5"
   ]
  },
  {
   "cell_type": "raw",
   "id": "ae98131d-3182-400a-8002-e6c822edba2b",
   "metadata": {},
   "source": [
    "First, we need to compute the difference between all X_train points and X_test points. X_train - X_test is not as valid solution, from both a shape-wise and a logical perspective. Instead we need, for each of the M points in X_train, to compute N subtractions (one for each of the N points in X_test).\n",
    "\n",
    "Ideally, therefore, our broadcasted training set should have shape (M, N, n) (we replicate each of the M points N times). Since we can leverage broadcasting, we can have a training set with shape (M, 1, n) be broadcasted when subtracting the (N, n) matrix from it (indeed, those two shape are compatible and broadcasted to shape (M, N, n)."
   ]
  },
  {
   "cell_type": "code",
   "execution_count": 12,
   "id": "56d4e68d-4d39-428a-84d4-5a473b1b5180",
   "metadata": {},
   "outputs": [
    {
     "data": {
      "text/plain": [
       "(120, 1, 4)"
      ]
     },
     "execution_count": 12,
     "metadata": {},
     "output_type": "execute_result"
    }
   ],
   "source": [
    "X_train_reshaped = np.expand_dims(X_train, 1) # np.expand_dims(array, axis) aggiunge una nuova dimensione all’array lungo l’asse specificato.\n",
    "X_train_reshaped.shape"
   ]
  },
  {
   "cell_type": "raw",
   "id": "5806aedd-3777-49d8-86a0-66abfb238790",
   "metadata": {},
   "source": [
    "From this, we can subtract X_test and obtain the (M, N, n) matrix we are loo:"
   ]
  },
  {
   "cell_type": "code",
   "execution_count": 13,
   "id": "bb3473f1-d2b0-4596-a7fb-cf2f76b96d8a",
   "metadata": {},
   "outputs": [
    {
     "data": {
      "text/plain": [
       "(120, 30, 4)"
      ]
     },
     "execution_count": 13,
     "metadata": {},
     "output_type": "execute_result"
    }
   ],
   "source": [
    "X_diff = X_train_reshaped - X_test\n",
    "X_diff.shape"
   ]
  },
  {
   "cell_type": "raw",
   "id": "e2e94232-00be-4e71-b0f4-f513db2033f6",
   "metadata": {},
   "source": [
    "On the third dimension we have the difference across all dimensions. We can square those values (to obtain the squared distance) and sum them (along the correct axis). Then, we can take the (element-wise) square root of the matrix: this will be our distance matrix."
   ]
  },
  {
   "cell_type": "code",
   "execution_count": 14,
   "id": "5a8ecc6e-d9cf-48ec-ac17-d9d9289bf104",
   "metadata": {},
   "outputs": [
    {
     "data": {
      "text/plain": [
       "(120, 30)"
      ]
     },
     "execution_count": 14,
     "metadata": {},
     "output_type": "execute_result"
    }
   ],
   "source": [
    "dist_matrix = ((X_diff**2).sum(axis=2))**.5\n",
    "# Sommi i quadrati lungo l’asse 2 (cioè lungo le feature), ottenendo la somma dei quadrati delle differenze per ciascuna coppia di punti.\n",
    "# facciuo la radice per ottenere la distanza euclidea\n",
    "dist_matrix.shape"
   ]
  },
  {
   "cell_type": "raw",
   "id": "89c4c151-0147-4cae-af13-be3b538e3ed9",
   "metadata": {},
   "source": [
    "To make sure that the values are indeed distances, we can take the i-th X_train element and j-th X_test element and make sure that their distance (as computed by euclidean_numpy) is the same as the (i,j) position in dist_matrix."
   ]
  },
  {
   "cell_type": "code",
   "execution_count": 15,
   "id": "09a8b754-9d37-47fa-822f-ac095464f386",
   "metadata": {},
   "outputs": [
    {
     "data": {
      "text/plain": [
       "(np.float64(3.0033314835362415), np.float64(3.0033314835362415))"
      ]
     },
     "execution_count": 15,
     "metadata": {},
     "output_type": "execute_result"
    }
   ],
   "source": [
    "i = 25\n",
    "j = 14\n",
    "dist_matrix[i,j], euclidean_numpy(X_train[i], X_test[j])"
   ]
  },
  {
   "cell_type": "code",
   "execution_count": 16,
   "id": "8e1fff9b-579c-46e7-9307-b0bfed59736f",
   "metadata": {},
   "outputs": [
    {
     "data": {
      "text/plain": [
       "array([[0.50990195, 0.17320508, 0.46904158, ..., 4.84045452, 4.88057374,\n",
       "        5.01996016],\n",
       "       [0.3       , 0.42426407, 0.17320508, ..., 4.85180379, 4.89182992,\n",
       "        5.07247474],\n",
       "       [0.24494897, 0.5       , 0.31622777, ..., 4.87339717, 4.9132474 ,\n",
       "        5.10489961],\n",
       "       ...,\n",
       "       [4.66154481, 4.39772669, 4.45757782, ..., 0.46904158, 0.5       ,\n",
       "        0.60827625],\n",
       "       [4.84871117, 4.58911756, 4.67225855, ..., 0.69282032, 0.67082039,\n",
       "        0.6244998 ],\n",
       "       [4.29883705, 4.0607881 , 4.10609303, ..., 0.79372539, 0.83666003,\n",
       "        1.12249722]], shape=(120, 30))"
      ]
     },
     "execution_count": 16,
     "metadata": {},
     "output_type": "execute_result"
    }
   ],
   "source": [
    "def euclidean(X_train, X_test):\n",
    "    X_train_reshaped = np.expand_dims(X_train, 1)\n",
    "    X_diff = X_train_reshaped - X_test\n",
    "    dist_matrix = ((X_diff**2).sum(axis=2))**.5\n",
    "    return dist_matrix\n",
    "\n",
    "euclidean(X_train, X_test)"
   ]
  },
  {
   "cell_type": "code",
   "execution_count": 17,
   "id": "a9c3ec83-0975-49b1-870d-9cf40e074856",
   "metadata": {},
   "outputs": [],
   "source": [
    "# COSINE DISTANCE"
   ]
  },
  {
   "cell_type": "raw",
   "id": "f6a9ccbc-25e4-410d-8b5d-c1f1ec060786",
   "metadata": {},
   "source": [
    "For the cosine distance, the situation is significantly easier. Given a vector p and a vector q, we know that the dot product between the two corresponds to  ||p||2||q||2cosθ, where θ is the angle between the two vector, whose absolute value is referred to as the cosine similarity. The cosine distance is 1 - cosine similarity."
   ]
  },
  {
   "cell_type": "raw",
   "id": "92b36bf8-6eed-4fb8-8250-d3b1c0e437e6",
   "metadata": {},
   "source": [
    "We can build the dot product of each vector of X_train with each vector of X_test by computing the matrix multiplication of the two (with X_test transposed)."
   ]
  },
  {
   "cell_type": "code",
   "execution_count": 18,
   "id": "927edf4c-9e1a-4fac-947a-c0e494acf99c",
   "metadata": {},
   "outputs": [
    {
     "data": {
      "text/plain": [
       "(120, 30)"
      ]
     },
     "execution_count": 18,
     "metadata": {},
     "output_type": "execute_result"
    }
   ],
   "source": [
    "dot_prods = X_train @ X_test.T # the @ operator is a short-hand for the matrix multiplication function\n",
    "dot_prods.shape"
   ]
  },
  {
   "cell_type": "raw",
   "id": "ad74de58-cc18-41af-ba3b-57df5047f1f1",
   "metadata": {},
   "source": [
    "We know that we need to normalize the previous result by the norms of the vectors. We can leverage broadcasting to this end (by first dividing by a column vector with all norms of X_train points, then dividing by a row vector with the norms of X_test points)."
   ]
  },
  {
   "cell_type": "code",
   "execution_count": 19,
   "id": "4d7e36be-6313-41ec-bbd9-89ef40c46192",
   "metadata": {},
   "outputs": [],
   "source": [
    "X_train_norm = ((X_train**2).sum(axis=1)**.5).reshape(-1,1) # Calcola la norma euclidea di ogni riga e la rende vettore colonna\n",
    "X_test_norm = ((X_test**2).sum(axis=1)**.5).T # Calcola le norme dei vettori di test, ma .T non cambia nulla se è 1D"
   ]
  },
  {
   "cell_type": "code",
   "execution_count": 20,
   "id": "f98b031c-fe0c-48a5-9810-0af5b2f8104b",
   "metadata": {},
   "outputs": [],
   "source": [
    "dist_matrix = 1 - abs(dot_prods / X_train_norm.reshape(-1,1) / X_test_norm)"
   ]
  },
  {
   "cell_type": "raw",
   "id": "c637d407-d6fb-46b7-bbcd-ff7036f98316",
   "metadata": {},
   "source": [
    "Note that, when computing X_train_norm, we need to reshape it into a column vector (reshape(-1,1)). This is needed because the sum() collapses a dimension, thus making the result 1-dimensional (i.e. a row vector). By reshaping it, we convert the row into a column.\n",
    "\n",
    "We can put together the previous pieces and build a cosine function that that computes the desired matrix."
   ]
  },
  {
   "cell_type": "code",
   "execution_count": 21,
   "id": "45047427-d26a-4cd7-ab79-38008321f58f",
   "metadata": {},
   "outputs": [
    {
     "data": {
      "text/plain": [
       "array([[1.26527175e-05, 2.20406477e-04, 1.23549111e-03, ...,\n",
       "        1.31113782e-01, 1.32972452e-01, 1.21744289e-01],\n",
       "       [1.20854727e-03, 1.08610426e-03, 3.47906668e-04, ...,\n",
       "        1.17493455e-01, 1.19361881e-01, 1.09220997e-01],\n",
       "       [7.83016618e-04, 2.30526711e-04, 6.14085381e-04, ...,\n",
       "        1.12264688e-01, 1.14135699e-01, 1.04040386e-01],\n",
       "       ...,\n",
       "       [1.06371327e-01, 9.97798295e-02, 9.54683371e-02, ...,\n",
       "        1.22522611e-03, 1.36337068e-03, 6.88414167e-04],\n",
       "       [1.14330965e-01, 1.07526136e-01, 1.05294328e-01, ...,\n",
       "        2.83964929e-03, 2.65039699e-03, 1.38667577e-03],\n",
       "       [1.11540581e-01, 1.04482513e-01, 1.00773155e-01, ...,\n",
       "        1.33079650e-03, 1.57590237e-03, 1.28808123e-03]], shape=(120, 30))"
      ]
     },
     "execution_count": 21,
     "metadata": {},
     "output_type": "execute_result"
    }
   ],
   "source": [
    "def cosine(X_train, X_test):\n",
    "    X_train_norm = ((X_train**2).sum(axis=1)**.5).reshape(-1,1)\n",
    "    X_test_norm = ((X_test**2).sum(axis=1)**.5)\n",
    "    dot_prods = X_train @ X_test.T \n",
    "    dist_matrix = 1 - abs(dot_prods / X_train_norm.reshape(-1,1) / X_test_norm)\n",
    "    return dist_matrix\n",
    "\n",
    "cosine(X_train, X_test)"
   ]
  },
  {
   "cell_type": "code",
   "execution_count": 22,
   "id": "e72faefc-f670-4163-8aca-729d86974d19",
   "metadata": {},
   "outputs": [],
   "source": [
    "# MANHATTAN DISTANCE"
   ]
  },
  {
   "cell_type": "raw",
   "id": "822f6d51-96b7-4c8b-a539-7f66fa7bab5b",
   "metadata": {},
   "source": [
    "Based on the solution for the euclidean distance, we can easily work out a function that computes the Manhattan distance. Instead of squaring the values and taking the square root, we can compute the absolute value of the differences."
   ]
  },
  {
   "cell_type": "code",
   "execution_count": 23,
   "id": "35bb5947-38c1-420d-8cfd-4c9fe5184b79",
   "metadata": {},
   "outputs": [
    {
     "data": {
      "text/plain": [
       "array([[0.8, 0.3, 0.8, ..., 8.1, 8.2, 8.4],\n",
       "       [0.5, 0.6, 0.3, ..., 7.8, 7.9, 8.3],\n",
       "       [0.4, 0.7, 0.4, ..., 8.1, 8.2, 8.4],\n",
       "       ...,\n",
       "       [7.7, 7.4, 7.3, ..., 0.8, 0.9, 1.1],\n",
       "       [7.9, 7.2, 7.7, ..., 1.2, 1.1, 1.1],\n",
       "       [6.8, 6.5, 6.4, ..., 1.5, 1.6, 2. ]], shape=(120, 30))"
      ]
     },
     "execution_count": 23,
     "metadata": {},
     "output_type": "execute_result"
    }
   ],
   "source": [
    "def manhattan(X_train, X_test):\n",
    "    X_train_reshaped = np.expand_dims(X_train, 1)\n",
    "    X_diff = X_train_reshaped - X_test\n",
    "    dist_matrix = abs(X_diff).sum(axis=2) # come la euclidea ma faccio la differenza in valore assoluto \n",
    "    return dist_matrix\n",
    "\n",
    "manhattan(X_train, X_test)"
   ]
  },
  {
   "cell_type": "code",
   "execution_count": 24,
   "id": "a889ec96-e951-4bf1-bf6f-e6631be24c67",
   "metadata": {},
   "outputs": [],
   "source": [
    "class KNearestNeighbors2:\n",
    "    def __init__(self, k, distance_metric=\"euclidean\"):\n",
    "        self.k = k\n",
    "        self.distance_metric = distance_metric\n",
    "    \n",
    "    def fit(self, X_train, y_train):\n",
    "        self.X_train = X_train\n",
    "        self.y_train = y_train\n",
    "        \n",
    "        self.X_train_reshaped = np.expand_dims(self.X_train, 1)\n",
    "        self.X_train_norm = ((self.X_train**2).sum(axis=1)**.5).reshape(-1,1)\n",
    "\n",
    "    def _euclidean(self, X_test):\n",
    "        X_diff = self.X_train_reshaped - X_test\n",
    "        dist_matrix = ((X_diff**2).sum(axis=2))**.5\n",
    "        return dist_matrix\n",
    "\n",
    "    def _cosine(self, X_test):\n",
    "        X_test_norm = ((X_test**2).sum(axis=1)**.5)\n",
    "        dot_prods = X_train @ X_test.T \n",
    "        dist_matrix = 1 - abs(dot_prods / self.X_train_norm.reshape(-1,1) / X_test_norm)\n",
    "        return dist_matrix\n",
    "\n",
    "    def _manhattan(self, X_test):\n",
    "        X_diff = self.X_train_reshaped - X_test\n",
    "        dist_matrix = abs(X_diff).sum(axis=2)\n",
    "        return dist_matrix\n",
    "\n",
    "    \n",
    "    def predict(self, X_test):\n",
    "        pass"
   ]
  },
  {
   "cell_type": "raw",
   "id": "72c1f3e5-6af0-426c-977a-add057c9a3cc",
   "metadata": {},
   "source": [
    "Notice that there are some arrays (X_train_norm and X_train_reshaped) that can be worked out from X_train alone. We can move those operations into the fit() function: in this way, they will only be computed once (at training time) and can be used for multiple predictions, with no need to recompute them every time."
   ]
  },
  {
   "cell_type": "markdown",
   "id": "6e6ea372-2e08-47d8-b236-3d8f8479e220",
   "metadata": {},
   "source": [
    "**es6**"
   ]
  },
  {
   "cell_type": "raw",
   "id": "638ab391-709d-429a-9d8c-afd063f358a9",
   "metadata": {},
   "source": [
    "We now need to make a prediction for each point in X_test. Before we do this, we need to pass from an MxN matrix (i.e. the distance matrix computed before) to an NxK matrix (i.e. a matrix with the indices of the K nearest neighbors for each point in X_test).\n",
    "\n",
    "To this end, we can use argsort, which returns the indices of the input data in sorted order. In other words, given an unsorted array, argsort returns an index that can be used to access the target array and obtain a sorted version of it. \n",
    "\n",
    "If we select the first K values of argsort (applied on the j-th column of the distance matrix), we will get the indices of the K closest training points to the j-th test point.\n",
    "\n",
    "Additionally, argsort allows specifying an axis along which the sorting is done. So, given a distance matrix dist_matrix, we can do the following:"
   ]
  },
  {
   "cell_type": "code",
   "execution_count": 25,
   "id": "c457035e-fc6a-4f6e-9c2f-df70de8275e1",
   "metadata": {},
   "outputs": [
    {
     "data": {
      "text/plain": [
       "array([[  0,   7,  19],\n",
       "       [ 28,  29,  19],\n",
       "       [ 24,  27,  13],\n",
       "       [ 24,  27,   1],\n",
       "       [  0,   7,  36],\n",
       "       [  0,   7,  36],\n",
       "       [  5,  31,  34],\n",
       "       [  5,   4,  31],\n",
       "       [ 37,  19,  29],\n",
       "       [  6,  13,   2],\n",
       "       [  0,  11,   3],\n",
       "       [ 18,   4,  15],\n",
       "       [ 58,  65,  59],\n",
       "       [ 48,  70,  71],\n",
       "       [ 42,  46,  62],\n",
       "       [ 67,  54,  42],\n",
       "       [ 64,  53,  44],\n",
       "       [ 76,  39,  72],\n",
       "       [ 74,  75,  42],\n",
       "       [ 39,  61,  41],\n",
       "       [ 50,  65,  58],\n",
       "       [ 66,  91, 108],\n",
       "       [ 83,  85,  94],\n",
       "       [109, 100, 117],\n",
       "       [114,  96, 107],\n",
       "       [ 85,  94,  83],\n",
       "       [ 99, 110,  88],\n",
       "       [ 89,  82, 112],\n",
       "       [ 89,  82, 112],\n",
       "       [ 95, 114, 113]])"
      ]
     },
     "execution_count": 25,
     "metadata": {},
     "output_type": "execute_result"
    }
   ],
   "source": [
    "k = 3 # abbiamo deciso di prendere i tre più vicini\n",
    "knn = dist_matrix.argsort(axis=0)[:k, :].T # prendiamo i top k training per tutti i test\n",
    "# ordina indici di train per distanza (una colonna = un test), prendi i primi k e trasponi\n",
    "knn"
   ]
  },
  {
   "cell_type": "raw",
   "id": "9deeb235-7568-4d04-8a23-71b1e9a53526",
   "metadata": {},
   "source": [
    "In this matrix, at row j, we will find the K nearest neighbors of th j-th test point.\n",
    "\n",
    "We can now leverage numpy's indexing to access the actual labels for those nearest neighbors."
   ]
  },
  {
   "cell_type": "code",
   "execution_count": 26,
   "id": "8fbcd322-a7a2-4dd3-9f63-50b0ac380b11",
   "metadata": {},
   "outputs": [
    {
     "data": {
      "text/plain": [
       "array([['Iris-setosa', 'Iris-setosa', 'Iris-setosa'],\n",
       "       ['Iris-setosa', 'Iris-setosa', 'Iris-setosa'],\n",
       "       ['Iris-setosa', 'Iris-setosa', 'Iris-setosa'],\n",
       "       ['Iris-setosa', 'Iris-setosa', 'Iris-setosa'],\n",
       "       ['Iris-setosa', 'Iris-setosa', 'Iris-setosa'],\n",
       "       ['Iris-setosa', 'Iris-setosa', 'Iris-setosa'],\n",
       "       ['Iris-setosa', 'Iris-setosa', 'Iris-setosa'],\n",
       "       ['Iris-setosa', 'Iris-setosa', 'Iris-setosa'],\n",
       "       ['Iris-setosa', 'Iris-setosa', 'Iris-setosa'],\n",
       "       ['Iris-setosa', 'Iris-setosa', 'Iris-setosa'],\n",
       "       ['Iris-setosa', 'Iris-setosa', 'Iris-setosa'],\n",
       "       ['Iris-setosa', 'Iris-setosa', 'Iris-setosa'],\n",
       "       ['Iris-versicolor', 'Iris-versicolor', 'Iris-versicolor'],\n",
       "       ['Iris-versicolor', 'Iris-versicolor', 'Iris-versicolor'],\n",
       "       ['Iris-versicolor', 'Iris-versicolor', 'Iris-versicolor'],\n",
       "       ['Iris-versicolor', 'Iris-versicolor', 'Iris-versicolor'],\n",
       "       ['Iris-versicolor', 'Iris-versicolor', 'Iris-versicolor'],\n",
       "       ['Iris-versicolor', 'Iris-versicolor', 'Iris-versicolor'],\n",
       "       ['Iris-versicolor', 'Iris-versicolor', 'Iris-versicolor'],\n",
       "       ['Iris-versicolor', 'Iris-versicolor', 'Iris-versicolor'],\n",
       "       ['Iris-versicolor', 'Iris-versicolor', 'Iris-versicolor'],\n",
       "       ['Iris-versicolor', 'Iris-virginica', 'Iris-virginica'],\n",
       "       ['Iris-virginica', 'Iris-virginica', 'Iris-virginica'],\n",
       "       ['Iris-virginica', 'Iris-virginica', 'Iris-virginica'],\n",
       "       ['Iris-virginica', 'Iris-virginica', 'Iris-virginica'],\n",
       "       ['Iris-virginica', 'Iris-virginica', 'Iris-virginica'],\n",
       "       ['Iris-virginica', 'Iris-virginica', 'Iris-virginica'],\n",
       "       ['Iris-virginica', 'Iris-virginica', 'Iris-virginica'],\n",
       "       ['Iris-virginica', 'Iris-virginica', 'Iris-virginica'],\n",
       "       ['Iris-virginica', 'Iris-virginica', 'Iris-virginica']],\n",
       "      dtype=object)"
      ]
     },
     "execution_count": 26,
     "metadata": {},
     "output_type": "execute_result"
    }
   ],
   "source": [
    "y_train[knn] # accediamo al training label associato"
   ]
  },
  {
   "cell_type": "raw",
   "id": "da564c9e-3dcf-4c8d-81ff-047131d0441a",
   "metadata": {},
   "source": [
    "For the 20th test point (index 19), for example, we can see that the K=3 nearest neighbors are labelled as ['Iris-versicolor', 'Iris-virginica', 'Iris-virginica']. With a majority voting, the label assigned to the first test point will therefore be Iris-virginica. We can check y_test[19] to see if we got it right."
   ]
  },
  {
   "cell_type": "code",
   "execution_count": 27,
   "id": "75d3fd9e-bb7b-4603-a82b-d7c20a5fb75b",
   "metadata": {},
   "outputs": [
    {
     "data": {
      "text/plain": [
       "'Iris-versicolor'"
      ]
     },
     "execution_count": 27,
     "metadata": {},
     "output_type": "execute_result"
    }
   ],
   "source": [
    "y_test[19]"
   ]
  },
  {
   "cell_type": "raw",
   "id": "776583be-e9ec-4805-8284-15eb1b900266",
   "metadata": {},
   "source": [
    "Now, for each row in the knn matrix, we should do a majority voting to assign a label. A simple solution to this problem is counting the number of times each label appears in each row. For this task, the Counter class comes to mind. We can iterate over each row of knn and apply Counter to them."
   ]
  },
  {
   "cell_type": "code",
   "execution_count": 28,
   "id": "243da734-671e-4910-bdaa-48b04218b3a1",
   "metadata": {},
   "outputs": [
    {
     "data": {
      "text/plain": [
       "[Counter({'Iris-setosa': 3}),\n",
       " Counter({'Iris-setosa': 3}),\n",
       " Counter({'Iris-setosa': 3}),\n",
       " Counter({'Iris-setosa': 3}),\n",
       " Counter({'Iris-setosa': 3}),\n",
       " Counter({'Iris-setosa': 3}),\n",
       " Counter({'Iris-setosa': 3}),\n",
       " Counter({'Iris-setosa': 3}),\n",
       " Counter({'Iris-setosa': 3}),\n",
       " Counter({'Iris-setosa': 3}),\n",
       " Counter({'Iris-setosa': 3}),\n",
       " Counter({'Iris-setosa': 3}),\n",
       " Counter({'Iris-versicolor': 3}),\n",
       " Counter({'Iris-versicolor': 3}),\n",
       " Counter({'Iris-versicolor': 3}),\n",
       " Counter({'Iris-versicolor': 3}),\n",
       " Counter({'Iris-versicolor': 3}),\n",
       " Counter({'Iris-versicolor': 3}),\n",
       " Counter({'Iris-versicolor': 3}),\n",
       " Counter({'Iris-versicolor': 3}),\n",
       " Counter({'Iris-versicolor': 3}),\n",
       " Counter({'Iris-virginica': 2, 'Iris-versicolor': 1}),\n",
       " Counter({'Iris-virginica': 3}),\n",
       " Counter({'Iris-virginica': 3}),\n",
       " Counter({'Iris-virginica': 3}),\n",
       " Counter({'Iris-virginica': 3}),\n",
       " Counter({'Iris-virginica': 3}),\n",
       " Counter({'Iris-virginica': 3}),\n",
       " Counter({'Iris-virginica': 3}),\n",
       " Counter({'Iris-virginica': 3})]"
      ]
     },
     "execution_count": 28,
     "metadata": {},
     "output_type": "execute_result"
    }
   ],
   "source": [
    "list(map(Counter, y_train[knn]))"
   ]
  },
  {
   "cell_type": "raw",
   "id": "45540fc4-bbd4-4f78-9329-dfaf3a1a5e20",
   "metadata": {},
   "source": [
    "This shows the votes cast for each label. We can also build a function that directly returns the predicted label."
   ]
  },
  {
   "cell_type": "code",
   "execution_count": 29,
   "id": "00dc7508-5322-4dbd-a17c-2288c0689b18",
   "metadata": {},
   "outputs": [
    {
     "data": {
      "text/plain": [
       "array(['Iris-setosa', 'Iris-setosa', 'Iris-setosa', 'Iris-setosa',\n",
       "       'Iris-setosa', 'Iris-setosa', 'Iris-setosa', 'Iris-setosa',\n",
       "       'Iris-setosa', 'Iris-setosa', 'Iris-setosa', 'Iris-setosa',\n",
       "       'Iris-versicolor', 'Iris-versicolor', 'Iris-versicolor',\n",
       "       'Iris-versicolor', 'Iris-versicolor', 'Iris-versicolor',\n",
       "       'Iris-versicolor', 'Iris-versicolor', 'Iris-versicolor',\n",
       "       'Iris-virginica', 'Iris-virginica', 'Iris-virginica',\n",
       "       'Iris-virginica', 'Iris-virginica', 'Iris-virginica',\n",
       "       'Iris-virginica', 'Iris-virginica', 'Iris-virginica'], dtype='<U15')"
      ]
     },
     "execution_count": 29,
     "metadata": {},
     "output_type": "execute_result"
    }
   ],
   "source": [
    "def majority_voting(votes): # per assegnare la classe devo prendere il top voto\n",
    "    count = Counter(votes)\n",
    "    return count.most_common(1)[0][0] # most_common(n) returns a list with the n most recurring votes (n=1 -> top vote)\n",
    "    # we only need the first one [0][0]\n",
    "\n",
    "np.array(list(map(majority_voting, y_train[knn])))\n",
    "#np.array([majority_voting(y_train[knn][i]) for i in range(len(y_train[knn])) ])"
   ]
  },
  {
   "cell_type": "raw",
   "id": "34337b4e-4018-4647-a150-3dd907503f4d",
   "metadata": {},
   "source": [
    "We can now condense all previous steps into our predict() method."
   ]
  },
  {
   "cell_type": "code",
   "execution_count": 43,
   "id": "58aeeed0-52cc-43c4-ac12-0d57c9e9861a",
   "metadata": {},
   "outputs": [],
   "source": [
    "def _majority_voting(votes):\n",
    "    count = Counter(votes)\n",
    "    return count.most_common(1)[0][0] # most_common(n) returns a list with the n most recurring votes (n=1 -> top vote)\n",
    "\n",
    "class KNearestNeighbors3:\n",
    "    def __init__(self, k, distance_metric=\"euclidean\"):\n",
    "        self.k = k\n",
    "        self.distance_metric = distance_metric\n",
    "    \n",
    "    def fit(self, X_train, y_train):\n",
    "        self.X_train = X_train\n",
    "        self.y_train = y_train\n",
    "        \n",
    "        self.X_train_reshaped = np.expand_dims(self.X_train, 1)\n",
    "        self.X_train_norm = ((self.X_train**2).sum(axis=1)**.5).reshape(-1,1)\n",
    "\n",
    "    def _euclidean(self, X_test):\n",
    "        X_diff = self.X_train_reshaped - X_test\n",
    "        dist_matrix = ((X_diff**2).sum(axis=2))**.5\n",
    "        return dist_matrix\n",
    "\n",
    "    def _cosine(self, X_test):\n",
    "        X_test_norm = ((X_test**2).sum(axis=1)**.5).T\n",
    "        dot_prods = X_train @ X_test.T \n",
    "        dist_matrix = 1 - abs(dot_prods / self.X_train_norm.reshape(-1,1) / X_test_norm)\n",
    "        return dist_matrix\n",
    "\n",
    "    def _manhattan(self, X_test):\n",
    "        X_diff = self.X_train_reshaped - X_test\n",
    "        dist_matrix = abs(X_diff).sum(axis=2)\n",
    "        return dist_matrix\n",
    "    \n",
    "    def predict(self, X_test):\n",
    "        if self.distance_metric == \"euclidean\":\n",
    "            dist_matrix = self._euclidean(X_test)\n",
    "        elif self.distance_metric == \"cosine\":\n",
    "            dist_matrix = self._cosine(X_test)\n",
    "        elif self.distance_metric == \"manhattan\":\n",
    "            dist_matrix = self._manhattan(X_test)\n",
    "        else:\n",
    "            raise Exception(\"Unknown distance metric\")\n",
    "        knn = dist_matrix.argsort(axis=0)[:self.k, :].T\n",
    "        y_pred = np.array([ majority_voting(self.y_train[knn][i]) for i in range(len(self.y_train[knn]))])\n",
    "        return y_pred"
   ]
  },
  {
   "cell_type": "raw",
   "id": "a392cbe5-eb38-4be1-add5-eda189728be9",
   "metadata": {},
   "source": [
    "We can now instantiate our classifier, \"train\" it and get a prediction out of it!"
   ]
  },
  {
   "cell_type": "code",
   "execution_count": 44,
   "id": "157a88b3-cda7-4f29-888e-792ce6f9a690",
   "metadata": {},
   "outputs": [
    {
     "data": {
      "text/plain": [
       "array(['Iris-setosa', 'Iris-setosa', 'Iris-setosa', 'Iris-setosa',\n",
       "       'Iris-setosa', 'Iris-setosa', 'Iris-setosa', 'Iris-setosa',\n",
       "       'Iris-setosa', 'Iris-setosa', 'Iris-setosa', 'Iris-setosa',\n",
       "       'Iris-versicolor', 'Iris-versicolor', 'Iris-versicolor',\n",
       "       'Iris-versicolor', 'Iris-versicolor', 'Iris-versicolor',\n",
       "       'Iris-versicolor', 'Iris-versicolor', 'Iris-versicolor',\n",
       "       'Iris-virginica', 'Iris-virginica', 'Iris-virginica',\n",
       "       'Iris-virginica', 'Iris-virginica', 'Iris-virginica',\n",
       "       'Iris-virginica', 'Iris-virginica', 'Iris-virginica'], dtype='<U15')"
      ]
     },
     "execution_count": 44,
     "metadata": {},
     "output_type": "execute_result"
    }
   ],
   "source": [
    "knn_model = KNearestNeighbors3(3, \"cosine\")\n",
    "knn_model.fit(X_train, y_train)\n",
    "y_pred = knn_model.predict(X_test)\n",
    "y_pred"
   ]
  },
  {
   "cell_type": "markdown",
   "id": "6da154f5-820d-4625-a98b-8d73a95b1837",
   "metadata": {},
   "source": [
    "**es7**"
   ]
  },
  {
   "cell_type": "raw",
   "id": "2a4bb4da-74b8-4223-99e0-65a8f93eab37",
   "metadata": {},
   "source": [
    "We can now proceed with computing our model's accuracy. We can build an accuracy_score() function that returns the fraction of correctly predicted occurences as follows."
   ]
  },
  {
   "cell_type": "code",
   "execution_count": 45,
   "id": "25f4c6da-3231-4edf-ab93-7be684aeb222",
   "metadata": {},
   "outputs": [],
   "source": [
    "def accuracy_score(y_true, y_pred):\n",
    "    return (y_true==y_pred).sum()/len(y_true) # conto quanti ne ho predetti correttamwente "
   ]
  },
  {
   "cell_type": "raw",
   "id": "298c5312-b7c3-40fd-bdea-8f4b9a975d95",
   "metadata": {},
   "source": [
    "This function leverages the fact that booleans (the output of the equality check) are stored as 0's and 1's in numpy (therefore, using sum() on a boolean array returns the number of True values).\n",
    "\n",
    "Let's now measure the accuracy of our model, comparing y_test and y_pred."
   ]
  },
  {
   "cell_type": "code",
   "execution_count": 46,
   "id": "c773fdc2-6419-45b8-999e-57fb07e9a7de",
   "metadata": {},
   "outputs": [
    {
     "data": {
      "text/plain": [
       "np.float64(1.0)"
      ]
     },
     "execution_count": 46,
     "metadata": {},
     "output_type": "execute_result"
    }
   ],
   "source": [
    "accuracy_score(y_test, y_pred)"
   ]
  },
  {
   "cell_type": "raw",
   "id": "a1a4c717-e79f-4293-8731-5265157715c7",
   "metadata": {},
   "source": [
    "Our model has exceedingly good performance (100% of correct guesses!). This is typically not the case for real-world problems. For this specific case, two factors caused this outstanding performance:\n",
    "\n",
    "1. Trivial task (the Iris dataset is a so-called toy dataset, given how simple it is to approach)\n",
    "2. Small dataset (our test set is comprised of 30 samples -- it is not particularly hard to predict 30 samples right, specifically with a simple problem such as this one!)"
   ]
  },
  {
   "cell_type": "markdown",
   "id": "7edb256f-4a7f-4e95-8a20-480d53d5b9d2",
   "metadata": {},
   "source": [
    "**es8**"
   ]
  },
  {
   "cell_type": "raw",
   "id": "72a81049-0a30-439a-a331-7a9cc316dd19",
   "metadata": {},
   "source": [
    "This task requires slightly changing the way our predict() function works. Instead of weighting each vote with a standard weight of \"1\" (as previously done), we should now weight each vote with the inverse of the distance between the training and the test points.\n",
    "\n",
    "Luckily, our code is well-structured, and this change only slightly impacts the previously written code.\n",
    "\n",
    "The _majority_voting() function should no longer only count frequencies, but rather sum weights. We will therefore add an additional parameter to it, w (representing the weight of each of the votes in votes)."
   ]
  },
  {
   "cell_type": "code",
   "execution_count": 47,
   "id": "c687ebaf-d721-44c8-940d-daa9381cdc20",
   "metadata": {},
   "outputs": [],
   "source": [
    "from collections import defaultdict # inizializza dizionari con valori di default a zero\n",
    "\n",
    "def _weighted_majority_voting(votes, weights):\n",
    "    # we now compute `count` as a sum of weights\n",
    "    # (no longer through Counter -- which effectively\n",
    "    # weighted all votes as \"1\")\n",
    "    count = defaultdict(lambda: 0)\n",
    "    for vote, weight in zip(votes, weights):\n",
    "        count[vote] += weight\n",
    "    return max(count.items(), key=lambda x: x[1])[0] # return the max value (use a custom key extractor)"
   ]
  },
  {
   "cell_type": "raw",
   "id": "738e3e02-f6b6-4f02-9fe6-914b222a0208",
   "metadata": {},
   "source": [
    "Next, we need to modify predict() to pass the weights along with the labels. We can do this by using the already available knn matrix. Indeed, by using take_along_axis, we can extract the distances corresponding to the neighbors in knn. By taking the inverse of those values, we should the weights needed.\n",
    "\n",
    "But, if we stop for a moment, we might realize something unexpected would happen if we simply take the inverse the distances. Indeed, if we had a point with distance 0 from our target point (i.e., we know a point in our training set that is identical to the one we want to predict), we would get a 0 denominator, with the problems that come with it.\n",
    "\n",
    "So, instead, we can add a small delta (e.g. 10^-5) to the distances before inverting them. This, along the fact that distances are non-negative, guarantees that we will never have divisions by zero."
   ]
  },
  {
   "cell_type": "code",
   "execution_count": 48,
   "id": "c311a937-9bc8-4c56-8538-4af463df254a",
   "metadata": {},
   "outputs": [
    {
     "data": {
      "text/plain": [
       "['Iris-setosa',\n",
       " 'Iris-setosa',\n",
       " 'Iris-setosa',\n",
       " 'Iris-setosa',\n",
       " 'Iris-setosa',\n",
       " 'Iris-setosa',\n",
       " 'Iris-setosa',\n",
       " 'Iris-setosa',\n",
       " 'Iris-setosa',\n",
       " 'Iris-setosa',\n",
       " 'Iris-setosa',\n",
       " 'Iris-setosa',\n",
       " 'Iris-versicolor',\n",
       " 'Iris-versicolor',\n",
       " 'Iris-versicolor',\n",
       " 'Iris-versicolor',\n",
       " 'Iris-versicolor',\n",
       " 'Iris-versicolor',\n",
       " 'Iris-versicolor',\n",
       " 'Iris-versicolor',\n",
       " 'Iris-versicolor',\n",
       " 'Iris-virginica',\n",
       " 'Iris-virginica',\n",
       " 'Iris-virginica',\n",
       " 'Iris-virginica',\n",
       " 'Iris-virginica',\n",
       " 'Iris-virginica',\n",
       " 'Iris-virginica',\n",
       " 'Iris-virginica',\n",
       " 'Iris-virginica']"
      ]
     },
     "execution_count": 48,
     "metadata": {},
     "output_type": "execute_result"
    }
   ],
   "source": [
    "weights = 1/(np.take_along_axis(dist_matrix, knn.T, 0)+1e-5)\n",
    "[ _weighted_majority_voting(y_train[knn][i], weights[:, i]) for i in range(len(y_train[knn])) ]"
   ]
  },
  {
   "cell_type": "raw",
   "id": "e8e9ba9f-4ecb-4cc0-bd40-f52f0c4f3b53",
   "metadata": {},
   "source": [
    "Notice that the delta we are adding to each distance should not significantly alter the value. We can verify the average value of distances with the following approach:"
   ]
  },
  {
   "cell_type": "code",
   "execution_count": 49,
   "id": "91965dc9-5bbc-41a0-bafc-d073b07f3192",
   "metadata": {},
   "outputs": [
    {
     "data": {
      "text/plain": [
       "np.float64(0.0009395660236605208)"
      ]
     },
     "execution_count": 49,
     "metadata": {},
     "output_type": "execute_result"
    }
   ],
   "source": [
    "np.take_along_axis(dist_matrix, knn.T, 0).max()"
   ]
  },
  {
   "cell_type": "raw",
   "id": "08bb40f2-88af-4619-87fc-fd3456d2fecb",
   "metadata": {},
   "source": [
    "So, taking a value that is 2 orders of magnitude lower than the largest distance should not affect the results significantly (clearly, though, it does affect how much we are weighting the case for distance zero).\n",
    "\n",
    "We can now put together everything we have come up with and build a new version of KNN (this time with an extra parameter, weights."
   ]
  },
  {
   "cell_type": "code",
   "execution_count": 50,
   "id": "2efbcb0d-1062-4d95-8758-4c9924e59b77",
   "metadata": {},
   "outputs": [],
   "source": [
    "from collections import defaultdict\n",
    "\n",
    "def _weighted_majority_voting(votes, weights):\n",
    "    # we now compute `count` as a sum of weights\n",
    "    # (no longer through Counter -- which effectively\n",
    "    # weighted all votes as \"1\")\n",
    "    count = defaultdict(lambda: 0)\n",
    "    for vote, weight in zip(votes, weights):\n",
    "        count[vote] += weight\n",
    "    return max(count.items(), key=lambda x: x[1])[0] # return the max value (use a custom key extractor)\n",
    "\n",
    "\n",
    "def _majority_voting(votes):\n",
    "    count = Counter(votes)\n",
    "    return count.most_common(1)[0][0] # most_common(n) returns a list with the n most recurring votes (n=1 -> top vote)\n",
    "\n",
    "class KNearestNeighbors4:\n",
    "    def __init__(self, k, distance_metric=\"euclidean\", weights=\"uniform\"):\n",
    "        self.k = k\n",
    "        self.distance_metric = distance_metric\n",
    "        self.weights = weights\n",
    "    \n",
    "    def fit(self, X_train, y_train):\n",
    "        self.X_train = X_train\n",
    "        self.y_train = y_train\n",
    "        \n",
    "        self.X_train_reshaped = np.expand_dims(self.X_train, 1)\n",
    "        self.X_train_norm = ((self.X_train**2).sum(axis=1)**.5).reshape(-1,1)\n",
    "\n",
    "    def _euclidean(self, X_test):\n",
    "        X_diff = self.X_train_reshaped - X_test\n",
    "        dist_matrix = ((X_diff**2).sum(axis=2))**.5\n",
    "        return dist_matrix\n",
    "\n",
    "    def _cosine(self, X_test):\n",
    "        X_test_norm = ((X_test**2).sum(axis=1)**.5).T\n",
    "        dot_prods = X_train @ X_test.T \n",
    "        dist_matrix = 1 - abs(dot_prods / self.X_train_norm.reshape(-1,1) / X_test_norm)\n",
    "        return dist_matrix\n",
    "\n",
    "    def _manhattan(self, X_test):\n",
    "        X_diff = self.X_train_reshaped - X_test\n",
    "        dist_matrix = abs(X_diff).sum(axis=2)\n",
    "        return dist_matrix\n",
    "    \n",
    "    def predict(self, X_test):\n",
    "        if self.distance_metric == \"euclidean\":\n",
    "            dist_matrix = self._euclidean(X_test)\n",
    "        elif self.distance_metric == \"cosine\":\n",
    "            dist_matrix = self._cosine(X_test)\n",
    "        elif self.distance_metric == \"manhattan\":\n",
    "            dist_matrix = self._manhattan(X_test)\n",
    "        else:\n",
    "            raise Exception(\"Unknown distance metric\")\n",
    "        \n",
    "        knn = dist_matrix.argsort(axis=0)[:self.k, :].T\n",
    "        if self.weights == \"uniform\":\n",
    "            y_pred = np.array([ majority_voting(self.y_train[knn][i]) for i in range(len(self.y_train[knn])) ])\n",
    "        elif self.weights == \"distance\":\n",
    "            weights = 1/(np.take_along_axis(dist_matrix, knn.T, 0)+1e-5)\n",
    "            y_pred = np.array([ _weighted_majority_voting(y_train[knn][i], weights[:, i]) for i in range(len(y_train[knn])) ])\n",
    "        return y_pred"
   ]
  },
  {
   "cell_type": "raw",
   "id": "4fa2a01d-84ef-451b-8ee6-e36dd4fbf6e1",
   "metadata": {},
   "source": [
    "Let's make sure everything is still working as expected."
   ]
  },
  {
   "cell_type": "code",
   "execution_count": 57,
   "id": "5d3e88a0-dcfe-4709-80a4-95b8dda164db",
   "metadata": {},
   "outputs": [
    {
     "data": {
      "text/plain": [
       "np.float64(1.0)"
      ]
     },
     "execution_count": 57,
     "metadata": {},
     "output_type": "execute_result"
    }
   ],
   "source": [
    "knn_model = KNearestNeighbors4(5, \"manhattan\", \"uniform\")\n",
    "knn_model.fit(X_train, y_train)\n",
    "y_pred = knn_model.predict(X_test)\n",
    "accuracy_score(y_test, y_pred)"
   ]
  },
  {
   "cell_type": "raw",
   "id": "8e422e20-7613-4352-a443-a9f4ae828169",
   "metadata": {},
   "source": [
    "We can verify whether KNN is correctly weighting samples with one simple trick. If we use a value of k greater than (or close to) the number of samples in the training set, we can expect the following two behaviors:\n",
    "\n",
    "- from weights=uniform, we should always get the label of the class that has a majority of labels (because we are selecting all labels, hence the winning class will always be the most populous one\n",
    "- from weights=distance, on the other hand, we should be able to limit the \"damage\" done by this unacceptable value of k, since further away points will be weighted less than closer ones.\n",
    "\n",
    "Based on the expected result for uniform, we can make a prediction of the accuracy on the test set. This will be the fraction of values in y_test that belong to most populous class in y_train (since KNN should always predict the most common class, and will only get right (and get points when computing the accuracy) those entries that indeed belong to the most common training class."
   ]
  },
  {
   "cell_type": "code",
   "execution_count": 52,
   "id": "928ae35d-7c44-4e0c-abf9-27f270628e16",
   "metadata": {},
   "outputs": [
    {
     "data": {
      "text/plain": [
       "0.3"
      ]
     },
     "execution_count": 52,
     "metadata": {},
     "output_type": "execute_result"
    }
   ],
   "source": [
    "list(y_test).count(Counter(y_train).most_common(1)[0][0]) / len(y_test)"
   ]
  },
  {
   "cell_type": "raw",
   "id": "7bd6f3ca-34e1-4551-8d44-af868969e00e",
   "metadata": {},
   "source": [
    "In the code above, we first compute the most common value of y_train (using Counter's most_common() function we have already seen -- Counter(y_train).most_common(1)[0][0]. Then, we compute the number of elements in y_test with that sepcific value (using list's count() function), then compute the fraction of elements in y_test with that value (by dividing by len(y_test)."
   ]
  },
  {
   "cell_type": "code",
   "execution_count": 53,
   "id": "b857d014-f889-4de9-8415-c5feb8681271",
   "metadata": {},
   "outputs": [
    {
     "data": {
      "text/plain": [
       "np.float64(0.6)"
      ]
     },
     "execution_count": 53,
     "metadata": {},
     "output_type": "execute_result"
    }
   ],
   "source": [
    "knn_model = KNearestNeighbors(120, \"euclidean\", \"uniform\")\n",
    "knn_model.fit(X_train, y_train)\n",
    "y_pred = knn_model.predict(X_test)\n",
    "accuracy_score(y_test, y_pred)"
   ]
  },
  {
   "cell_type": "raw",
   "id": "e90e139a-f40d-498c-b5d8-4c33e3809e99",
   "metadata": {},
   "source": [
    "As expected. As for the distance scheme:"
   ]
  },
  {
   "cell_type": "code",
   "execution_count": 54,
   "id": "fe6b2faa-7f7c-4792-8952-6dfef15f03d0",
   "metadata": {},
   "outputs": [
    {
     "data": {
      "text/plain": [
       "np.float64(1.0)"
      ]
     },
     "execution_count": 54,
     "metadata": {},
     "output_type": "execute_result"
    }
   ],
   "source": [
    "knn_model = KNearestNeighbors(120, \"euclidean\", \"distance\")\n",
    "knn_model.fit(X_train, y_train)\n",
    "y_pred = knn_model.predict(X_test)\n",
    "accuracy_score(y_test, y_pred)"
   ]
  },
  {
   "cell_type": "raw",
   "id": "8f7fd52e-6626-4ed0-9a8e-e239243c9491",
   "metadata": {},
   "source": [
    "A much better result. This tells us that, in a way, using this weighting scheme makes up for a poorly selected (too high) value of K. Note that, in this trivial case, we are getting perfect results even with an absurdly large value of K. In more reasonable scenarios (i.e. not for toy datasets), you will get better results than using a uniform scheme, but probably not as good as when using a reasonable value of K."
   ]
  },
  {
   "cell_type": "markdown",
   "id": "81fc5e9e-a54d-4741-93e9-e06bc3110759",
   "metadata": {},
   "source": [
    "**es9**"
   ]
  },
  {
   "cell_type": "raw",
   "id": "50bb1de8-f36a-4582-985e-26db80ca12bb",
   "metadata": {},
   "source": [
    "We can now proceed to loading the MNIST dataset, extract 80% of the data for training and 20% for testing, and see how well KNN fares on a slightly harder problem.\n",
    "\n",
    "The code required for this exercise is pretty much the same we used throughout the code except for the fact that we now need to sample 100 points per digit. We can do this sampling creating a mask for each of the 10 digits (y==Digit) and selecting the first 100 values for each of them (as for y, given that we are selecting 100 '0's, 100 '1's, 100 '2's etc., we can simply create an array with 100 '0's, 100 '1's, etc)."
   ]
  },
  {
   "cell_type": "code",
   "execution_count": 58,
   "id": "cc5c9525-a41e-4732-98fb-11774596fbf2",
   "metadata": {},
   "outputs": [
    {
     "data": {
      "text/plain": [
       "((800, 784), (200, 784), (800,), (200,))"
      ]
     },
     "execution_count": 58,
     "metadata": {},
     "output_type": "execute_result"
    }
   ],
   "source": [
    "df = pd.read_csv(\"mnist_test.csv\", header=None)\n",
    "X = df.values[:, 1:].astype(float) # all cols but the first one (784 cols in this case)\n",
    "y = df.values[:, 0] # first column, with the label info\n",
    "\n",
    "# here, we use vstack and hstack to stack (vertical and horizontally, respectively)\n",
    "# different arrays/lists.\n",
    "X_100 = np.vstack([ X[y==d][:100] for d in range(10) ])\n",
    "y_100 = np.hstack([ [d]*100 for d in range(10) ])\n",
    "\n",
    "# generalized version of the previous code (generates 80/20 split)\n",
    "mask = np.array([True] * int(len(X_100)*.8) + [False] * (len(X_100)-int(len(X_100)*.8)))\n",
    "np.random.shuffle(mask)\n",
    "\n",
    "X_train = X_100[mask]\n",
    "X_test = X_100[~mask]\n",
    "\n",
    "y_train = y_100[mask]\n",
    "y_test = y_100[~mask]\n",
    "(X_train.shape, X_test.shape, y_train.shape, y_test.shape)"
   ]
  },
  {
   "cell_type": "code",
   "execution_count": 59,
   "id": "dd4d542d-5f0b-48c4-98c5-a801711f9fcd",
   "metadata": {},
   "outputs": [
    {
     "data": {
      "text/plain": [
       "np.float64(0.82)"
      ]
     },
     "execution_count": 59,
     "metadata": {},
     "output_type": "execute_result"
    }
   ],
   "source": [
    "knn_model = KNearestNeighbors4(5, \"euclidean\", \"uniform\")\n",
    "knn_model.fit(X_train, y_train)\n",
    "y_pred = knn_model.predict(X_test)\n",
    "accuracy_score(y_test, y_pred)"
   ]
  },
  {
   "cell_type": "raw",
   "id": "4061ccd6-a5f1-4653-9501-7c7b6f6fd871",
   "metadata": {},
   "source": [
    "All is well. Notice that we are undersampling our dataset to obtain more reasonable training times. For larger problems, KNN will take (much) longer. It is not a particularly efficient algorithm, since it does not build any meaningful structure that allows for faster computations.\n",
    "\n",
    "We can run a few more tests (e.g. the \"distance\" vs \"uniform\" test with a large K)."
   ]
  },
  {
   "cell_type": "code",
   "execution_count": 60,
   "id": "13a86d81-55e4-43f9-b752-c748258af78a",
   "metadata": {},
   "outputs": [
    {
     "name": "stdout",
     "output_type": "stream",
     "text": [
      "uniform 0.065\n",
      "distance 0.41\n"
     ]
    }
   ],
   "source": [
    "knn_model = KNearestNeighbors4(800, \"euclidean\", \"uniform\")\n",
    "knn_model.fit(X_train, y_train)\n",
    "y_pred = knn_model.predict(X_test)\n",
    "print(\"uniform\", accuracy_score(y_test, y_pred))\n",
    "\n",
    "knn_model = KNearestNeighbors4(800, \"euclidean\", \"distance\")\n",
    "knn_model.fit(X_train, y_train)\n",
    "y_pred = knn_model.predict(X_test)\n",
    "print(\"distance\", accuracy_score(y_test, y_pred))"
   ]
  },
  {
   "cell_type": "raw",
   "id": "b43f0176-3bb2-498b-a9e6-f83ba85f88ef",
   "metadata": {},
   "source": [
    "As previously mentioned, this unreasonable value for K leads to more reasonable results when wheighting each vote (though, in this case, we have a significant degradation in performance, compared to the case where K has a more reasonable value)."
   ]
  },
  {
   "cell_type": "markdown",
   "id": "01b4f9db-2613-4d07-b22f-259d54c45453",
   "metadata": {},
   "source": [
    "**es10**"
   ]
  },
  {
   "cell_type": "raw",
   "id": "197d9600-63bd-4ea9-a01d-241d3ded17ed",
   "metadata": {},
   "source": [
    "Let's now try to find some meaningful configurations of parameters for our KNN classifier.\n",
    "\n",
    "Since the Iris dataset is so simple, it will well with pretty much any configuration. We will instead focus on MNIST, which poses a slightly more difficult challenge.\n",
    "\n",
    "When searching for a specific configuration of parameters, you may end up running a \"grid search\". This means trying out different combinations of parameters selected from lists of possible values (e.g. if K can be either of [2, 10, 50] and weight one of [\"uniform\", \"distance\"], you will try all possible combinations: [2, \"uniform\"], [2, \"distance\"], [10, \"uniform\"], [10, \"distance\"], [50, \"uniform\"], [50, \"distance\"].\n",
    "\n",
    "The number of configurations does not scale well with the number of parameters being tuned, nor does it scale well with the number of possible values each parameter can have, but this may often be a reasonable approach (if the parameters to be tuned and their values are chosen wisely).\n",
    "\n",
    "You will run such grid searches in future labs. For the time being, we will analyze how KNN performs as we vary value of K. More specifically, let's try running KNN with values from 3 to 103, with step 10"
   ]
  },
  {
   "cell_type": "code",
   "execution_count": 61,
   "id": "811dd63a-8e40-4da8-8e5e-e658bb24e92f",
   "metadata": {},
   "outputs": [
    {
     "name": "stdout",
     "output_type": "stream",
     "text": [
      "3 0.835\n",
      "13 0.815\n",
      "23 0.78\n",
      "33 0.73\n",
      "43 0.695\n",
      "53 0.695\n",
      "63 0.685\n",
      "73 0.665\n",
      "83 0.67\n",
      "93 0.645\n",
      "103 0.64\n"
     ]
    }
   ],
   "source": [
    "accuracies = []\n",
    "k_values = list(range(3, 104, 10))\n",
    "for k in k_values:\n",
    "    knn_model = KNearestNeighbors4(k, \"euclidean\", \"distance\")\n",
    "    knn_model.fit(X_train, y_train)\n",
    "    y_pred = knn_model.predict(X_test)\n",
    "    accuracy = accuracy_score(y_test, y_pred)\n",
    "    accuracies.append(accuracy)\n",
    "    print(k, accuracy)"
   ]
  },
  {
   "cell_type": "raw",
   "id": "4f2fe714-fb1f-4285-b785-bce0af73e25c",
   "metadata": {},
   "source": [
    "We can already see that large values of K are not particularly suitable. Let's plot this result:"
   ]
  },
  {
   "cell_type": "code",
   "execution_count": 62,
   "id": "4c2623a2-892b-4ee3-829f-12eba17e43da",
   "metadata": {},
   "outputs": [
    {
     "data": {
      "text/plain": [
       "Text(0, 0.5, 'Accuracy')"
      ]
     },
     "execution_count": 62,
     "metadata": {},
     "output_type": "execute_result"
    },
    {
     "data": {
      "image/png": "[encoded data removed]",
      "text/plain": [
       "<Figure size 640x480 with 1 Axes>"
      ]
     },
     "metadata": {},
     "output_type": "display_data"
    }
   ],
   "source": [
    "import matplotlib.pyplot as plt\n",
    "%matplotlib inline\n",
    "plt.plot(k_values, accuracies)\n",
    "plt.xlabel(\"k\")\n",
    "plt.ylabel(\"Accuracy\")"
   ]
  },
  {
   "cell_type": "raw",
   "id": "34256b23-7f06-448f-ab5f-d5b8a0723546",
   "metadata": {},
   "source": [
    "This lets us know that low values of K should be preferrable, for this problem. So let's now try a narrower range of values, for example 2 to 10, with a step of 1"
   ]
  },
  {
   "cell_type": "code",
   "execution_count": 63,
   "id": "7aec570f-edf8-41d9-9043-895e2d398319",
   "metadata": {},
   "outputs": [
    {
     "name": "stdout",
     "output_type": "stream",
     "text": [
      "2 0.815\n",
      "3 0.835\n",
      "4 0.835\n",
      "5 0.825\n",
      "6 0.82\n",
      "7 0.815\n",
      "8 0.815\n",
      "9 0.805\n",
      "10 0.805\n",
      "11 0.81\n",
      "12 0.82\n",
      "13 0.815\n",
      "14 0.805\n"
     ]
    },
    {
     "data": {
      "text/plain": [
       "Text(0, 0.5, 'Accuracy')"
      ]
     },
     "execution_count": 63,
     "metadata": {},
     "output_type": "execute_result"
    },
    {
     "data": {
      "image/png": "[encoded data removed]",
      "text/plain": [
       "<Figure size 640x480 with 1 Axes>"
      ]
     },
     "metadata": {},
     "output_type": "display_data"
    }
   ],
   "source": [
    "accuracies = []\n",
    "k_values = list(range(2, 15))\n",
    "for k in k_values:\n",
    "    knn_model = KNearestNeighbors(k, \"euclidean\", \"distance\")\n",
    "    knn_model.fit(X_train, y_train)\n",
    "    y_pred = knn_model.predict(X_test)\n",
    "    accuracy = accuracy_score(y_test, y_pred)\n",
    "    accuracies.append(accuracy)\n",
    "    print(k, accuracy)\n",
    "\n",
    "plt.plot(k_values, accuracies)\n",
    "plt.xlabel(\"k\")\n",
    "plt.ylabel(\"Accuracy\")"
   ]
  },
  {
   "cell_type": "raw",
   "id": "0a935737-8d53-4c25-8093-ac08466980a7",
   "metadata": {},
   "source": [
    "We get the best results for small values of K (approx.  2≤K≤6). Notice how we reached this result without actually trying all values from 2 to 103, but rather running a \"coarse\" analysis first, identifying promising ranges of values, then running a fine-grained analysis on the range of interest.\n",
    "\n",
    "Finally, notice how the second plot appears to be quite \"bumpy\". We might be tempted to take some decisions based on this (e.g. 4 is a much better value for K than 3, or 5). However, also notice that the y axis range is particularly narrow. There actually isn't much of a difference in the values we have. Indeed, if we plot the results on a more meaningful range of values (e.g. 0.5-1), we get the following:"
   ]
  },
  {
   "cell_type": "code",
   "execution_count": 64,
   "id": "0da0df5f-f80e-4062-99d9-a377965a5b00",
   "metadata": {},
   "outputs": [
    {
     "data": {
      "text/plain": [
       "(0.5, 1.0)"
      ]
     },
     "execution_count": 64,
     "metadata": {},
     "output_type": "execute_result"
    },
    {
     "data": {
      "image/png": "[encoded data removed]",
      "text/plain": [
       "<Figure size 640x480 with 1 Axes>"
      ]
     },
     "metadata": {},
     "output_type": "display_data"
    }
   ],
   "source": [
    "plt.plot(k_values, accuracies)\n",
    "plt.xlabel(\"k\")\n",
    "plt.ylabel(\"Accuracy\")\n",
    "plt.ylim(0.5,1)"
   ]
  },
  {
   "cell_type": "raw",
   "id": "8f71a6b3-4c11-420a-966b-cdc5b135af01",
   "metadata": {},
   "source": [
    "So, nothing really to worry about.\n",
    "\n",
    "Finally, we can run some simple grid search. We have identified a reasonable range for K, so we can do the following."
   ]
  },
  {
   "cell_type": "code",
   "execution_count": 65,
   "id": "2e2f125f-e0f9-4960-9b4e-016dd00eefe2",
   "metadata": {},
   "outputs": [
    {
     "name": "stdout",
     "output_type": "stream",
     "text": [
      "0.815 2 uniform euclidean\n",
      "0.795 2 uniform manhattan\n",
      "0.85 2 uniform cosine\n",
      "0.815 2 distance euclidean\n",
      "0.795 2 distance manhattan\n",
      "0.85 2 distance cosine\n",
      "0.835 3 uniform euclidean\n",
      "0.815 3 uniform manhattan\n",
      "0.865 3 uniform cosine\n",
      "0.835 3 distance euclidean\n",
      "0.815 3 distance manhattan\n",
      "0.865 3 distance cosine\n",
      "0.835 4 uniform euclidean\n",
      "0.835 4 uniform manhattan\n",
      "0.875 4 uniform cosine\n",
      "0.835 4 distance euclidean\n",
      "0.835 4 distance manhattan\n",
      "0.875 4 distance cosine\n",
      "0.82 5 uniform euclidean\n",
      "0.805 5 uniform manhattan\n",
      "0.865 5 uniform cosine\n",
      "0.825 5 distance euclidean\n",
      "0.805 5 distance manhattan\n",
      "0.87 5 distance cosine\n",
      "0.815 6 uniform euclidean\n",
      "0.81 6 uniform manhattan\n",
      "0.88 6 uniform cosine\n",
      "0.82 6 distance euclidean\n",
      "0.81 6 distance manhattan\n",
      "0.88 6 distance cosine\n"
     ]
    }
   ],
   "source": [
    "for k in range(2, 7):\n",
    "    for weights in [\"uniform\", \"distance\"]:\n",
    "        for distance in [ \"euclidean\", \"manhattan\", \"cosine\"]:\n",
    "            knn_model = KNearestNeighbors(k, distance, weights)\n",
    "            knn_model.fit(X_train, y_train)\n",
    "            y_pred = knn_model.predict(X_test)\n",
    "            accuracy = accuracy_score(y_test, y_pred)\n",
    "            print(accuracy, k, weights, distance)"
   ]
  },
  {
   "cell_type": "raw",
   "id": "fe2282b9-e6be-4565-b96e-fba803b7cdcc",
   "metadata": {},
   "source": [
    "All models perform fairly well. Notice, however, that for values of k in [4, 5, 6] and for the cosine distance, the model performs slightly better (0.88 - 0.885), regardless of the weighting scheme. This should therefore give us a better idea of reasonable parameters for our model."
   ]
  },
  {
   "cell_type": "raw",
   "id": "a40b6850-c06a-4d99-b930-8db9e78e0ce6",
   "metadata": {},
   "source": [
    "Note that, in this case, we are using the test set to draw conclusions on which parameters (called hyperparameters) we should use for our classifier. Therefore, the performance obtained on the test set are not representative of how well our model performs on unseen data (since we are making decisions based on the best results). This set is what we typically refer to as \"validation set\". An additional test set would be needed to assess how well the trained classifier does on new data."
   ]
  },
  {
   "cell_type": "code",
   "execution_count": null,
   "id": "c140a1b3-8fcc-485a-9fa1-470e0c39c31f",
   "metadata": {},
   "outputs": [],
   "source": []
  }
 ],
 "metadata": {
  "kernelspec": {
   "display_name": "Python 3 (ipykernel)",
   "language": "python",
   "name": "python3"
  },
  "language_info": {
   "codemirror_mode": {
    "name": "ipython",
    "version": 3
   },
   "file_extension": ".py",
   "mimetype": "text/x-python",
   "name": "python",
   "nbconvert_exporter": "python",
   "pygments_lexer": "ipython3",
   "version": "3.12.2"
  }
 },
 "nbformat": 4,
 "nbformat_minor": 5
}
