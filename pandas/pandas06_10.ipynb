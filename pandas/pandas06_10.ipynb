{
  "metadata": {
    "kernelspec": {
      "name": "python",
      "display_name": "Python (Pyodide)",
      "language": "python"
    },
    "language_info": {
      "codemirror_mode": {
        "name": "python",
        "version": 3
      },
      "file_extension": ".py",
      "mimetype": "text/x-python",
      "name": "python",
      "nbconvert_exporter": "python",
      "pygments_lexer": "ipython3",
      "version": "3.8"
    }
  },
  "nbformat_minor": 5,
  "nbformat": 4,
  "cells": [
    {
      "id": "874ee027-1cb0-46a2-a9a6-e5071857b099",
      "cell_type": "markdown",
      "source": "# PANDAS 6/10",
      "metadata": {}
    },
    {
      "id": "261fdbcc-b658-4474-91c3-e043defa0897",
      "cell_type": "markdown",
      "source": "# SERIES: : 1-Dimensional sequence of homogeneous elements",
      "metadata": {}
    },
    {
      "id": "b85252bc-0d3e-4d37-8184-7dfc877739b9",
      "cell_type": "code",
      "source": "# now elements are associated to an explicit INDEX\n# index elements can be either strings or integers",
      "metadata": {
        "trusted": true
      },
      "outputs": [],
      "execution_count": 1
    },
    {
      "id": "a981df85-aee0-4b03-b83b-a45bd7d14069",
      "cell_type": "code",
      "source": "import pandas as pd\nimport numpy as np\n# Creation from list\ns1 = pd.Series([2.0, 3.1, 4.5]) # the values we want\n# When not specified, index is set automatically with a progressive number --> indeces are integers\nprint(s1)",
      "metadata": {
        "trusted": true
      },
      "outputs": [
        {
          "name": "stdout",
          "output_type": "stream",
          "text": "0    2.0\n1    3.1\n2    4.5\ndtype: float64\n"
        }
      ],
      "execution_count": 2
    },
    {
      "id": "c211375b-da7d-4bda-8a72-81eb1bb9cc3f",
      "cell_type": "code",
      "source": "# Creation from list, specifying index\n# there is a specific attribute to specify indeces \npd.Series([2.0, 3.1, 4.5], index=['mon', 'tue', 'wed'])",
      "metadata": {
        "trusted": true
      },
      "outputs": [
        {
          "execution_count": 3,
          "output_type": "execute_result",
          "data": {
            "text/plain": "mon    2.0\ntue    3.1\nwed    4.5\ndtype: float64"
          },
          "metadata": {}
        }
      ],
      "execution_count": 3
    },
    {
      "id": "70c79021-5ba8-43f3-ac5b-4ac970d10919",
      "cell_type": "code",
      "source": "# Creation from dictionary: keys define the index\n# le chiavi del dizionario rappresentano gli indici dei vallori associati alle chiavi\npd.Series({'c':2.0, 'b':3.1, 'a':4.5})",
      "metadata": {
        "trusted": true
      },
      "outputs": [
        {
          "execution_count": 4,
          "output_type": "execute_result",
          "data": {
            "text/plain": "c    2.0\nb    3.1\na    4.5\ndtype: float64"
          },
          "metadata": {}
        }
      ],
      "execution_count": 4
    },
    {
      "id": "32f49b8e-27b9-44b5-b013-ba8855c60921",
      "cell_type": "code",
      "source": "# Obtaining values and index from a Series\ns1 = pd.Series([2.0, 3.1, 4.5], index=['mon', 'tue', 'wed'])\nprint(s1.values) # Numpy array\nprint(s1.index) # Index is a custom Python object defined in Pandas --> classe Index definita per descrivere gli indici della serie",
      "metadata": {
        "trusted": true
      },
      "outputs": [
        {
          "name": "stdout",
          "output_type": "stream",
          "text": "[2.  3.1 4.5]\nIndex(['mon', 'tue', 'wed'], dtype='object')\n"
        }
      ],
      "execution_count": 5
    },
    {
      "id": "46897643-c1c4-49ba-8720-4817e52b76ed",
      "cell_type": "code",
      "source": "# ACCESS BY INDEX\n# Explicit: the one specified while creating a Series\n# - Use the Series.loc attribute\n# Implicit: number associated to the element order (similarly to Numpy arrays)\n# - Use the Series.iloc attribute\ns1 = pd.Series([2.0, 3.1, 4.5], index=['a', 'b', 'c'])\nprint(s1.loc['a']) # With explicit index # uso proprio l'indice str\nprint(s1.iloc[0]) # With implicit index # uso l'indice implicito int associato agli array numpy\ns1.loc['b'] = 10 # Allows editing values # il valore associato agll'indice 'b' è cambiato\nprint(f\"Series:\\n{s1}\")",
      "metadata": {
        "trusted": true
      },
      "outputs": [
        {
          "name": "stdout",
          "output_type": "stream",
          "text": "2.0\n2.0\nSeries:\na     2.0\nb    10.0\nc     4.5\ndtype: float64\n"
        }
      ],
      "execution_count": 6
    },
    {
      "id": "a7667dff-286d-4723-b98f-8e0e3d7b1c02",
      "cell_type": "code",
      "source": "# ACCESS WITH SLICING\ns1 = pd.Series([2.0, 3.1, 4.5], index=['a', 'b', 'c'])\nprint(s1.loc['b':'c']) # explicit index (stop element included) # accedo ai valori dalla chiave 'b' alla chiave 'c'\nprint(s1.iloc[1:3]) # implicit index (stop element excluded) # accedo ai valori con indice implicito dal secondo al terzo",
      "metadata": {
        "trusted": true
      },
      "outputs": [
        {
          "name": "stdout",
          "output_type": "stream",
          "text": "b    3.1\nc    4.5\ndtype: float64\nb    3.1\nc    4.5\ndtype: float64\n"
        }
      ],
      "execution_count": 7
    },
    {
      "id": "71d4748d-5f49-4b70-9b38-d90c20ad280e",
      "cell_type": "code",
      "source": "# ACCESS WITH MASKING\ns1 = pd.Series([2.0, 3.1, 4.5], index=['a', 'b', 'c'])\nprint(s1[(s1>2) & (s1<10)]) # la mascheera prende i valori maggiori di 2 e minori di 10<",
      "metadata": {
        "trusted": true
      },
      "outputs": [
        {
          "name": "stdout",
          "output_type": "stream",
          "text": "b    3.1\nc    4.5\ndtype: float64\n"
        }
      ],
      "execution_count": 8
    },
    {
      "id": "366e7165-55cc-41e6-87d3-b0493eaf9887",
      "cell_type": "code",
      "source": "# ACCESS WITH FANCY INDEXING\ns1 = pd.Series([2.0, 3.1, 4.5], index=['a', 'b', 'c'])\nprint(s1.loc[['a', 'c']]) # indico gli indici espliciti di cui voglio ottenere il valore\nprint(s1.iloc[[0, 2]]) # indico gli indici impliciti di cui voglio ottenere il valore",
      "metadata": {
        "trusted": true
      },
      "outputs": [
        {
          "name": "stdout",
          "output_type": "stream",
          "text": "a    2.0\nc    4.5\ndtype: float64\na    2.0\nc    4.5\ndtype: float64\n"
        }
      ],
      "execution_count": 9
    },
    {
      "id": "ccfc8168-9334-4d35-bdf8-dbc7d1005001",
      "cell_type": "markdown",
      "source": "# DATA FRAME : 2-dimensional array",
      "metadata": {}
    },
    {
      "id": "f712b618-1101-4e79-afda-bf612a1a6099",
      "cell_type": "code",
      "source": "# Can be thought as a table where columns are Series objects that share the same index\n# - Each column has a name\n# ogni colonna ha un nome ed è vista come una serie in cui ogni elemento ha un indice associato.\n# ogni serie (colonna) ha per i suoi valori gli stessi indici\n\n# Creation fron Series\n# Use a dictionary to set column names\n# ogni colonna condivide gli stessi indici (che diventeranno gli indici di una delle due dimensioni\nprice = pd.Series([1.0, 1.4, 5], index=['a', 'b', 'c']) \nquantity = pd.Series([5, 10, 8], index=['a', 'b', 'c'])\nliters = pd.Series([1.5, 0.3, 1], index=['a', 'b', 'c'])\ndf = pd.DataFrame({'Price':price, 'Quantity':quantity, 'Liters':liters}) \n# il df ha 3 colonne che sono le serie e 3 righe in cui gli indici sono quelli specificati per ciascuna colonna\nprint(df)",
      "metadata": {
        "trusted": true
      },
      "outputs": [
        {
          "name": "stdout",
          "output_type": "stream",
          "text": "   Price  Quantity  Liters\na    1.0         5     1.5\nb    1.4        10     0.3\nc    5.0         8     1.0\n"
        }
      ],
      "execution_count": 10
    },
    {
      "id": "248ff3a2-5cfc-47f3-b80c-1df1a75e029c",
      "cell_type": "code",
      "source": "# Creation from dictionary of key-list pairs\n#- Each value (list) is associated to a column --> Column name given by the key\n# - Index is automatically set to a progressive number --> Unless explicitly passed as parameter (index=…)\ndct = { \"c1\": [0, 1, 2], \"c2\": [0, 2, 4] } # creo un dizionario a cui associo una lista di valori --> le colonne\ndf = pd.DataFrame(dct) # gli indici vengono assegnati con numeri porgressivi\nprint(df)",
      "metadata": {
        "trusted": true
      },
      "outputs": [
        {
          "name": "stdout",
          "output_type": "stream",
          "text": "   c1  c2\n0   0   0\n1   1   2\n2   2   4\n"
        }
      ],
      "execution_count": 11
    },
    {
      "id": "e6a7c71b-39b9-4cbf-9dc7-4ed0d158897a",
      "cell_type": "code",
      "source": "# Creation from list of dictionaries\n# - Each dictionary is associated to a row\n# - Index is automatically set to a progressive number --> Unless explicitly passed as parameter (index=…)\ndic_list = [{'c1':i, 'c2':2*i} for i in range(3)] # il dizionario costruisce le row --> 3 in questo caso, le chiavi sono i nomi delle colonne\ndf = pd.DataFrame(dic_list) # gli indici vengono assegnati progressivamente\nprint(df)",
      "metadata": {
        "trusted": true
      },
      "outputs": [
        {
          "name": "stdout",
          "output_type": "stream",
          "text": "   c1  c2\n0   0   0\n1   1   2\n2   2   4\n"
        }
      ],
      "execution_count": 12
    },
    {
      "id": "ffc7612e-3d7b-405f-8214-f1298457b78c",
      "cell_type": "code",
      "source": "# Creation from 2D Numpy array\narr = np.arange(6).reshape((3,2)) # creo un array di 6 elementi [0,1,2,3,4,5] e lo ridimensiono a (3,2) [[0,1], [2,3], [3,4]]\ndf = pd.DataFrame(arr, columns=['c1', 'c2'], index=['a', 'b', 'c']) \n# attributo columns indica il nome delle colonne, attributo index quelli degli indici\nprint(df)",
      "metadata": {
        "trusted": true
      },
      "outputs": [
        {
          "name": "stdout",
          "output_type": "stream",
          "text": "   c1  c2\na   0   1\nb   2   3\nc   4   5\n"
        }
      ],
      "execution_count": 13
    },
    {
      "id": "002b73b3-3112-40d2-931b-d56d8adc671e",
      "cell_type": "markdown",
      "source": "# dataFrame and I/O",
      "metadata": {}
    },
    {
      "id": "a1401ba5-d804-4fcf-8715-f1aaf3a01e70",
      "cell_type": "code",
      "source": "pd.DataFrame([ {'c1': 1 * 10 ** x} for x in range(0,4)])\n# l = []\n# for x in range(0,4):\n#    l.append(1 * 10 ** x )",
      "metadata": {
        "trusted": true
      },
      "outputs": [
        {
          "execution_count": 14,
          "output_type": "execute_result",
          "data": {
            "text/plain": "     c1\n0     1\n1    10\n2   100\n3  1000",
            "text/html": "<div>\n<style scoped>\n    .dataframe tbody tr th:only-of-type {\n        vertical-align: middle;\n    }\n\n    .dataframe tbody tr th {\n        vertical-align: top;\n    }\n\n    .dataframe thead th {\n        text-align: right;\n    }\n</style>\n<table border=\"1\" class=\"dataframe\">\n  <thead>\n    <tr style=\"text-align: right;\">\n      <th></th>\n      <th>c1</th>\n    </tr>\n  </thead>\n  <tbody>\n    <tr>\n      <th>0</th>\n      <td>1</td>\n    </tr>\n    <tr>\n      <th>1</th>\n      <td>10</td>\n    </tr>\n    <tr>\n      <th>2</th>\n      <td>100</td>\n    </tr>\n    <tr>\n      <th>3</th>\n      <td>1000</td>\n    </tr>\n  </tbody>\n</table>\n</div>"
          },
          "metadata": {}
        }
      ],
      "execution_count": 14
    },
    {
      "id": "f87d6e49-f5eb-4823-9af5-92de9b55df8c",
      "cell_type": "code",
      "source": "# LOAD DATA CSV # deve esistere il file nella cartella\n# Allows specifying the column delimiter (sep)\n# Automatically read header from first line of the file (after skipping the specified number of rows)\n# Column data types are inferred\ndf = pd.read_csv('./mycsv.csv', sep=',', skiprows=1) \n# we can specicy some attributes as the separator and how many rows you must skip before read the file",
      "metadata": {
        "trusted": true
      },
      "outputs": [],
      "execution_count": 25
    },
    {
      "id": "8ef27ade-d4f7-4b4b-a91d-ebd91b71d904",
      "cell_type": "code",
      "source": "# If it contains null values, you can specify how to recognize them\n# Empty columns are converted to “NaN” (Not a Number) --> Using np.nan (NumPy’s representation of NaN)\n# The string 'NaN' is automatically recognized\ndf = pd.read_csv('./mycsv.csv', sep=',', na_values=['no info', 'x'])",
      "metadata": {
        "trusted": true
      },
      "outputs": [],
      "execution_count": 23
    },
    {
      "id": "94038fcd-ce37-452d-8a5c-febe31040c29",
      "cell_type": "code",
      "source": "# Save DataFrame to csv\ndf.to_csv('./savedcsv.csv', sep=',')",
      "metadata": {
        "trusted": true
      },
      "outputs": [],
      "execution_count": 17
    },
    {
      "id": "6479d131-a02c-49a8-b783-a8671aaf5572",
      "cell_type": "code",
      "source": "# Use index=False to avoid writing the index\ndf.to_csv('./savedcsv.csv', sep=',', index=False)",
      "metadata": {
        "trusted": true
      },
      "outputs": [],
      "execution_count": 18
    },
    {
      "id": "732720d2-ea40-4983-8dd6-de70ab1872d0",
      "cell_type": "code",
      "source": "# Load DataFrame from json file # deve esistere il file nella cartella\n#  df = pd.read_json('./myjson.json')\n# Use pd.to_json(path) to save a DataFrame in json format",
      "metadata": {
        "trusted": true
      },
      "outputs": [],
      "execution_count": 26
    },
    {
      "id": "cd1cf10d-464e-4b31-ad75-f7f5199569b1",
      "cell_type": "code",
      "source": "",
      "metadata": {
        "trusted": true
      },
      "outputs": [],
      "execution_count": null
    }
  ]
}