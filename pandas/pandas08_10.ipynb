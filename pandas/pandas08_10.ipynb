{
  "metadata": {
    "kernelspec": {
      "name": "python",
      "display_name": "Python (Pyodide)",
      "language": "python"
    },
    "language_info": {
      "codemirror_mode": {
        "name": "python",
        "version": 3
      },
      "file_extension": ".py",
      "mimetype": "text/x-python",
      "name": "python",
      "nbconvert_exporter": "python",
      "pygments_lexer": "ipython3",
      "version": "3.8"
    }
  },
  "nbformat_minor": 5,
  "nbformat": 4,
  "cells": [
    {
      "id": "8c58a965-79aa-42f8-9e26-8cac59799bac",
      "cell_type": "markdown",
      "source": "# Pandas 08/10",
      "metadata": {}
    },
    {
      "id": "31ead29a-dd95-41b8-8579-f64d7e549795",
      "cell_type": "code",
      "source": "import pandas as pd\nimport numpy as np",
      "metadata": {
        "trusted": true
      },
      "outputs": [],
      "execution_count": 49
    },
    {
      "id": "2e5550ca-608d-4876-a6d8-e4e8817ebb8b",
      "cell_type": "markdown",
      "source": "# Dataframe",
      "metadata": {}
    },
    {
      "id": "12367d4b-386e-49fe-8cdb-e969cfb2de32",
      "cell_type": "code",
      "source": "# Obtaining column names and index from a DataFrame\narr = np.arange(6).reshape((3,2))\ndf = pd.DataFrame(arr, columns=['c1', 'c2'], index=['a', 'b', 'c'])\nprint(df)\n# otteniamo oggetti di tipo Index sia per i nomi delle colonne sia per i nomi degli indici\nprint(df.columns) # Index object with column names\nprint(df.index) # Index object",
      "metadata": {
        "trusted": true
      },
      "outputs": [
        {
          "name": "stdout",
          "output_type": "stream",
          "text": "   c1  c2\na   0   1\nb   2   3\nc   4   5\nIndex(['c1', 'c2'], dtype='object')\nIndex(['a', 'b', 'c'], dtype='object')\n"
        }
      ],
      "execution_count": 50
    },
    {
      "id": "02b5a273-34cc-462d-bf5b-155367350477",
      "cell_type": "code",
      "source": "df = pd.DataFrame(np.random.randint(1,5, size=(4,3)), index= [f\"i{i}\" for i in range(4)], columns=[f\"col{i}\" for i in range(3)])\ndf",
      "metadata": {
        "trusted": true
      },
      "outputs": [
        {
          "execution_count": 51,
          "output_type": "execute_result",
          "data": {
            "text/plain": "    col0  col1  col2\ni0     4     4     2\ni1     4     3     3\ni2     3     2     2\ni3     2     2     2",
            "text/html": "<div>\n<style scoped>\n    .dataframe tbody tr th:only-of-type {\n        vertical-align: middle;\n    }\n\n    .dataframe tbody tr th {\n        vertical-align: top;\n    }\n\n    .dataframe thead th {\n        text-align: right;\n    }\n</style>\n<table border=\"1\" class=\"dataframe\">\n  <thead>\n    <tr style=\"text-align: right;\">\n      <th></th>\n      <th>col0</th>\n      <th>col1</th>\n      <th>col2</th>\n    </tr>\n  </thead>\n  <tbody>\n    <tr>\n      <th>i0</th>\n      <td>4</td>\n      <td>4</td>\n      <td>2</td>\n    </tr>\n    <tr>\n      <th>i1</th>\n      <td>4</td>\n      <td>3</td>\n      <td>3</td>\n    </tr>\n    <tr>\n      <th>i2</th>\n      <td>3</td>\n      <td>2</td>\n      <td>2</td>\n    </tr>\n    <tr>\n      <th>i3</th>\n      <td>2</td>\n      <td>2</td>\n      <td>2</td>\n    </tr>\n  </tbody>\n</table>\n</div>"
          },
          "metadata": {}
        }
      ],
      "execution_count": 51
    },
    {
      "id": "e79edad3-58d3-4ea8-a0f4-59f35becc8ee",
      "cell_type": "raw",
      "source": "Accessing DataFrames",
      "metadata": {}
    },
    {
      "id": "20cedf2d-7c66-4d31-9dc0-b5885e97e951",
      "cell_type": "code",
      "source": "# Get a 2D Numpy array\narr = np.arange(6).reshape((3,2))\ndf = pd.DataFrame(arr, columns=['c1', 'c2'], index=['a', 'b', 'c'])\ndf, df.values",
      "metadata": {
        "trusted": true
      },
      "outputs": [
        {
          "execution_count": 53,
          "output_type": "execute_result",
          "data": {
            "text/plain": "(   c1  c2\n a   0   1\n b   2   3\n c   4   5,\n array([[0, 1],\n        [2, 3],\n        [4, 5]]))"
          },
          "metadata": {}
        }
      ],
      "execution_count": 53
    },
    {
      "id": "78753cb5-ede7-4763-a206-6d7eb65aad7d",
      "cell_type": "code",
      "source": "# Accessing DataFrames\n# Access a DataFrame column\n# Access rows and columns with indexing\n# - df.loc (Explicit index or Slicing, masking, fancy indexing)\n# - df.iloc (Implicit index)\n\n# Whether a copy or view will be returned it depends on the context",
      "metadata": {
        "trusted": true
      },
      "outputs": [],
      "execution_count": 5
    },
    {
      "id": "afb89eb4-6f40-4b1e-9e19-c6e47c22c7e0",
      "cell_type": "code",
      "source": "# Accessing DataFrame columns --> Returns a Series with column data\narr = np.arange(6).reshape((3,2))\ndf = pd.DataFrame(arr, columns=['c1', 'c2'], index=['a', 'b', 'c'])\ndf['c1'] ",
      "metadata": {
        "trusted": true
      },
      "outputs": [
        {
          "execution_count": 54,
          "output_type": "execute_result",
          "data": {
            "text/plain": "a    0\nb    2\nc    4\nName: c1, dtype: int32"
          },
          "metadata": {}
        }
      ],
      "execution_count": 54
    },
    {
      "id": "a5da2a79-bc4c-43dd-a15f-6a11544ce366",
      "cell_type": "code",
      "source": "# Accessing single DataFrame row by index\n# - loc (explicit), iloc (implicit) -->  Return a Series with an element for each column\nprint(df.loc['a']) # get the first row that has 'a' index\nprint(df.iloc[0]) # get the first row",
      "metadata": {
        "trusted": true
      },
      "outputs": [
        {
          "name": "stdout",
          "output_type": "stream",
          "text": "c1    0\nc2    1\nName: a, dtype: int32\nc1    0\nc2    1\nName: a, dtype: int32\n"
        }
      ],
      "execution_count": 55
    },
    {
      "id": "fa7b9e1a-c06d-4944-a327-58bf9db571f5",
      "cell_type": "code",
      "source": "# Accessing DataFrames with slicing --> Allows selecting rows and columns\nprint(df.loc['b':'c', :]) # stampa le righe dall'indice a all'indice c e prende tutte le colonne",
      "metadata": {
        "trusted": true
      },
      "outputs": [
        {
          "name": "stdout",
          "output_type": "stream",
          "text": "   c1  c2\nb   2   3\nc   4   5\n"
        }
      ],
      "execution_count": 56
    },
    {
      "id": "686159c2-3e20-4536-989e-4529e208694a",
      "cell_type": "code",
      "source": "# Accessing DataFrames with masking --> Select rows based on a condition\nmask = (df['c1'] > 3)\ndf.loc[mask, :] # prende nella colonna c1 solo gli elementi > 4 e poi seleziona tutta la riga # masking and slicing",
      "metadata": {
        "trusted": true
      },
      "outputs": [
        {
          "execution_count": 59,
          "output_type": "execute_result",
          "data": {
            "text/plain": "   c1  c2\nc   4   5",
            "text/html": "<div>\n<style scoped>\n    .dataframe tbody tr th:only-of-type {\n        vertical-align: middle;\n    }\n\n    .dataframe tbody tr th {\n        vertical-align: top;\n    }\n\n    .dataframe thead th {\n        text-align: right;\n    }\n</style>\n<table border=\"1\" class=\"dataframe\">\n  <thead>\n    <tr style=\"text-align: right;\">\n      <th></th>\n      <th>c1</th>\n      <th>c2</th>\n    </tr>\n  </thead>\n  <tbody>\n    <tr>\n      <th>c</th>\n      <td>4</td>\n      <td>5</td>\n    </tr>\n  </tbody>\n</table>\n</div>"
          },
          "metadata": {}
        }
      ],
      "execution_count": 59
    },
    {
      "id": "34e7b8f3-10f2-479c-a72d-9c53a9dbdfc9",
      "cell_type": "code",
      "source": "price = pd.Series([1.0, 1.4, 5], index=['a', 'b', 'c'])\nquantity = pd.Series([5, 10, 8], index=['a', 'b', 'c'])\nliters = pd.Series([1.5, 0.3, 1], index=['a', 'b', 'c'])\ndf = pd.DataFrame({'Price':price, 'Quantity':quantity,\n'Liters':liters})\nprint(df)",
      "metadata": {
        "trusted": true
      },
      "outputs": [
        {
          "name": "stdout",
          "output_type": "stream",
          "text": "   Price  Quantity  Liters\na    1.0         5     1.5\nb    1.4        10     0.3\nc    5.0         8     1.0\n"
        }
      ],
      "execution_count": 60
    },
    {
      "id": "b39cc475-bf64-43a9-b722-2afc29195a83",
      "cell_type": "code",
      "source": "# Accessing Datafrfames with fancy indexing\nmask = (df['Quantity']<10) & (df['Liters']>1)\ndf.loc[mask, ['Price','Liters']] # Use masking and fancy",
      "metadata": {
        "trusted": true
      },
      "outputs": [
        {
          "execution_count": 61,
          "output_type": "execute_result",
          "data": {
            "text/plain": "   Price  Liters\na    1.0     1.5",
            "text/html": "<div>\n<style scoped>\n    .dataframe tbody tr th:only-of-type {\n        vertical-align: middle;\n    }\n\n    .dataframe tbody tr th {\n        vertical-align: top;\n    }\n\n    .dataframe thead th {\n        text-align: right;\n    }\n</style>\n<table border=\"1\" class=\"dataframe\">\n  <thead>\n    <tr style=\"text-align: right;\">\n      <th></th>\n      <th>Price</th>\n      <th>Liters</th>\n    </tr>\n  </thead>\n  <tbody>\n    <tr>\n      <th>a</th>\n      <td>1.0</td>\n      <td>1.5</td>\n    </tr>\n  </tbody>\n</table>\n</div>"
          },
          "metadata": {}
        }
      ],
      "execution_count": 61
    },
    {
      "id": "a6eedb55-104a-47a3-ae12-cc8eb44d3b9d",
      "cell_type": "code",
      "source": "df.loc[['a', 'c'], ['Price','Liters']] # specifico quali sono i nomi delle colonne e degli indici che voglio vedere",
      "metadata": {
        "trusted": true
      },
      "outputs": [
        {
          "execution_count": 63,
          "output_type": "execute_result",
          "data": {
            "text/plain": "   Price  Liters\na    1.0     1.5\nc    5.0     1.0",
            "text/html": "<div>\n<style scoped>\n    .dataframe tbody tr th:only-of-type {\n        vertical-align: middle;\n    }\n\n    .dataframe tbody tr th {\n        vertical-align: top;\n    }\n\n    .dataframe thead th {\n        text-align: right;\n    }\n</style>\n<table border=\"1\" class=\"dataframe\">\n  <thead>\n    <tr style=\"text-align: right;\">\n      <th></th>\n      <th>Price</th>\n      <th>Liters</th>\n    </tr>\n  </thead>\n  <tbody>\n    <tr>\n      <th>a</th>\n      <td>1.0</td>\n      <td>1.5</td>\n    </tr>\n    <tr>\n      <th>c</th>\n      <td>5.0</td>\n      <td>1.0</td>\n    </tr>\n  </tbody>\n</table>\n</div>"
          },
          "metadata": {}
        }
      ],
      "execution_count": 63
    },
    {
      "id": "ccbee6a0-4bdd-495d-8143-a621892c12dc",
      "cell_type": "raw",
      "source": "Remember, in NumPy fancy indexing on two-dimensional arrays is done simultaneously,\nand selects elements based on exact row-column pairs # come se gli stessi dando delle coordinate\n\nIn Pandas, the selection of the rows and columns is done\n“in cascade”, producing a Pandas DataFrame with the selected rows and columns # seleziono proprio le colonne e le righe",
      "metadata": {}
    },
    {
      "id": "a72d1346-b83a-4814-a027-bd46465e947d",
      "cell_type": "code",
      "source": "df.iloc[[0,2], [0,2]]",
      "metadata": {
        "trusted": true
      },
      "outputs": [
        {
          "execution_count": 64,
          "output_type": "execute_result",
          "data": {
            "text/plain": "   Price  Liters\na    1.0     1.5\nc    5.0     1.0",
            "text/html": "<div>\n<style scoped>\n    .dataframe tbody tr th:only-of-type {\n        vertical-align: middle;\n    }\n\n    .dataframe tbody tr th {\n        vertical-align: top;\n    }\n\n    .dataframe thead th {\n        text-align: right;\n    }\n</style>\n<table border=\"1\" class=\"dataframe\">\n  <thead>\n    <tr style=\"text-align: right;\">\n      <th></th>\n      <th>Price</th>\n      <th>Liters</th>\n    </tr>\n  </thead>\n  <tbody>\n    <tr>\n      <th>a</th>\n      <td>1.0</td>\n      <td>1.5</td>\n    </tr>\n    <tr>\n      <th>c</th>\n      <td>5.0</td>\n      <td>1.0</td>\n    </tr>\n  </tbody>\n</table>\n</div>"
          },
          "metadata": {}
        }
      ],
      "execution_count": 64
    },
    {
      "id": "7a325304-5c41-4e0f-8728-3b3a2aef1d26",
      "cell_type": "raw",
      "source": "you can also assign a value selecting data with one of the access method",
      "metadata": {}
    },
    {
      "id": "f660309b-33b0-4137-b21a-2488948c5ddd",
      "cell_type": "code",
      "source": "df.loc[['a', 'c'], ['Price','Liters']] = 0\ndf",
      "metadata": {
        "trusted": true
      },
      "outputs": [
        {
          "execution_count": 66,
          "output_type": "execute_result",
          "data": {
            "text/plain": "   Price  Quantity  Liters\na    0.0         5     0.0\nb    1.4        10     0.3\nc    0.0         8     0.0",
            "text/html": "<div>\n<style scoped>\n    .dataframe tbody tr th:only-of-type {\n        vertical-align: middle;\n    }\n\n    .dataframe tbody tr th {\n        vertical-align: top;\n    }\n\n    .dataframe thead th {\n        text-align: right;\n    }\n</style>\n<table border=\"1\" class=\"dataframe\">\n  <thead>\n    <tr style=\"text-align: right;\">\n      <th></th>\n      <th>Price</th>\n      <th>Quantity</th>\n      <th>Liters</th>\n    </tr>\n  </thead>\n  <tbody>\n    <tr>\n      <th>a</th>\n      <td>0.0</td>\n      <td>5</td>\n      <td>0.0</td>\n    </tr>\n    <tr>\n      <th>b</th>\n      <td>1.4</td>\n      <td>10</td>\n      <td>0.3</td>\n    </tr>\n    <tr>\n      <th>c</th>\n      <td>0.0</td>\n      <td>8</td>\n      <td>0.0</td>\n    </tr>\n  </tbody>\n</table>\n</div>"
          },
          "metadata": {}
        }
      ],
      "execution_count": 66
    },
    {
      "id": "eedf1888-c571-4472-a8fd-f4191c55460f",
      "cell_type": "code",
      "source": "# Add new column to DataFrame --> DataFrame is modified inplace\n# If the DataFrame already has a column with the specified name, then this is replaced\nprice = pd.Series([1.0, 1.4, 5], index=['a', 'b', 'c'])\nquantity = pd.Series([5, 10, 8], index=['a', 'b', 'c'])\nliters = pd.Series([1.5, 0.3, 1], index=['a', 'b', 'c'])\ndf = pd.DataFrame({'Price':price, 'Quantity':quantity,'Liters':liters})\nprint(df)\ndf['Available'] = pd.Series([True, False, True],index=['a', 'b', 'c'])\ndf # aggiungo nuova colonna",
      "metadata": {
        "trusted": true
      },
      "outputs": [
        {
          "name": "stdout",
          "output_type": "stream",
          "text": "   Price  Quantity  Liters\na    1.0         5     1.5\nb    1.4        10     0.3\nc    5.0         8     1.0\n"
        },
        {
          "execution_count": 69,
          "output_type": "execute_result",
          "data": {
            "text/plain": "   Price  Quantity  Liters  Available\na    1.0         5     1.5       True\nb    1.4        10     0.3      False\nc    5.0         8     1.0       True",
            "text/html": "<div>\n<style scoped>\n    .dataframe tbody tr th:only-of-type {\n        vertical-align: middle;\n    }\n\n    .dataframe tbody tr th {\n        vertical-align: top;\n    }\n\n    .dataframe thead th {\n        text-align: right;\n    }\n</style>\n<table border=\"1\" class=\"dataframe\">\n  <thead>\n    <tr style=\"text-align: right;\">\n      <th></th>\n      <th>Price</th>\n      <th>Quantity</th>\n      <th>Liters</th>\n      <th>Available</th>\n    </tr>\n  </thead>\n  <tbody>\n    <tr>\n      <th>a</th>\n      <td>1.0</td>\n      <td>5</td>\n      <td>1.5</td>\n      <td>True</td>\n    </tr>\n    <tr>\n      <th>b</th>\n      <td>1.4</td>\n      <td>10</td>\n      <td>0.3</td>\n      <td>False</td>\n    </tr>\n    <tr>\n      <th>c</th>\n      <td>5.0</td>\n      <td>8</td>\n      <td>1.0</td>\n      <td>True</td>\n    </tr>\n  </tbody>\n</table>\n</div>"
          },
          "metadata": {}
        }
      ],
      "execution_count": 69
    },
    {
      "id": "8443a673-aebe-4736-afea-4dc9b678188f",
      "cell_type": "code",
      "source": "# it is also possible to assign directly a list to add a new column to dataframe\ndf['Available'] = [True, False, True]\ndf",
      "metadata": {
        "trusted": true
      },
      "outputs": [
        {
          "execution_count": 70,
          "output_type": "execute_result",
          "data": {
            "text/plain": "   Price  Quantity  Liters  Available\na    1.0         5     1.5       True\nb    1.4        10     0.3      False\nc    5.0         8     1.0       True",
            "text/html": "<div>\n<style scoped>\n    .dataframe tbody tr th:only-of-type {\n        vertical-align: middle;\n    }\n\n    .dataframe tbody tr th {\n        vertical-align: top;\n    }\n\n    .dataframe thead th {\n        text-align: right;\n    }\n</style>\n<table border=\"1\" class=\"dataframe\">\n  <thead>\n    <tr style=\"text-align: right;\">\n      <th></th>\n      <th>Price</th>\n      <th>Quantity</th>\n      <th>Liters</th>\n      <th>Available</th>\n    </tr>\n  </thead>\n  <tbody>\n    <tr>\n      <th>a</th>\n      <td>1.0</td>\n      <td>5</td>\n      <td>1.5</td>\n      <td>True</td>\n    </tr>\n    <tr>\n      <th>b</th>\n      <td>1.4</td>\n      <td>10</td>\n      <td>0.3</td>\n      <td>False</td>\n    </tr>\n    <tr>\n      <th>c</th>\n      <td>5.0</td>\n      <td>8</td>\n      <td>1.0</td>\n      <td>True</td>\n    </tr>\n  </tbody>\n</table>\n</div>"
          },
          "metadata": {}
        }
      ],
      "execution_count": 70
    },
    {
      "id": "85d7ecdb-4951-4c46-9d49-bee1353cd719",
      "cell_type": "code",
      "source": "price = pd.Series([1.0, 1.4, 5], index=['a', 'b', 'c'])\nquantity = pd.Series([5, 10, 8], index=['a', 'b', 'c'])\nliters = pd.Series([1.5, 0.3, 1], index=['a', 'b', 'c'])\ndf = pd.DataFrame({'Price':price, 'Quantity':quantity,'Liters':liters})\ndf\n# you can drop columns -->\n# Returns a copy of the updated DataFrame\n# Unless inplace=True, in which case the original DataFrame is modified\ndf1 = df.drop(columns=['Quantity', 'Liters']) # df is not modified, but the colomns is drop in a copy\ndf1\ndf1 = df.drop(columns=['Quantity', 'Liters'], inplace=True)\ndf # df is modified using inplace=True",
      "metadata": {
        "trusted": true
      },
      "outputs": [
        {
          "execution_count": 79,
          "output_type": "execute_result",
          "data": {
            "text/plain": "   Price\na    1.0\nb    1.4\nc    5.0",
            "text/html": "<div>\n<style scoped>\n    .dataframe tbody tr th:only-of-type {\n        vertical-align: middle;\n    }\n\n    .dataframe tbody tr th {\n        vertical-align: top;\n    }\n\n    .dataframe thead th {\n        text-align: right;\n    }\n</style>\n<table border=\"1\" class=\"dataframe\">\n  <thead>\n    <tr style=\"text-align: right;\">\n      <th></th>\n      <th>Price</th>\n    </tr>\n  </thead>\n  <tbody>\n    <tr>\n      <th>a</th>\n      <td>1.0</td>\n    </tr>\n    <tr>\n      <th>b</th>\n      <td>1.4</td>\n    </tr>\n    <tr>\n      <th>c</th>\n      <td>5.0</td>\n    </tr>\n  </tbody>\n</table>\n</div>"
          },
          "metadata": {}
        }
      ],
      "execution_count": 79
    },
    {
      "id": "16fc3730-938f-4d3a-9ab7-a879a30d3968",
      "cell_type": "code",
      "source": "price = pd.Series([1.0, 1.4, 5], index=['a', 'b', 'c'])\nquantity = pd.Series([5, 10, 8], index=['a', 'b', 'c'])\nliters = pd.Series([1.5, 0.3, 1], index=['a', 'b', 'c'])\ndf = pd.DataFrame({'Price':price, 'Quantity':quantity,'Liters':liters})\n# you can Rename column(s)\n# Use a dictionary which maps old names with new names\n# Returns a copy of the updated DataFrame\ndf = df.rename(columns={'Quantity': 'nItems','Liters': '[L]'})\ndf",
      "metadata": {
        "trusted": true
      },
      "outputs": [
        {
          "execution_count": 80,
          "output_type": "execute_result",
          "data": {
            "text/plain": "   Price  nItems  [L]\na    1.0       5  1.5\nb    1.4      10  0.3\nc    5.0       8  1.0",
            "text/html": "<div>\n<style scoped>\n    .dataframe tbody tr th:only-of-type {\n        vertical-align: middle;\n    }\n\n    .dataframe tbody tr th {\n        vertical-align: top;\n    }\n\n    .dataframe thead th {\n        text-align: right;\n    }\n</style>\n<table border=\"1\" class=\"dataframe\">\n  <thead>\n    <tr style=\"text-align: right;\">\n      <th></th>\n      <th>Price</th>\n      <th>nItems</th>\n      <th>[L]</th>\n    </tr>\n  </thead>\n  <tbody>\n    <tr>\n      <th>a</th>\n      <td>1.0</td>\n      <td>5</td>\n      <td>1.5</td>\n    </tr>\n    <tr>\n      <th>b</th>\n      <td>1.4</td>\n      <td>10</td>\n      <td>0.3</td>\n    </tr>\n    <tr>\n      <th>c</th>\n      <td>5.0</td>\n      <td>8</td>\n      <td>1.0</td>\n    </tr>\n  </tbody>\n</table>\n</div>"
          },
          "metadata": {}
        }
      ],
      "execution_count": 80
    },
    {
      "id": "bbd8a386-0637-4e60-bcae-12840fad27a9",
      "cell_type": "markdown",
      "source": "# computation",
      "metadata": {}
    },
    {
      "id": "85c39927-3bf9-42ee-99e8-6f3afa62da87",
      "cell_type": "markdown",
      "source": "operations between Series",
      "metadata": {}
    },
    {
      "id": "f85dfc4f-40a0-4a50-8d1e-d12e0d2f0a8b",
      "cell_type": "code",
      "source": "# Applied element-wise after aligning indices\n# Index elements which do not match are set to NaN (Not a Number)\n# quando non c'è match tra gli indici delle due serie allora il valore viene aggiunto alla serie risultante \n# ma con valore NaN\n# index in the result is sorted\nser1 = pd.Series({'b':3, 'a':1, 'c':10})\nser2 = pd.Series({'a':1, 'b':3, 'd':30})\nres = ser1 + ser2\nres",
      "metadata": {
        "trusted": true
      },
      "outputs": [
        {
          "execution_count": 83,
          "output_type": "execute_result",
          "data": {
            "text/plain": "a    2.0\nb    6.0\nc    NaN\nd    NaN\ndtype: float64"
          },
          "metadata": {}
        }
      ],
      "execution_count": 83
    },
    {
      "id": "8d06e719-ac96-4657-bb6a-f4bff77ae377",
      "cell_type": "markdown",
      "source": "operations between datafranme",
      "metadata": {}
    },
    {
      "id": "6bc10fa7-b411-4046-a721-d78a8361caae",
      "cell_type": "code",
      "source": "# Applied element-wise after aligning indices and columns\n# quando non c'è match tra gli indici o le colonne dei due df allora il valore viene aggiunto al df risultante \n# ma con valore NaN\n# index in the result is sorted\n# columns in the result are sorted\ntotal1 = pd.Series([3, 1, 10], index=['b', 'a', 'c']) \nquantity1 = pd.Series([4, 2, 20], index=['b', 'a', 'c'])\ndf1 = pd.DataFrame({'Total':total1, 'Quantity':quantity1})\ntotal2 = pd.Series([1, 3, 30], index=['a', 'b', 'd']) \nquantity2 = pd.Series([2, 4, 40], index=['a', 'b', 'd'])\ndf2 = pd.DataFrame({'Total':total2, 'Quantity':quantity2})\nres = df1 + df2\nres",
      "metadata": {
        "trusted": true
      },
      "outputs": [
        {
          "execution_count": 87,
          "output_type": "execute_result",
          "data": {
            "text/plain": "   Total  Quantity\na    2.0       4.0\nb    6.0       8.0\nc    NaN       NaN\nd    NaN       NaN",
            "text/html": "<div>\n<style scoped>\n    .dataframe tbody tr th:only-of-type {\n        vertical-align: middle;\n    }\n\n    .dataframe tbody tr th {\n        vertical-align: top;\n    }\n\n    .dataframe thead th {\n        text-align: right;\n    }\n</style>\n<table border=\"1\" class=\"dataframe\">\n  <thead>\n    <tr style=\"text-align: right;\">\n      <th></th>\n      <th>Total</th>\n      <th>Quantity</th>\n    </tr>\n  </thead>\n  <tbody>\n    <tr>\n      <th>a</th>\n      <td>2.0</td>\n      <td>4.0</td>\n    </tr>\n    <tr>\n      <th>b</th>\n      <td>6.0</td>\n      <td>8.0</td>\n    </tr>\n    <tr>\n      <th>c</th>\n      <td>NaN</td>\n      <td>NaN</td>\n    </tr>\n    <tr>\n      <th>d</th>\n      <td>NaN</td>\n      <td>NaN</td>\n    </tr>\n  </tbody>\n</table>\n</div>"
          },
          "metadata": {}
        }
      ],
      "execution_count": 87
    },
    {
      "id": "9db42d3c-2ffd-48a9-9b56-f9d24b672c91",
      "cell_type": "markdown",
      "source": "operations between dataframe and series",
      "metadata": {}
    },
    {
      "id": "2a1e72db-9189-4d5c-a6dc-b6c6399ae0b1",
      "cell_type": "code",
      "source": "# The operation is applied between the Series and each row of the DataFrame\n# Follows broadcasting rules --> se le dimensioni non accordano tra loro pandas cerca di ridimensionare\ntotal = pd.Series([1, 3, 5], index=['a', 'b', 'c']) \nquantity = pd.Series([2, 4, 6], index=['a', 'b', 'c'])\ndf3 = pd.DataFrame({'Total':total, 'Quantity':quantity})\nser = pd.Series({'Total':1, 'Quantity':2})\nres = df3 + ser\nres",
      "metadata": {
        "trusted": true
      },
      "outputs": [
        {
          "execution_count": 88,
          "output_type": "execute_result",
          "data": {
            "text/plain": "   Total  Quantity\na      2         4\nb      4         6\nc      6         8",
            "text/html": "<div>\n<style scoped>\n    .dataframe tbody tr th:only-of-type {\n        vertical-align: middle;\n    }\n\n    .dataframe tbody tr th {\n        vertical-align: top;\n    }\n\n    .dataframe thead th {\n        text-align: right;\n    }\n</style>\n<table border=\"1\" class=\"dataframe\">\n  <thead>\n    <tr style=\"text-align: right;\">\n      <th></th>\n      <th>Total</th>\n      <th>Quantity</th>\n    </tr>\n  </thead>\n  <tbody>\n    <tr>\n      <th>a</th>\n      <td>2</td>\n      <td>4</td>\n    </tr>\n    <tr>\n      <th>b</th>\n      <td>4</td>\n      <td>6</td>\n    </tr>\n    <tr>\n      <th>c</th>\n      <td>6</td>\n      <td>8</td>\n    </tr>\n  </tbody>\n</table>\n</div>"
          },
          "metadata": {}
        }
      ],
      "execution_count": 88
    },
    {
      "id": "c3322c90-fc7c-404e-a980-9a7597337ac5",
      "cell_type": "code",
      "source": "# Pandas Series and DataFrames allow performing aggregations\n# mean, std, min, max, sum\n# For DataFrames, aggregate functions are applied column-wise and return a Series\n# we can also compute the z-score normalization of a df",
      "metadata": {
        "trusted": true
      },
      "outputs": [],
      "execution_count": 14
    },
    {
      "id": "55f5a75f-7a5f-4e16-ad76-dbe0e29057ea",
      "cell_type": "markdown",
      "source": "# missing values",
      "metadata": {}
    },
    {
      "id": "5821b9b0-f7e3-4b4a-9d5a-af46a6ebbba3",
      "cell_type": "raw",
      "source": "Represented with sentinel value\n- None: Python null value --> is a python object\n- np.nan: Numpy Not A Number --> is a floating point number\nUsing nan achieves better performances when performing numerical computations ",
      "metadata": {}
    },
    {
      "id": "e606c1c5-27a1-4c0e-8684-4ef50b968688",
      "cell_type": "code",
      "source": "# Pandas supports both None and NaN, and automatically converts between them when appropriate\npd.Series([4, None, 5, np.nan])",
      "metadata": {
        "trusted": true
      },
      "outputs": [
        {
          "execution_count": 89,
          "output_type": "execute_result",
          "data": {
            "text/plain": "0    4.0\n1    NaN\n2    5.0\n3    NaN\ndtype: float64"
          },
          "metadata": {}
        }
      ],
      "execution_count": 89
    },
    {
      "id": "121b523d-9ea0-43b4-b770-14d077b2f046",
      "cell_type": "raw",
      "source": "Operating on missing values (for Series and DataFrames)\n- isnull()  Return a boolean mask indicating null values\n- notnull() Return a boolean mask indicating not null values\nisnull and notnull Return a new Series/DataFrame with the same shape as the input\n- dropna()  Return filtered data containing null values\ndropna  for series removed null elements\n- fillna() Return new data with filled or input missing values",
      "metadata": {}
    },
    {
      "id": "f0fab1c6-3620-46c7-bb49-7e2446337ab2",
      "cell_type": "code",
      "source": "s1 = pd.Series([4, None, 5, np.nan]) # Return a new Series/DataFrame with the same shape as the input\ns1.isnull() # mi dice dove sono posizionati i valori nulli quando è true",
      "metadata": {
        "trusted": true
      },
      "outputs": [
        {
          "execution_count": 90,
          "output_type": "execute_result",
          "data": {
            "text/plain": "0    False\n1     True\n2    False\n3     True\ndtype: bool"
          },
          "metadata": {}
        }
      ],
      "execution_count": 90
    },
    {
      "id": "20f5ae15-bd0a-4881-bd71-5f9bfc62f14c",
      "cell_type": "code",
      "source": "# isna check where there are missing values\n# posso fare sum o mean per trovare quanti missing values ho nelle colonne\ns1 = pd.Series([4, None, 5, np.nan])\ns1.isna().sum() # mi dice che ci sono due valori nulli nella serie",
      "metadata": {
        "trusted": true
      },
      "outputs": [
        {
          "execution_count": 93,
          "output_type": "execute_result",
          "data": {
            "text/plain": "np.int64(2)"
          },
          "metadata": {}
        }
      ],
      "execution_count": 93
    },
    {
      "id": "4b8d6131-bee8-4222-82e2-22d84d669952",
      "cell_type": "code",
      "source": "s1 = pd.Series([4, None, 5, np.nan])\ns1.dropna() # For Series it removes null elements",
      "metadata": {
        "trusted": true
      },
      "outputs": [
        {
          "execution_count": 94,
          "output_type": "execute_result",
          "data": {
            "text/plain": "0    4.0\n2    5.0\ndtype: float64"
          },
          "metadata": {}
        }
      ],
      "execution_count": 94
    },
    {
      "id": "71d46ae4-9864-4a82-a7a9-57e2d2afdaac",
      "cell_type": "code",
      "source": "# dropna for dataframes it removes rows contain at least a missing value (default behaviour)\n# Passing how=all removes rows if they contain all NaN’s\n# Alternatively, it is possible to remove columns\n# dropped_df = df.dropna(axis='columns')",
      "metadata": {
        "trusted": true
      },
      "outputs": [],
      "execution_count": 19
    },
    {
      "id": "88b97abb-195b-472c-86f3-0a71b16219aa",
      "cell_type": "code",
      "source": "# Operating on missing values: fillna\n# Fill null fields with a specified value (for both Series and DataFrames)\ns1 = pd.Series([4, None, 5, np.nan])\ns1.fillna(0) # metto 0 al posto dei valori nulli",
      "metadata": {
        "trusted": true
      },
      "outputs": [
        {
          "execution_count": 95,
          "output_type": "execute_result",
          "data": {
            "text/plain": "0    4.0\n1    0.0\n2    5.0\n3    0.0\ndtype: float64"
          },
          "metadata": {}
        }
      ],
      "execution_count": 95
    },
    {
      "id": "05b539fe-65a2-4c61-8f04-38fc05bb3f97",
      "cell_type": "code",
      "source": "# The parameter method allows specifying different filling techniques\n# - ffill: propagate last valid observation forward\n# -bfill: use next valid observation to fill gap\ns1 = pd.Series([4, None, 5, np.nan])\n#s1.fillna(method='ffill')\ns1.ffill()",
      "metadata": {
        "trusted": true
      },
      "outputs": [
        {
          "execution_count": 97,
          "output_type": "execute_result",
          "data": {
            "text/plain": "0    4.0\n1    4.0\n2    5.0\n3    5.0\ndtype: float64"
          },
          "metadata": {}
        }
      ],
      "execution_count": 97
    },
    {
      "id": "e9169280-066c-4d5a-9d64-b1e363356dee",
      "cell_type": "markdown",
      "source": "# Combining Pandas objects",
      "metadata": {}
    },
    {
      "id": "1d8e83cf-4e2e-4419-bcd2-6d9d09c174d6",
      "cell_type": "raw",
      "source": "Pandas provides 2 methods for combining\nSeries and DataFrames\n- concat() --> Concatenate a sequence of Series/DataFrames\n- append() --> Append a Series/DataFrame to the specified object\n",
      "metadata": {}
    },
    {
      "id": "635aebc7-5138-4a8b-b3c8-706212f2fc8d",
      "cell_type": "code",
      "source": "# concatenating 2 series\n# Index is preserved, even if duplicated\n# There is nothing that prevents duplicate indices in pandas!\ns1 = pd.Series(['a', 'b'], index=[1,2])\ns2 = pd.Series(['c', 'd'], index=[1,2])\npd.concat((s1, s2)) # indici duplicati nel risultato",
      "metadata": {
        "trusted": true
      },
      "outputs": [
        {
          "execution_count": 99,
          "output_type": "execute_result",
          "data": {
            "text/plain": "1    a\n2    b\n1    c\n2    d\ndtype: object"
          },
          "metadata": {}
        }
      ],
      "execution_count": 99
    },
    {
      "id": "5f11d0d0-96b9-41e6-8792-daa956668eaa",
      "cell_type": "code",
      "source": "# To avoid duplicates use ignore_index\ns1 = pd.Series(['a', 'b'], index=[1,2])\ns2 = pd.Series(['c', 'd'], index=[1,2])\npd.concat((s1, s2), ignore_index=True) # evito duplicati negli indici",
      "metadata": {
        "trusted": true
      },
      "outputs": [
        {
          "execution_count": 100,
          "output_type": "execute_result",
          "data": {
            "text/plain": "0    a\n1    b\n2    c\n3    d\ndtype: object"
          },
          "metadata": {}
        }
      ],
      "execution_count": 100
    },
    {
      "id": "57abb5f8-3cbb-443f-af3b-23cc8d3730cb",
      "cell_type": "code",
      "source": "# Concatenating 2 DataFrames --> Concatenate vertically by default\n# The append() method is a shortcut for concatenating DataFrames\n# -- >Returns the result of the concatenation # df_concat = df1.append(df2)\ntotal1 = pd.Series([1, 3], index=['a', 'b']) \nquantity1 = pd.Series([2, 4], index=['a', 'b'])\ndf1 = pd.DataFrame({'Total':total1, 'Quantity':quantity1})\ntotal2 = pd.Series([5, 7], index=['c', 'd']) \nquantity2 = pd.Series([6, 8], index=['c', 'd'])\ndf2 = pd.DataFrame({'Total':total2, 'Quantity':quantity2})\npd.concat((df1,df2))",
      "metadata": {
        "trusted": true
      },
      "outputs": [
        {
          "execution_count": 102,
          "output_type": "execute_result",
          "data": {
            "text/plain": "   Total  Quantity\na      1         2\nb      3         4\nc      5         6\nd      7         8",
            "text/html": "<div>\n<style scoped>\n    .dataframe tbody tr th:only-of-type {\n        vertical-align: middle;\n    }\n\n    .dataframe tbody tr th {\n        vertical-align: top;\n    }\n\n    .dataframe thead th {\n        text-align: right;\n    }\n</style>\n<table border=\"1\" class=\"dataframe\">\n  <thead>\n    <tr style=\"text-align: right;\">\n      <th></th>\n      <th>Total</th>\n      <th>Quantity</th>\n    </tr>\n  </thead>\n  <tbody>\n    <tr>\n      <th>a</th>\n      <td>1</td>\n      <td>2</td>\n    </tr>\n    <tr>\n      <th>b</th>\n      <td>3</td>\n      <td>4</td>\n    </tr>\n    <tr>\n      <th>c</th>\n      <td>5</td>\n      <td>6</td>\n    </tr>\n    <tr>\n      <th>d</th>\n      <td>7</td>\n      <td>8</td>\n    </tr>\n  </tbody>\n</table>\n</div>"
          },
          "metadata": {}
        }
      ],
      "execution_count": 102
    },
    {
      "id": "9fa44ecb-b2f2-4d4c-8b27-ff19c92a3784",
      "cell_type": "code",
      "source": "# Missing columns are filled with NaN\ntotal1 = pd.Series([1, 3], index=['a', 'b']) \nquantity1 = pd.Series([2, 4], index=['a', 'b'])\ndf1 = pd.DataFrame({'Total':total1, 'Quantity':quantity1})\ntotal2 = pd.Series([5, 7], index=['c', 'd']) \nquantity2 = pd.Series([6, 8], index=['c', 'd'])\nliters2 = pd.Series([1,2], index=['c', 'd'])\ndf2 = pd.DataFrame({'Total':total2, 'Quantity':quantity2, 'Liters':liters2})\npd.concat((df1,df2))",
      "metadata": {
        "trusted": true
      },
      "outputs": [
        {
          "execution_count": 104,
          "output_type": "execute_result",
          "data": {
            "text/plain": "   Total  Quantity  Liters\na      1         2     NaN\nb      3         4     NaN\nc      5         6     1.0\nd      7         8     2.0",
            "text/html": "<div>\n<style scoped>\n    .dataframe tbody tr th:only-of-type {\n        vertical-align: middle;\n    }\n\n    .dataframe tbody tr th {\n        vertical-align: top;\n    }\n\n    .dataframe thead th {\n        text-align: right;\n    }\n</style>\n<table border=\"1\" class=\"dataframe\">\n  <thead>\n    <tr style=\"text-align: right;\">\n      <th></th>\n      <th>Total</th>\n      <th>Quantity</th>\n      <th>Liters</th>\n    </tr>\n  </thead>\n  <tbody>\n    <tr>\n      <th>a</th>\n      <td>1</td>\n      <td>2</td>\n      <td>NaN</td>\n    </tr>\n    <tr>\n      <th>b</th>\n      <td>3</td>\n      <td>4</td>\n      <td>NaN</td>\n    </tr>\n    <tr>\n      <th>c</th>\n      <td>5</td>\n      <td>6</td>\n      <td>1.0</td>\n    </tr>\n    <tr>\n      <th>d</th>\n      <td>7</td>\n      <td>8</td>\n      <td>2.0</td>\n    </tr>\n  </tbody>\n</table>\n</div>"
          },
          "metadata": {}
        }
      ],
      "execution_count": 104
    },
    {
      "id": "a6fa5239-02d1-4b9c-918f-466f34a5c522",
      "cell_type": "code",
      "source": "# The append() method is a shortcut for concatenating DataFrames\n# df_concat = df1.append(df2)",
      "metadata": {
        "trusted": true
      },
      "outputs": [],
      "execution_count": 106
    },
    {
      "id": "03c9a4d2-7b45-4141-80dd-35ca13f85685",
      "cell_type": "raw",
      "source": "Joining DataFrames with relational algebra: merge()\n- Merge on:\n    The column(s) with same name in the two DFs, by default\n    Specific columns, by specifying on=columns (left_on and right_on may also be used)\n    The indices, if left_index/right_index are True -->This preserves the indices (discarded otherwise)\n- Depending on the DataFrames, a one-to-one, many-to-one or many-to-many join can be performed --> validate='1:1'|'1:m'|'m:1'|'m:m' to enforce the specific merge\n# joined_df = pd.merge(df1, df2)\n# pd.merge(df1, df2) --> merge on columns in common\n# pd.merge(df1, df2, right_index=True, left_index=True) --> merge on index",
      "metadata": {}
    },
    {
      "id": "9a8fdc9c-8e16-4c6c-a56e-c1ff03912352",
      "cell_type": "markdown",
      "source": "# grouping data",
      "metadata": {}
    },
    {
      "id": "dc3c3bf1-e909-4099-ad66-21606771cf5f",
      "cell_type": "raw",
      "source": "Pandas provides the equivalent of the SQL group by statement\nIt allows the following operations:\n- Iterating on groups\n- Aggregating the values of each group (mean, min, max, ...)\n- Filtering groups according to a condition",
      "metadata": {}
    },
    {
      "id": "c8ded4de-cb80-495e-980f-13042b0de0a9",
      "cell_type": "code",
      "source": "# Applying group by\n# - Specify the column(s) where you want to group (key)\n# - Obtain a DataFrameGroupBy object\ndf = pd.DataFrame({'k' : ['a','b','a','b'], 'c1': [2,10,3,15], 'c2' : [4,20,5,30]})\ngrouped_df = df.groupby('k') # 2 groups: 'a' and 'b'\nprint(grouped_df) # mi mette vicino le righe con indice a e le righe con indice b sotto, la grupu by si basa sulla colonna k",
      "metadata": {
        "trusted": true
      },
      "outputs": [
        {
          "name": "stdout",
          "output_type": "stream",
          "text": "<pandas.core.groupby.generic.DataFrameGroupBy object at 0x76d80d0>\n"
        }
      ],
      "execution_count": 112
    },
    {
      "id": "ac4963a5-c5f5-4335-a157-9b8f78e5de89",
      "cell_type": "code",
      "source": "# Iterating on groups\n# Each group is a subset of the original DataFrame\nfor key, group_df in grouped_df:\n    print(key) # a e b\n    print(group_df)",
      "metadata": {
        "trusted": true
      },
      "outputs": [
        {
          "name": "stdout",
          "output_type": "stream",
          "text": "a\n   k  c1  c2\n0  a   2   4\n2  a   3   5\nb\n   k  c1  c2\n1  b  10  20\n3  b  15  30\n"
        }
      ],
      "execution_count": 114
    },
    {
      "id": "34405759-5d8c-4f9e-abc5-f577ba9eafa2",
      "cell_type": "code",
      "source": "# Aggregating by group (min, max, mean, std)\n# The output is a DataFrame with the result of the aggregation for each group\ngrouped_df.mean() # Mean, separately for each group\n# The index of the result is the key of each group",
      "metadata": {
        "trusted": true
      },
      "outputs": [
        {
          "execution_count": 27,
          "output_type": "execute_result",
          "data": {
            "text/plain": "     c1    c2\nk            \na   2.5   4.5\nb  12.5  25.0",
            "text/html": "<div>\n<style scoped>\n    .dataframe tbody tr th:only-of-type {\n        vertical-align: middle;\n    }\n\n    .dataframe tbody tr th {\n        vertical-align: top;\n    }\n\n    .dataframe thead th {\n        text-align: right;\n    }\n</style>\n<table border=\"1\" class=\"dataframe\">\n  <thead>\n    <tr style=\"text-align: right;\">\n      <th></th>\n      <th>c1</th>\n      <th>c2</th>\n    </tr>\n    <tr>\n      <th>k</th>\n      <th></th>\n      <th></th>\n    </tr>\n  </thead>\n  <tbody>\n    <tr>\n      <th>a</th>\n      <td>2.5</td>\n      <td>4.5</td>\n    </tr>\n    <tr>\n      <th>b</th>\n      <td>12.5</td>\n      <td>25.0</td>\n    </tr>\n  </tbody>\n</table>\n</div>"
          },
          "metadata": {}
        }
      ],
      "execution_count": 27
    },
    {
      "id": "34203492-23b4-488a-823a-409806f36aeb",
      "cell_type": "code",
      "source": "#Aggregating a single column by group\n# The output is a Series with the result of the aggregation for each group\ngrouped_df['c1'].mean() # mi fa la media sulla colonna c1 di ogni gruppo\n# l'indice del risultatto è la chiave di ogni gruppo (a, b)",
      "metadata": {
        "trusted": true
      },
      "outputs": [
        {
          "execution_count": 118,
          "output_type": "execute_result",
          "data": {
            "text/plain": "k\na     2.5\nb    12.5\nName: c1, dtype: float64"
          },
          "metadata": {}
        }
      ],
      "execution_count": 118
    },
    {
      "id": "9232d00b-5f80-4238-8645-5315df9a443d",
      "cell_type": "code",
      "source": "# Filtering data by group\n# The filter is expressed with a lambda function working with each group DataFrame (x)\n# Keep groups for which column c1 has a mean > 5\ngrouped_df.filter(lambda x: x['c1'].mean()>5)",
      "metadata": {
        "trusted": true
      },
      "outputs": [
        {
          "execution_count": 119,
          "output_type": "execute_result",
          "data": {
            "text/plain": "   k  c1  c2\n1  b  10  20\n3  b  15  30",
            "text/html": "<div>\n<style scoped>\n    .dataframe tbody tr th:only-of-type {\n        vertical-align: middle;\n    }\n\n    .dataframe tbody tr th {\n        vertical-align: top;\n    }\n\n    .dataframe thead th {\n        text-align: right;\n    }\n</style>\n<table border=\"1\" class=\"dataframe\">\n  <thead>\n    <tr style=\"text-align: right;\">\n      <th></th>\n      <th>k</th>\n      <th>c1</th>\n      <th>c2</th>\n    </tr>\n  </thead>\n  <tbody>\n    <tr>\n      <th>1</th>\n      <td>b</td>\n      <td>10</td>\n      <td>20</td>\n    </tr>\n    <tr>\n      <th>3</th>\n      <td>b</td>\n      <td>15</td>\n      <td>30</td>\n    </tr>\n  </tbody>\n</table>\n</div>"
          },
          "metadata": {}
        }
      ],
      "execution_count": 119
    },
    {
      "id": "98cfca03-0b67-4e6a-9bca-77151ab33e42",
      "cell_type": "markdown",
      "source": "# pivoting",
      "metadata": {}
    },
    {
      "id": "901ec78f-7088-48da-905a-3e3ccd49b45c",
      "cell_type": "code",
      "source": "# Pivoting allows inspecting relationships within a dataset\n# Suppose to have the following dataset:\ndf = pd.DataFrame({'type':['a','b','b','a','b','a','b','a'], 'class':[3,2,3,3,2,1,1,2], 'fail':[1,1,1,0,1,0,0,0]})\ndf",
      "metadata": {
        "trusted": true
      },
      "outputs": [
        {
          "execution_count": 122,
          "output_type": "execute_result",
          "data": {
            "text/plain": "  type  class  fail\n0    a      3     1\n1    b      2     1\n2    b      3     1\n3    a      3     0\n4    b      2     1\n5    a      1     0\n6    b      1     0\n7    a      2     0",
            "text/html": "<div>\n<style scoped>\n    .dataframe tbody tr th:only-of-type {\n        vertical-align: middle;\n    }\n\n    .dataframe tbody tr th {\n        vertical-align: top;\n    }\n\n    .dataframe thead th {\n        text-align: right;\n    }\n</style>\n<table border=\"1\" class=\"dataframe\">\n  <thead>\n    <tr style=\"text-align: right;\">\n      <th></th>\n      <th>type</th>\n      <th>class</th>\n      <th>fail</th>\n    </tr>\n  </thead>\n  <tbody>\n    <tr>\n      <th>0</th>\n      <td>a</td>\n      <td>3</td>\n      <td>1</td>\n    </tr>\n    <tr>\n      <th>1</th>\n      <td>b</td>\n      <td>2</td>\n      <td>1</td>\n    </tr>\n    <tr>\n      <th>2</th>\n      <td>b</td>\n      <td>3</td>\n      <td>1</td>\n    </tr>\n    <tr>\n      <th>3</th>\n      <td>a</td>\n      <td>3</td>\n      <td>0</td>\n    </tr>\n    <tr>\n      <th>4</th>\n      <td>b</td>\n      <td>2</td>\n      <td>1</td>\n    </tr>\n    <tr>\n      <th>5</th>\n      <td>a</td>\n      <td>1</td>\n      <td>0</td>\n    </tr>\n    <tr>\n      <th>6</th>\n      <td>b</td>\n      <td>1</td>\n      <td>0</td>\n    </tr>\n    <tr>\n      <th>7</th>\n      <td>a</td>\n      <td>2</td>\n      <td>0</td>\n    </tr>\n  </tbody>\n</table>\n</div>"
          },
          "metadata": {}
        }
      ],
      "execution_count": 122
    },
    {
      "id": "877d5f65-32b8-48e6-a213-3306314ea0b2",
      "cell_type": "code",
      "source": "df.pivot_table('fail', index='type', columns='class', aggfunc='sum')\n# Shows the number of failures for all the combinations of type and class",
      "metadata": {
        "trusted": true
      },
      "outputs": [
        {
          "execution_count": 124,
          "output_type": "execute_result",
          "data": {
            "text/plain": "class  1  2  3\ntype          \na      0  0  1\nb      0  2  1",
            "text/html": "<div>\n<style scoped>\n    .dataframe tbody tr th:only-of-type {\n        vertical-align: middle;\n    }\n\n    .dataframe tbody tr th {\n        vertical-align: top;\n    }\n\n    .dataframe thead th {\n        text-align: right;\n    }\n</style>\n<table border=\"1\" class=\"dataframe\">\n  <thead>\n    <tr style=\"text-align: right;\">\n      <th>class</th>\n      <th>1</th>\n      <th>2</th>\n      <th>3</th>\n    </tr>\n    <tr>\n      <th>type</th>\n      <th></th>\n      <th></th>\n      <th></th>\n    </tr>\n  </thead>\n  <tbody>\n    <tr>\n      <th>a</th>\n      <td>0</td>\n      <td>0</td>\n      <td>1</td>\n    </tr>\n    <tr>\n      <th>b</th>\n      <td>0</td>\n      <td>2</td>\n      <td>1</td>\n    </tr>\n  </tbody>\n</table>\n</div>"
          },
          "metadata": {}
        }
      ],
      "execution_count": 124
    },
    {
      "id": "87ef805a-ed9b-4c97-8465-2cd6d64db167",
      "cell_type": "code",
      "source": "df.pivot_table('fail', index='type', columns='class', aggfunc='mean')\n# Shows the percentage of failures for all the combinations of type and class",
      "metadata": {
        "trusted": true
      },
      "outputs": [
        {
          "execution_count": 125,
          "output_type": "execute_result",
          "data": {
            "text/plain": "class    1    2    3\ntype                \na      0.0  0.0  0.5\nb      0.0  1.0  1.0",
            "text/html": "<div>\n<style scoped>\n    .dataframe tbody tr th:only-of-type {\n        vertical-align: middle;\n    }\n\n    .dataframe tbody tr th {\n        vertical-align: top;\n    }\n\n    .dataframe thead th {\n        text-align: right;\n    }\n</style>\n<table border=\"1\" class=\"dataframe\">\n  <thead>\n    <tr style=\"text-align: right;\">\n      <th>class</th>\n      <th>1</th>\n      <th>2</th>\n      <th>3</th>\n    </tr>\n    <tr>\n      <th>type</th>\n      <th></th>\n      <th></th>\n      <th></th>\n    </tr>\n  </thead>\n  <tbody>\n    <tr>\n      <th>a</th>\n      <td>0.0</td>\n      <td>0.0</td>\n      <td>0.5</td>\n    </tr>\n    <tr>\n      <th>b</th>\n      <td>0.0</td>\n      <td>1.0</td>\n      <td>1.0</td>\n    </tr>\n  </tbody>\n</table>\n</div>"
          },
          "metadata": {}
        }
      ],
      "execution_count": 125
    },
    {
      "id": "10c6a984-8911-4d41-9ae1-773422b5f073",
      "cell_type": "markdown",
      "source": "# multi-index",
      "metadata": {}
    },
    {
      "id": "24bdfbda-00a9-4f0f-93e0-780bd92a31c0",
      "cell_type": "raw",
      "source": "Multi-Index allows specifying an index hierarchy for\n- Series\n- DataFrames\nExample: index a Series by city and year",
      "metadata": {}
    },
    {
      "id": "0beea3eb-22c8-4655-b903-ea5b1ab01aa5",
      "cell_type": "code",
      "source": "ix = [['Rome', 'Rome', 'Turin', 'Turin'], ['2018', '2019', '2018', '2019']]\ns1 = pd.Series([10,13,7,9], index=ix)\ns1 = s1.sort_index() # Multi-Index must be sorted # if you want to use slicing\nprint(s1) # le righe hanno indice città e anno",
      "metadata": {
        "trusted": true
      },
      "outputs": [
        {
          "name": "stdout",
          "output_type": "stream",
          "text": "Rome   2018    10\n       2019    13\nTurin  2018     7\n       2019     9\ndtype: int64\n"
        }
      ],
      "execution_count": 126
    },
    {
      "id": "2c9f99cd-17a4-4df5-b9bb-a6e7e972eb10",
      "cell_type": "code",
      "source": "# we can name index levels to recognize them \ns1.index.names=['city', 'year']\nprint(s1)",
      "metadata": {
        "trusted": true
      },
      "outputs": [
        {
          "name": "stdout",
          "output_type": "stream",
          "text": "city   year\nRome   2018    10\n       2019    13\nTurin  2018     7\n       2019     9\ndtype: int64\n"
        }
      ],
      "execution_count": 127
    },
    {
      "id": "ea420350-5142-4c22-a5d5-4457bd98d694",
      "cell_type": "code",
      "source": "# Accessing index levels\n# - Slicing and simple indexing are allowed\n# - Slicing on index levels follows Numpy rules\nprint(s1.loc['Rome']) # Outer index level # prendo tutti gli elemnti con città=Roma\nprint(s1.loc[:,'2018']) # All cities, only 2018 # prendo tutti gli elementi con anno=2018",
      "metadata": {
        "trusted": true
      },
      "outputs": [
        {
          "name": "stdout",
          "output_type": "stream",
          "text": "year\n2018    10\n2019    13\ndtype: int64\ncity\nRome     10\nTurin     7\ndtype: int64\n"
        }
      ],
      "execution_count": 128
    },
    {
      "id": "a16b694e-4b20-464e-a8af-29ed6c2d8e04",
      "cell_type": "code",
      "source": "print(s1.loc['Turin', '2018':'2019']) # prendo gli elelementi di torino dell'anno dal 2018 al 2019\nprint(s1[s1>10]) # Masking # seleziono solo gli elementi > 10",
      "metadata": {
        "trusted": true
      },
      "outputs": [
        {
          "name": "stdout",
          "output_type": "stream",
          "text": "city   year\nTurin  2018    7\n       2019    9\ndtype: int64\ncity  year\nRome  2019    13\ndtype: int64\n"
        }
      ],
      "execution_count": 129
    },
    {
      "id": "249fb5b3-945b-48a2-bd7c-9a2022c3adf6",
      "cell_type": "code",
      "source": "# Multi-indexed DataFrame\n# Specify a multi-index for rows\n# Columns can be multi-indexed as well\n# le righe hanno indice città e anno\n# le colonne hanno nomi c1, c2 e poi a, b, a b\nix = [['Rome', 'Rome', 'Turin', 'Turin'], ['2018', '2019', '2018', '2019']]\ncols = [['c1','c1','c2','c2'],['a','b','a','b']]\ndata = np.arange(16).reshape((4,4))\ndf = pd.DataFrame(data, index=ix, columns=cols)\nprint(df)",
      "metadata": {
        "trusted": true
      },
      "outputs": [
        {
          "name": "stdout",
          "output_type": "stream",
          "text": "            c1      c2    \n             a   b   a   b\nRome  2018   0   1   2   3\n      2019   4   5   6   7\nTurin 2018   8   9  10  11\n      2019  12  13  14  15\n"
        }
      ],
      "execution_count": 130
    },
    {
      "id": "16ad4c9f-fff4-42ca-8a71-e737df4c1503",
      "cell_type": "code",
      "source": "# Multi-indexed DataFrame: access with outer index level\nprint(df.loc[:, 'c1']) # Access by column (all rows) # prendo tutte le righe ma seleziono solo la colonna c1\nprint(df.loc['Rome', 'c1']) # Access rows and cols # prendo le righe con citta roma e colonna c1",
      "metadata": {
        "trusted": true
      },
      "outputs": [
        {
          "name": "stdout",
          "output_type": "stream",
          "text": "             a   b\nRome  2018   0   1\n      2019   4   5\nTurin 2018   8   9\n      2019  12  13\n      a  b\n2018  0  1\n2019  4  5\n"
        }
      ],
      "execution_count": 131
    },
    {
      "id": "41c7999a-724f-4aed-a3be-27b38662f442",
      "cell_type": "code",
      "source": "# Multi-indexed DataFrame: access with outer and inner column levels using tuples\ndf.loc[:, ('c1', 'a')] # Access by column  # prendo tutte le righe accedendo alla colonna c1 e poi colonna a ",
      "metadata": {
        "trusted": true
      },
      "outputs": [
        {
          "execution_count": 132,
          "output_type": "execute_result",
          "data": {
            "text/plain": "Rome   2018     0\n       2019     4\nTurin  2018     8\n       2019    12\nName: (c1, a), dtype: int32"
          },
          "metadata": {}
        }
      ],
      "execution_count": 132
    },
    {
      "id": "dd3c30b8-97e7-46c7-81e0-f0c466427a22",
      "cell_type": "code",
      "source": "# Multi-indexed DataFrame: access with outer and inner column and index levels using tuples\ndf.loc[('Rome', '2018'), ('c1', 'a')] # Access single element # accedo all'elelmnto specifico",
      "metadata": {
        "trusted": true
      },
      "outputs": [
        {
          "execution_count": 133,
          "output_type": "execute_result",
          "data": {
            "text/plain": "np.int32(0)"
          },
          "metadata": {}
        }
      ],
      "execution_count": 133
    },
    {
      "id": "78e2dffe-4162-4848-ac96-098c6b4b6254",
      "cell_type": "code",
      "source": "# Multi-indexed DataFrame: slicing\n# pd.IndexSlice: Pandas object to make indexing easier\nix = pd.IndexSlice\ndf.loc[ix['Rome':'Turin', '2018'], ix['c1':'c2', 'a']] # prendo le righe con città da roma a torino e nell'anno 2018\n# prendo le colonne da c1 a c2 e poi colonna a",
      "metadata": {
        "trusted": true
      },
      "outputs": [
        {
          "execution_count": 134,
          "output_type": "execute_result",
          "data": {
            "text/plain": "           c1  c2\n            a   a\nRome  2018  0   2\nTurin 2018  8  10",
            "text/html": "<div>\n<style scoped>\n    .dataframe tbody tr th:only-of-type {\n        vertical-align: middle;\n    }\n\n    .dataframe tbody tr th {\n        vertical-align: top;\n    }\n\n    .dataframe thead tr th {\n        text-align: left;\n    }\n</style>\n<table border=\"1\" class=\"dataframe\">\n  <thead>\n    <tr>\n      <th></th>\n      <th></th>\n      <th>c1</th>\n      <th>c2</th>\n    </tr>\n    <tr>\n      <th></th>\n      <th></th>\n      <th>a</th>\n      <th>a</th>\n    </tr>\n  </thead>\n  <tbody>\n    <tr>\n      <th>Rome</th>\n      <th>2018</th>\n      <td>0</td>\n      <td>2</td>\n    </tr>\n    <tr>\n      <th>Turin</th>\n      <th>2018</th>\n      <td>8</td>\n      <td>10</td>\n    </tr>\n  </tbody>\n</table>\n</div>"
          },
          "metadata": {}
        }
      ],
      "execution_count": 134
    },
    {
      "id": "054c2495-90fb-4695-8a99-4091b5adb56e",
      "cell_type": "code",
      "source": "# Reset Index: transform index to DataFrame columns and create new (single level) index\ndf.index.names = ['city', 'year'] # gli indici delle righe divenano colonne a livello più alto come c1 e c2\ndf_reset = df.reset_index()\nprint(df_reset)\n",
      "metadata": {
        "trusted": true
      },
      "outputs": [
        {
          "name": "stdout",
          "output_type": "stream",
          "text": "    city  year  c1      c2    \n                 a   b   a   b\n0   Rome  2018   0   1   2   3\n1   Rome  2019   4   5   6   7\n2  Turin  2018   8   9  10  11\n3  Turin  2019  12  13  14  15\n"
        }
      ],
      "execution_count": 136
    },
    {
      "id": "d8ab4ef2-a8b4-40a5-a89e-494dcf010aa4",
      "cell_type": "code",
      "source": "# Set Index: transform columns to Multi-Index\n# Inverse function of reset_index() \ndf_reset.set_index(['city', 'year'])\n# le colonne city e year diventano degli indici",
      "metadata": {
        "trusted": true
      },
      "outputs": [
        {
          "execution_count": 137,
          "output_type": "execute_result",
          "data": {
            "text/plain": "            c1      c2    \n             a   b   a   b\ncity  year                \nRome  2018   0   1   2   3\n      2019   4   5   6   7\nTurin 2018   8   9  10  11\n      2019  12  13  14  15",
            "text/html": "<div>\n<style scoped>\n    .dataframe tbody tr th:only-of-type {\n        vertical-align: middle;\n    }\n\n    .dataframe tbody tr th {\n        vertical-align: top;\n    }\n\n    .dataframe thead tr th {\n        text-align: left;\n    }\n\n    .dataframe thead tr:last-of-type th {\n        text-align: right;\n    }\n</style>\n<table border=\"1\" class=\"dataframe\">\n  <thead>\n    <tr>\n      <th></th>\n      <th></th>\n      <th colspan=\"2\" halign=\"left\">c1</th>\n      <th colspan=\"2\" halign=\"left\">c2</th>\n    </tr>\n    <tr>\n      <th></th>\n      <th></th>\n      <th>a</th>\n      <th>b</th>\n      <th>a</th>\n      <th>b</th>\n    </tr>\n    <tr>\n      <th>city</th>\n      <th>year</th>\n      <th></th>\n      <th></th>\n      <th></th>\n      <th></th>\n    </tr>\n  </thead>\n  <tbody>\n    <tr>\n      <th rowspan=\"2\" valign=\"top\">Rome</th>\n      <th>2018</th>\n      <td>0</td>\n      <td>1</td>\n      <td>2</td>\n      <td>3</td>\n    </tr>\n    <tr>\n      <th>2019</th>\n      <td>4</td>\n      <td>5</td>\n      <td>6</td>\n      <td>7</td>\n    </tr>\n    <tr>\n      <th rowspan=\"2\" valign=\"top\">Turin</th>\n      <th>2018</th>\n      <td>8</td>\n      <td>9</td>\n      <td>10</td>\n      <td>11</td>\n    </tr>\n    <tr>\n      <th>2019</th>\n      <td>12</td>\n      <td>13</td>\n      <td>14</td>\n      <td>15</td>\n    </tr>\n  </tbody>\n</table>\n</div>"
          },
          "metadata": {}
        }
      ],
      "execution_count": 137
    },
    {
      "id": "6fb698e0-6f07-4178-b748-5c05affb6fb4",
      "cell_type": "code",
      "source": "# Unstack: transform multi-indexed Series to a Dataframe\nix = [['Rome', 'Rome', 'Turin', 'Turin'], ['2018', '2019', '2018', '2019']]\nmyseries = pd.Series([0,4,8,12], index=ix)\nmyseries\nmydf = myseries.unstack()\nmydf",
      "metadata": {
        "trusted": true
      },
      "outputs": [
        {
          "execution_count": 141,
          "output_type": "execute_result",
          "data": {
            "text/plain": "       2018  2019\nRome      0     4\nTurin     8    12",
            "text/html": "<div>\n<style scoped>\n    .dataframe tbody tr th:only-of-type {\n        vertical-align: middle;\n    }\n\n    .dataframe tbody tr th {\n        vertical-align: top;\n    }\n\n    .dataframe thead th {\n        text-align: right;\n    }\n</style>\n<table border=\"1\" class=\"dataframe\">\n  <thead>\n    <tr style=\"text-align: right;\">\n      <th></th>\n      <th>2018</th>\n      <th>2019</th>\n    </tr>\n  </thead>\n  <tbody>\n    <tr>\n      <th>Rome</th>\n      <td>0</td>\n      <td>4</td>\n    </tr>\n    <tr>\n      <th>Turin</th>\n      <td>8</td>\n      <td>12</td>\n    </tr>\n  </tbody>\n</table>\n</div>"
          },
          "metadata": {}
        }
      ],
      "execution_count": 141
    },
    {
      "id": "b510df67-fb54-4174-a9fc-f66f1ff193ea",
      "cell_type": "code",
      "source": "# Stack: inverse function of unstack()\n# From DataFrame to multi-indexed Series\nmynewser = mydf.stack()\nmynewser",
      "metadata": {
        "trusted": true
      },
      "outputs": [
        {
          "execution_count": 143,
          "output_type": "execute_result",
          "data": {
            "text/plain": "Rome   2018     0\n       2019     4\nTurin  2018     8\n       2019    12\ndtype: int64"
          },
          "metadata": {}
        }
      ],
      "execution_count": 143
    },
    {
      "id": "d15268e4-402e-4224-ac1e-17022c309024",
      "cell_type": "code",
      "source": "# Aggregates on multi-indices\n# Allowed by passing the level parameter\n# Level specifies the row granularity at which the result is computed\nix = [['Rome', 'Rome', 'Turin', 'Turin'], ['2018', '2019', '2018', '2019']]\ncols = [['c1','c1','c2','c2'],['a','b','a','b']]\ndata = np.arange(16).reshape((4,4))\ndf = pd.DataFrame(data, index=ix, columns=cols)\ndf.index.names=['city', 'year']\ndf\n# df.max(level='city')",
      "metadata": {
        "trusted": true
      },
      "outputs": [
        {
          "execution_count": 148,
          "output_type": "execute_result",
          "data": {
            "text/plain": "            c1      c2    \n             a   b   a   b\ncity  year                \nRome  2018   0   1   2   3\n      2019   4   5   6   7\nTurin 2018   8   9  10  11\n      2019  12  13  14  15",
            "text/html": "<div>\n<style scoped>\n    .dataframe tbody tr th:only-of-type {\n        vertical-align: middle;\n    }\n\n    .dataframe tbody tr th {\n        vertical-align: top;\n    }\n\n    .dataframe thead tr th {\n        text-align: left;\n    }\n\n    .dataframe thead tr:last-of-type th {\n        text-align: right;\n    }\n</style>\n<table border=\"1\" class=\"dataframe\">\n  <thead>\n    <tr>\n      <th></th>\n      <th></th>\n      <th colspan=\"2\" halign=\"left\">c1</th>\n      <th colspan=\"2\" halign=\"left\">c2</th>\n    </tr>\n    <tr>\n      <th></th>\n      <th></th>\n      <th>a</th>\n      <th>b</th>\n      <th>a</th>\n      <th>b</th>\n    </tr>\n    <tr>\n      <th>city</th>\n      <th>year</th>\n      <th></th>\n      <th></th>\n      <th></th>\n      <th></th>\n    </tr>\n  </thead>\n  <tbody>\n    <tr>\n      <th rowspan=\"2\" valign=\"top\">Rome</th>\n      <th>2018</th>\n      <td>0</td>\n      <td>1</td>\n      <td>2</td>\n      <td>3</td>\n    </tr>\n    <tr>\n      <th>2019</th>\n      <td>4</td>\n      <td>5</td>\n      <td>6</td>\n      <td>7</td>\n    </tr>\n    <tr>\n      <th rowspan=\"2\" valign=\"top\">Turin</th>\n      <th>2018</th>\n      <td>8</td>\n      <td>9</td>\n      <td>10</td>\n      <td>11</td>\n    </tr>\n    <tr>\n      <th>2019</th>\n      <td>12</td>\n      <td>13</td>\n      <td>14</td>\n      <td>15</td>\n    </tr>\n  </tbody>\n</table>\n</div>"
          },
          "metadata": {}
        }
      ],
      "execution_count": 148
    },
    {
      "id": "c59bac55-6bd6-4939-9f59-b5fb3ded026e",
      "cell_type": "code",
      "source": "# Aggregates on multi-indices\n# df.max(level='year')",
      "metadata": {
        "trusted": true
      },
      "outputs": [],
      "execution_count": 150
    },
    {
      "id": "7a058a93-1c4c-4328-86cb-c16188b9e8b9",
      "cell_type": "code",
      "source": "# Aggregates on multi-indices\n# Can also aggregate columns\n# Specify axis=1\n# df.max(axis=1, level=0)",
      "metadata": {
        "trusted": true
      },
      "outputs": [],
      "execution_count": 151
    },
    {
      "id": "805fe825-63ec-4f8c-9df7-be9dd32cbdc1",
      "cell_type": "code",
      "source": "",
      "metadata": {
        "trusted": true
      },
      "outputs": [],
      "execution_count": null
    }
  ]
}